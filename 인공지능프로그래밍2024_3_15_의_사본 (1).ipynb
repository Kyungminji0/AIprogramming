{
  "nbformat": 4,
  "nbformat_minor": 0,
  "metadata": {
    "colab": {
      "provenance": [],
      "toc_visible": true
    },
    "kernelspec": {
      "name": "python3",
      "display_name": "Python 3"
    },
    "language_info": {
      "name": "python"
    }
  },
  "cells": [
    {
      "cell_type": "code",
      "execution_count": null,
      "metadata": {
        "id": "7aRD6XCvk9rJ"
      },
      "outputs": [],
      "source": [
        "import numpy as np\n",
        "import tensorflow as tf\n",
        "import torch\n"
      ]
    },
    {
      "cell_type": "markdown",
      "source": [
        "# tensor 생성하기\n",
        "\n",
        "\n",
        "- float64 정확함"
      ],
      "metadata": {
        "id": "r0McqTnGTDZl"
      }
    },
    {
      "cell_type": "code",
      "source": [
        "t = (1,2,3,4,5,6)\n",
        "a = np.array(t)\n",
        "print(type(t))\n",
        "print(type(a))"
      ],
      "metadata": {
        "id": "r-nHB2c9uKpP",
        "colab": {
          "base_uri": "https://localhost:8080/"
        },
        "outputId": "4aa947da-3ab0-4c94-f8b0-44be3ad2947c"
      },
      "execution_count": null,
      "outputs": [
        {
          "output_type": "stream",
          "name": "stdout",
          "text": [
            "<class 'tuple'>\n",
            "<class 'numpy.ndarray'>\n"
          ]
        }
      ]
    },
    {
      "cell_type": "code",
      "source": [
        "print(a.ndim) #몇차원 어레이인지\n",
        "print(a.shape) #각차원이 몇개의 숫자로 되어있는지\n",
        "print(a.itemsize) #바이트 반환\n",
        "print(a.size)\n",
        "print(a.dtype)\n",
        "\n",
        "\n",
        "#인스턴스에 따라서 정보를 나타냄"
      ],
      "metadata": {
        "id": "gZv__gLUuo8P",
        "colab": {
          "base_uri": "https://localhost:8080/"
        },
        "outputId": "c29c4eb9-4691-4b8a-b7de-61f63a19aec6"
      },
      "execution_count": null,
      "outputs": [
        {
          "output_type": "stream",
          "name": "stdout",
          "text": [
            "1\n",
            "(6,)\n",
            "8\n",
            "6\n",
            "int64\n"
          ]
        }
      ]
    },
    {
      "cell_type": "code",
      "source": [
        "a = np.array([1.,2.,3.])\n",
        "print(a.dtype)\n",
        "a"
      ],
      "metadata": {
        "id": "EognpgsJwrLh",
        "colab": {
          "base_uri": "https://localhost:8080/"
        },
        "outputId": "d79d91a2-d2d8-412f-8f15-0aff23883fe4"
      },
      "execution_count": null,
      "outputs": [
        {
          "output_type": "stream",
          "name": "stdout",
          "text": [
            "float64\n"
          ]
        },
        {
          "output_type": "execute_result",
          "data": {
            "text/plain": [
              "array([1., 2., 3.])"
            ]
          },
          "metadata": {},
          "execution_count": 5
        }
      ]
    },
    {
      "cell_type": "markdown",
      "source": [
        "# 텐서플로우에서의 텐서 생성하기\n",
        "\n",
        "- 넌파이 기준으로 공부\n",
        "- ndim dtype shape\n",
        "- 텐서: 차원을 의미\n",
        "- 텐서플로우: 32비트\n"
      ],
      "metadata": {
        "id": "gG6xb7PjxTJ5"
      }
    },
    {
      "cell_type": "markdown",
      "source": [
        "- pyorch에서 tensor생성하기\n"
      ],
      "metadata": {
        "id": "OKMxLPet1zU4"
      }
    },
    {
      "cell_type": "markdown",
      "source": [
        "\n",
        "- numpy의 경우 float64 와  int64\n",
        "- tensorflow의 경우 float32 와 int32\n",
        "- torch의 경우 float32와 int4"
      ],
      "metadata": {
        "id": "yyBlTsrE3JK9"
      }
    },
    {
      "cell_type": "markdown",
      "source": [
        "for i in 값 파악\n"
      ],
      "metadata": {
        "id": "nPdNZ7tA4MTM"
      }
    },
    {
      "cell_type": "markdown",
      "source": [
        "- 넌파이로 리스트 만들기\n"
      ],
      "metadata": {
        "id": "VNbfQuW14mPz"
      }
    },
    {
      "cell_type": "markdown",
      "source": [
        "- tensor를 특정 값으로 초기화하기\n",
        ": zeros, ones and full (or fill)\n"
      ],
      "metadata": {
        "id": "s5q132dP4_XA"
      }
    },
    {
      "cell_type": "code",
      "source": [
        "a=np.zeros((3,2))#defalt dtype  float64\n",
        "#a=np.zeros(shape=(4,4),dtype=np.unit8)\n",
        "print(a.dtype)\n",
        "a"
      ],
      "metadata": {
        "id": "RQRdEwt65DRi",
        "colab": {
          "base_uri": "https://localhost:8080/"
        },
        "outputId": "4331ec41-b8e6-4fb4-bb9e-950a832c0ec4"
      },
      "execution_count": null,
      "outputs": [
        {
          "output_type": "stream",
          "name": "stdout",
          "text": [
            "float64\n"
          ]
        },
        {
          "output_type": "execute_result",
          "data": {
            "text/plain": [
              "array([[0., 0.],\n",
              "       [0., 0.],\n",
              "       [0., 0.]])"
            ]
          },
          "metadata": {},
          "execution_count": 7
        }
      ]
    },
    {
      "cell_type": "code",
      "source": [
        "xxx=np.eye(3)\n",
        "print(xxx.dtype)\n",
        "xxx\n"
      ],
      "metadata": {
        "id": "QY7QJPfx6-n9",
        "colab": {
          "base_uri": "https://localhost:8080/"
        },
        "outputId": "9851ef32-de5a-49dc-b393-d2b81ae4b624"
      },
      "execution_count": null,
      "outputs": [
        {
          "output_type": "stream",
          "name": "stdout",
          "text": [
            "float64\n"
          ]
        },
        {
          "output_type": "execute_result",
          "data": {
            "text/plain": [
              "array([[1., 0., 0.],\n",
              "       [0., 1., 0.],\n",
              "       [0., 0., 1.]])"
            ]
          },
          "metadata": {},
          "execution_count": 8
        }
      ]
    },
    {
      "cell_type": "code",
      "source": [
        "a = np.full((1,3),255) #0이나1이아닌 수 넣을때 사용\n",
        "print(a.dtype)\n",
        "a"
      ],
      "metadata": {
        "id": "0sFqeNCo7LxT",
        "colab": {
          "base_uri": "https://localhost:8080/"
        },
        "outputId": "ade751b2-7695-4d70-e693-1d441ef1b37d"
      },
      "execution_count": null,
      "outputs": [
        {
          "output_type": "stream",
          "name": "stdout",
          "text": [
            "int64\n"
          ]
        },
        {
          "output_type": "execute_result",
          "data": {
            "text/plain": [
              "array([[255, 255, 255]])"
            ]
          },
          "metadata": {},
          "execution_count": 11
        }
      ]
    },
    {
      "cell_type": "code",
      "source": [
        "a_tf =tf.fill"
      ],
      "metadata": {
        "id": "joiGeGpR8Cs4"
      },
      "execution_count": null,
      "outputs": []
    },
    {
      "cell_type": "markdown",
      "source": [
        "- 기존의 tensor와 같은 shape의 새로운 tensor생성\n",
        "- 기존의 ndarry와 같은 shape를 가지는 ndarray 생성(zeros_like, ones_like, full_like)\n",
        "- tf의 경우는 다음과 같(zeros_like, ones_like, and fill\n"
      ],
      "metadata": {
        "id": "f_zV0DSk8MA7"
      }
    },
    {
      "cell_type": "markdown",
      "source": [
        "*linspace로 적용시킬시\n",
        "float 64(32가 아님)"
      ],
      "metadata": {
        "id": "NDvZDwGi-xA1"
      }
    },
    {
      "cell_type": "markdown",
      "source": [
        "*np.empty는 초기화를 안하고 새로운 매트릭스를 생성해냄 (쓰는걸 권하지 않음)"
      ],
      "metadata": {
        "id": "yNWClx5N_TzK"
      }
    },
    {
      "cell_type": "markdown",
      "source": [
        "- 난수로 구성된 tensor생성\n",
        "(numpy.random와 toch->ran([d0[...,dn]), tendorflow->random.)"
      ],
      "metadata": {
        "id": "Ri6C9Qe5AH03"
      }
    }
  ]
}