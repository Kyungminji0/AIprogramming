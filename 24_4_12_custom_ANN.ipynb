{
  "nbformat": 4,
  "nbformat_minor": 0,
  "metadata": {
    "colab": {
      "provenance": []
    },
    "kernelspec": {
      "name": "python3",
      "display_name": "Python 3"
    },
    "language_info": {
      "name": "python"
    }
  },
  "cells": [
    {
      "cell_type": "markdown",
      "source": [
        "# Import Library"
      ],
      "metadata": {
        "id": "F7BZnnsQIgXr"
      }
    },
    {
      "cell_type": "code",
      "execution_count": null,
      "metadata": {
        "colab": {
          "base_uri": "https://localhost:8080/"
        },
        "id": "YTkjjOUMlLU5",
        "outputId": "20b66e0e-620f-4246-ac3b-199f76f55329"
      },
      "outputs": [
        {
          "output_type": "stream",
          "name": "stdout",
          "text": [
            "  Preparing metadata (setup.py) ... \u001b[?25l\u001b[?25hdone\n",
            "  Building wheel for torchviz (setup.py) ... \u001b[?25l\u001b[?25hdone\n"
          ]
        }
      ],
      "source": [
        "!pip install --quiet torchviz"
      ]
    },
    {
      "cell_type": "code",
      "source": [
        "!pip install torchsummary"
      ],
      "metadata": {
        "colab": {
          "base_uri": "https://localhost:8080/"
        },
        "id": "IUj3rlMyqL43",
        "outputId": "6dc6db8e-ac0e-498f-8e6f-d00a00333e94"
      },
      "execution_count": null,
      "outputs": [
        {
          "output_type": "stream",
          "name": "stdout",
          "text": [
            "Requirement already satisfied: torchsummary in /usr/local/lib/python3.10/dist-packages (1.5.1)\n"
          ]
        }
      ]
    },
    {
      "cell_type": "markdown",
      "source": [
        "# Data 생성부\n",
        "\n",
        "* input -\n",
        "* output: x (tensor), y (tensor) = y_ideal + noise"
      ],
      "metadata": {
        "id": "rIlqaA4qHLdu"
      }
    },
    {
      "cell_type": "code",
      "source": [
        "import numpy as np\n",
        "import torch\n",
        "import matplotlib.pyplot as plt\n"
      ],
      "metadata": {
        "id": "nfPKbKB_qaBX"
      },
      "execution_count": null,
      "outputs": []
    },
    {
      "cell_type": "code",
      "source": [
        "def gen_xy():\n",
        "    x=np.linspace(-10,10,100)\n",
        "    y_ideal = 1.8 * x +32.\n",
        "    y= y_ideal + 5. * np.random.randn((100))\n",
        "\n",
        "    return x,y,y_ideal\n"
      ],
      "metadata": {
        "id": "0zu2nODfqreE"
      },
      "execution_count": null,
      "outputs": []
    },
    {
      "cell_type": "markdown",
      "source": [
        "### check"
      ],
      "metadata": {
        "id": "5WIgC05t1_Q0"
      }
    },
    {
      "cell_type": "code",
      "source": [
        "x,y, y_ideal = gen_xy()\n",
        "\n",
        "plt.plot(x,y_ideal)\n",
        "plt.scatter(x,y)"
      ],
      "metadata": {
        "colab": {
          "base_uri": "https://localhost:8080/",
          "height": 448
        },
        "id": "1PCF4A0X1fzP",
        "outputId": "5cb58eb8-95c6-4e80-883d-3c0479a1cfe1"
      },
      "execution_count": null,
      "outputs": [
        {
          "output_type": "execute_result",
          "data": {
            "text/plain": [
              "<matplotlib.collections.PathCollection at 0x7be656bf54e0>"
            ]
          },
          "metadata": {},
          "execution_count": 9
        },
        {
          "output_type": "display_data",
          "data": {
            "text/plain": [
              "<Figure size 640x480 with 1 Axes>"
            ],
            "image/png": "[encoded data removed]"
          },
          "metadata": {}
        }
      ]
    },
    {
      "cell_type": "markdown",
      "source": [
        "### tensor로 변환 (+shape)"
      ],
      "metadata": {
        "id": "QRvJ5FCA2IIc"
      }
    },
    {
      "cell_type": "code",
      "source": [
        "x=torch.tensor(x).float()\n",
        "y=torch.tensor(y).float()\n",
        "\n",
        "x=x.reshape(-1,1)\n",
        "y=y.reshape(-1,1)\n",
        "\n",
        "print(x.shape)\n",
        "print(y.shape)\n"
      ],
      "metadata": {
        "colab": {
          "base_uri": "https://localhost:8080/"
        },
        "id": "sRMD0X4XrVOp",
        "outputId": "7b6456da-8439-4988-d184-d4b5eac24f78"
      },
      "execution_count": null,
      "outputs": [
        {
          "output_type": "stream",
          "name": "stdout",
          "text": [
            "torch.Size([100, 1])\n",
            "torch.Size([100, 1])\n"
          ]
        },
        {
          "output_type": "stream",
          "name": "stderr",
          "text": [
            "<ipython-input-13-59b5c5ba969c>:1: UserWarning: To copy construct from a tensor, it is recommended to use sourceTensor.clone().detach() or sourceTensor.clone().detach().requires_grad_(True), rather than torch.tensor(sourceTensor).\n",
            "  x=torch.tensor(x).float()\n",
            "<ipython-input-13-59b5c5ba969c>:2: UserWarning: To copy construct from a tensor, it is recommended to use sourceTensor.clone().detach() or sourceTensor.clone().detach().requires_grad_(True), rather than torch.tensor(sourceTensor).\n",
            "  y=torch.tensor(y).float()\n"
          ]
        }
      ]
    },
    {
      "cell_type": "markdown",
      "source": [
        "# Model"
      ],
      "metadata": {
        "id": "7OZPVeE224X2"
      }
    },
    {
      "cell_type": "code",
      "source": [
        "from torch.nn import Module, init, Linear, Parameter, ReLU\n",
        "from torch import optim"
      ],
      "metadata": {
        "id": "tCA0H3b4ro5N"
      },
      "execution_count": null,
      "outputs": []
    },
    {
      "cell_type": "code",
      "source": [
        "Linear.mro()\n"
      ],
      "metadata": {
        "colab": {
          "base_uri": "https://localhost:8080/"
        },
        "id": "Gcio-zHbtRO5",
        "outputId": "268225f8-c6d7-446f-8894-c2ed0292abe0"
      },
      "execution_count": null,
      "outputs": [
        {
          "output_type": "execute_result",
          "data": {
            "text/plain": [
              "[torch.nn.modules.linear.Linear, torch.nn.modules.module.Module, object]"
            ]
          },
          "metadata": {},
          "execution_count": 15
        }
      ]
    },
    {
      "cell_type": "code",
      "source": [
        "class DsANN(Module): #custom module\n",
        "\n",
        "  def __init__(self,\n",
        "               n_in_f, #input vector의 차원수\n",
        "               n_out_f #output vector의 차원수\n",
        "               ):\n",
        "    #def __init__(self,*args):\n",
        "     super().__init__()# required!\n",
        "\n",
        "     self.linear0 = Linear(n_in_f, 32)\n",
        "     self.relu0 = ReLU()\n",
        "\n",
        "     self.linear1 = Linear(32, 32)\n",
        "     self.relu1 = ReLU()\n",
        "\n",
        "     self.linear2 = Linear(32, n_out_f)\n",
        "\n",
        "     with torch.no_grad():\n",
        "        init.constant_(self.linear0.bias, 0.)\n",
        "        init.xavier_uniform_(self.linear0.weight)\n",
        "\n",
        "  def forward(self,x):\n",
        "        x = self.linear0(x)\n",
        "        x = self.relu0(x)\n",
        "        x = self.linear1(x)\n",
        "        x = self.relu1(x)\n",
        "        y = self.linear2(x)\n",
        "        return y\n",
        "\n",
        "model = DsANN(1,1)"
      ],
      "metadata": {
        "id": "QyXgnqnWsqAl"
      },
      "execution_count": null,
      "outputs": []
    },
    {
      "cell_type": "markdown",
      "source": [
        "### check:Parameters"
      ],
      "metadata": {
        "id": "k5i8kGKd5mm4"
      }
    },
    {
      "cell_type": "code",
      "source": [
        "# for idx, c in enumerate(model.named_parameters()):\n",
        "for idx, c in enumerate(model.parameters()):\n",
        "   print(idx, c.shape)"
      ],
      "metadata": {
        "colab": {
          "base_uri": "https://localhost:8080/"
        },
        "id": "AdVPo-ZSvCcy",
        "outputId": "7f6ed310-c506-4cbf-b084-9f6cc16e7d46"
      },
      "execution_count": null,
      "outputs": [
        {
          "output_type": "stream",
          "name": "stdout",
          "text": [
            "0 torch.Size([32, 1])\n",
            "1 torch.Size([32])\n",
            "2 torch.Size([32, 32])\n",
            "3 torch.Size([32])\n",
            "4 torch.Size([1, 32])\n",
            "5 torch.Size([1])\n"
          ]
        }
      ]
    },
    {
      "cell_type": "markdown",
      "source": [
        "### check: children"
      ],
      "metadata": {
        "id": "AHs_9ouG5vtO"
      }
    },
    {
      "cell_type": "code",
      "source": [
        "#for idx, cl in enumerate(model.children()):\n",
        "for idx, cl in enumerate(model.children()):\n",
        "  print(idx, cl)"
      ],
      "metadata": {
        "colab": {
          "base_uri": "https://localhost:8080/"
        },
        "id": "yasPqTGLvpCU",
        "outputId": "c4fd4bbc-428c-48cc-f578-22271bb16e9c"
      },
      "execution_count": null,
      "outputs": [
        {
          "output_type": "stream",
          "name": "stdout",
          "text": [
            "0 Linear(in_features=1, out_features=32, bias=True)\n",
            "1 ReLU()\n",
            "2 Linear(in_features=32, out_features=32, bias=True)\n",
            "3 ReLU()\n",
            "4 Linear(in_features=32, out_features=1, bias=True)\n"
          ]
        }
      ]
    },
    {
      "cell_type": "markdown",
      "source": [
        "### check: modules"
      ],
      "metadata": {
        "id": "FmyBt35F51xn"
      }
    },
    {
      "cell_type": "code",
      "source": [
        "for idx, modu in enumerate(model.modules()):\n",
        "  print(idx, modu)"
      ],
      "metadata": {
        "colab": {
          "base_uri": "https://localhost:8080/"
        },
        "id": "Rt9DuCj3wWTd",
        "outputId": "4a7e4873-c52c-4d26-a5d7-ab4cb34b82cc"
      },
      "execution_count": null,
      "outputs": [
        {
          "output_type": "stream",
          "name": "stdout",
          "text": [
            "0 DsANN(\n",
            "  (linear0): Linear(in_features=1, out_features=32, bias=True)\n",
            "  (relu0): ReLU()\n",
            "  (linear1): Linear(in_features=32, out_features=32, bias=True)\n",
            "  (relu1): ReLU()\n",
            "  (linear2): Linear(in_features=32, out_features=1, bias=True)\n",
            ")\n",
            "1 Linear(in_features=1, out_features=32, bias=True)\n",
            "2 ReLU()\n",
            "3 Linear(in_features=32, out_features=32, bias=True)\n",
            "4 ReLU()\n",
            "5 Linear(in_features=32, out_features=1, bias=True)\n"
          ]
        }
      ]
    },
    {
      "cell_type": "code",
      "source": [
        "x = x.reshape(-1,1)\n",
        "x.shape"
      ],
      "metadata": {
        "colab": {
          "base_uri": "https://localhost:8080/"
        },
        "id": "oXIWfCRow6Cz",
        "outputId": "1879998b-6e4f-4969-f0de-051c9fbbd3b9"
      },
      "execution_count": null,
      "outputs": [
        {
          "output_type": "execute_result",
          "data": {
            "text/plain": [
              "torch.Size([100, 1])"
            ]
          },
          "metadata": {},
          "execution_count": 24
        }
      ]
    },
    {
      "cell_type": "code",
      "source": [
        "\n",
        "pred = model(x)\n",
        "pred.shape\n"
      ],
      "metadata": {
        "id": "pdBIAG38zE9L",
        "colab": {
          "base_uri": "https://localhost:8080/"
        },
        "outputId": "2077bf46-825e-453c-c9b8-2a5679f109d1"
      },
      "execution_count": null,
      "outputs": [
        {
          "output_type": "execute_result",
          "data": {
            "text/plain": [
              "torch.Size([100, 1])"
            ]
          },
          "metadata": {},
          "execution_count": 30
        }
      ]
    },
    {
      "cell_type": "code",
      "source": [
        "pred = Linear(1,1)(x)\n",
        "pred.shape"
      ],
      "metadata": {
        "id": "2exp9eKO1Xkq",
        "colab": {
          "base_uri": "https://localhost:8080/"
        },
        "outputId": "74398d83-61a1-4b24-cade-997f1d8755cd"
      },
      "execution_count": null,
      "outputs": [
        {
          "output_type": "execute_result",
          "data": {
            "text/plain": [
              "torch.Size([100, 1])"
            ]
          },
          "metadata": {},
          "execution_count": 31
        }
      ]
    },
    {
      "cell_type": "code",
      "source": [
        "x.shape"
      ],
      "metadata": {
        "colab": {
          "base_uri": "https://localhost:8080/"
        },
        "id": "mKDlhtiW5uk2",
        "outputId": "710e0d18-c8f4-4675-c73d-d25a451e7f2a"
      },
      "execution_count": null,
      "outputs": [
        {
          "output_type": "execute_result",
          "data": {
            "text/plain": [
              "torch.Size([100, 1])"
            ]
          },
          "metadata": {},
          "execution_count": 34
        }
      ]
    },
    {
      "cell_type": "code",
      "source": [
        "y.shape"
      ],
      "metadata": {
        "colab": {
          "base_uri": "https://localhost:8080/"
        },
        "id": "VtX91VTr5zjG",
        "outputId": "0316c538-e512-4779-9426-eca09db7e3b2"
      },
      "execution_count": null,
      "outputs": [
        {
          "output_type": "execute_result",
          "data": {
            "text/plain": [
              "torch.Size([100, 1])"
            ]
          },
          "metadata": {},
          "execution_count": 35
        }
      ]
    },
    {
      "cell_type": "code",
      "source": [
        "y=y.reshape(-1,1)\n",
        "y.shape"
      ],
      "metadata": {
        "colab": {
          "base_uri": "https://localhost:8080/"
        },
        "id": "RB_wCRvd-KQC",
        "outputId": "0c9d1877-e432-4e80-deaf-37680d46381b"
      },
      "execution_count": null,
      "outputs": [
        {
          "output_type": "execute_result",
          "data": {
            "text/plain": [
              "torch.Size([100, 1])"
            ]
          },
          "metadata": {},
          "execution_count": 42
        }
      ]
    },
    {
      "cell_type": "code",
      "source": [
        "pred.shape"
      ],
      "metadata": {
        "colab": {
          "base_uri": "https://localhost:8080/"
        },
        "id": "1WnCnslB-sPX",
        "outputId": "26b30bf8-e7fa-47f3-e5ce-acaa81079ab7"
      },
      "execution_count": null,
      "outputs": [
        {
          "output_type": "execute_result",
          "data": {
            "text/plain": [
              "torch.Size([100, 1])"
            ]
          },
          "metadata": {},
          "execution_count": 43
        }
      ]
    },
    {
      "cell_type": "markdown",
      "source": [
        "# Loss"
      ],
      "metadata": {
        "id": "LPr7rOMqHeNH"
      }
    },
    {
      "cell_type": "code",
      "source": [
        "from torch.nn import MSELoss\n",
        "\n",
        "loss_fnc = MSELoss()\n",
        "\n",
        "l = loss_fnc(pred, y)\n",
        "l"
      ],
      "metadata": {
        "colab": {
          "base_uri": "https://localhost:8080/"
        },
        "id": "wO7zpWOR5GJn",
        "outputId": "c2b10f7c-e4ae-472f-d82e-5f9914194669"
      },
      "execution_count": null,
      "outputs": [
        {
          "output_type": "execute_result",
          "data": {
            "text/plain": [
              "tensor(1195.3796, grad_fn=<MseLossBackward0>)"
            ]
          },
          "metadata": {},
          "execution_count": 44
        }
      ]
    },
    {
      "cell_type": "markdown",
      "source": [
        "#Training Loop"
      ],
      "metadata": {
        "id": "Z4O2Rfx9Hi81"
      }
    },
    {
      "cell_type": "code",
      "source": [
        "from torch import optim\n",
        "\n",
        "\n",
        "def training_loop(\n",
        "    x, y,\n",
        "    model,\n",
        "    lr,\n",
        "    n_epochs,\n",
        "    ):\n",
        "\n",
        "  model.train()#train모드\n",
        "  #model.eval()#evaluation모드, 안 넣어도 동작하는 데 아무 문제 없음\n",
        "  optimizer = optim.SGD(\n",
        "    model.parameters(),\n",
        "    lr = lr,\n",
        "  )\n",
        "  print(n_epochs)\n",
        "\n",
        "  for epoch in range(n_epochs):\n",
        "    pred = model(x)\n",
        "    l = loss_fnc(pred, y)\n",
        "    if torch.isinf(l).any():#error가 무한대로 튀면, 또 많은 error들이 무한대로 튀면\n",
        "      print('Error: diverge!')\n",
        "      break\n",
        "\n",
        "    optimizer.zero_grad()#optimizer에서 관리하는 것들을 싹 다 처리\n",
        "    l.backward()#back pripagation\n",
        "    optimizer.step()\n",
        "\n",
        "    if epoch % 1000 == 0:\n",
        "      print(f'Epoch {epoch}: Loss {float(l):0.4f}')\n",
        "\n",
        "  return model\n",
        "\n"
      ],
      "metadata": {
        "id": "hPeNkKoE6OIj"
      },
      "execution_count": null,
      "outputs": []
    },
    {
      "cell_type": "code",
      "source": [
        "print(type(x))\n",
        "print(type(y))"
      ],
      "metadata": {
        "colab": {
          "base_uri": "https://localhost:8080/"
        },
        "id": "pz3yg4taIJ2w",
        "outputId": "675b95b8-5533-42bd-f109-bfd047bc83b6"
      },
      "execution_count": null,
      "outputs": [
        {
          "output_type": "stream",
          "name": "stdout",
          "text": [
            "<class 'torch.Tensor'>\n",
            "<class 'torch.Tensor'>\n"
          ]
        }
      ]
    },
    {
      "cell_type": "markdown",
      "source": [
        "#Train"
      ],
      "metadata": {
        "id": "Y4bbit5jIAHB"
      }
    },
    {
      "cell_type": "code",
      "source": [
        "model = DsANN(1,1)\n",
        "model = training_loop(\n",
        "    x,y,\n",
        "    model,\n",
        "    1e-3,\n",
        "    7000,\n",
        ")"
      ],
      "metadata": {
        "id": "Y9ONOw3k8dH0",
        "colab": {
          "base_uri": "https://localhost:8080/"
        },
        "outputId": "ddb9d462-686d-4ca5-cec2-da20074bb46f"
      },
      "execution_count": null,
      "outputs": [
        {
          "output_type": "stream",
          "name": "stdout",
          "text": [
            "7000\n",
            "Epoch 0: Loss 1188.4923\n",
            "Epoch 1000: Loss 24.9589\n",
            "Epoch 2000: Loss 24.6354\n",
            "Epoch 3000: Loss 24.7628\n",
            "Epoch 4000: Loss 24.4904\n",
            "Epoch 5000: Loss 24.6377\n",
            "Epoch 6000: Loss 24.6053\n"
          ]
        }
      ]
    },
    {
      "cell_type": "markdown",
      "source": [
        "# Evaluation"
      ],
      "metadata": {
        "id": "iEUgor6jIXEv"
      }
    },
    {
      "cell_type": "code",
      "source": [
        "pred=model(x)\n",
        "\n",
        "plt.scatter(x.detach().numpy(), y.detach().numpy())\n",
        "plt.plot(x.detach().numpy(), pred.detach().numpy(), color = 'r')\n",
        "plt.plot(x.detach().numpy(), y_ideal, color = 'g')"
      ],
      "metadata": {
        "id": "1l2bBhP481Wd",
        "colab": {
          "base_uri": "https://localhost:8080/",
          "height": 448
        },
        "outputId": "d057b679-c14a-4fd2-82d3-a7b0384c903a"
      },
      "execution_count": null,
      "outputs": [
        {
          "output_type": "execute_result",
          "data": {
            "text/plain": [
              "[<matplotlib.lines.Line2D at 0x7be63baf8e80>]"
            ]
          },
          "metadata": {},
          "execution_count": 77
        },
        {
          "output_type": "display_data",
          "data": {
            "text/plain": [
              "<Figure size 640x480 with 1 Axes>"
            ],
            "image/png": "[encoded data removed]"
          },
          "metadata": {}
        }
      ]
    },
    {
      "cell_type": "code",
      "source": [
        "model = training_loop(\n",
        "    x,y,\n",
        "    Linear(1,1),\n",
        "    1e-3,\n",
        "    7000,\n",
        ")\n"
      ],
      "metadata": {
        "colab": {
          "base_uri": "https://localhost:8080/"
        },
        "id": "tW7B9RTmExva",
        "outputId": "658e8f88-6b58-43fe-dd3c-7d051deef365"
      },
      "execution_count": null,
      "outputs": [
        {
          "output_type": "stream",
          "name": "stdout",
          "text": [
            "7000\n",
            "Epoch 0: Loss 1231.0238\n",
            "Epoch 1000: Loss 46.4766\n",
            "Epoch 2000: Loss 27.8687\n",
            "Epoch 3000: Loss 27.5292\n",
            "Epoch 4000: Loss 27.5230\n",
            "Epoch 5000: Loss 27.5229\n",
            "Epoch 6000: Loss 27.5229\n"
          ]
        }
      ]
    },
    {
      "cell_type": "code",
      "source": [
        "pred = model(x)\n",
        "\n",
        "plt.scatter(x.detach().numpy(), y.detach().numpy())\n",
        "plt.plot(x.detach().numpy(), pred.detach().numpy(), color = 'r')\n",
        "plt.plot(x.detach().numpy(), y_ideal, color = 'g')"
      ],
      "metadata": {
        "id": "iNa8nGNJFIao",
        "colab": {
          "base_uri": "https://localhost:8080/",
          "height": 448
        },
        "outputId": "58906361-8d41-466a-eeec-49fc2b0a0188"
      },
      "execution_count": null,
      "outputs": [
        {
          "output_type": "execute_result",
          "data": {
            "text/plain": [
              "[<matplotlib.lines.Line2D at 0x7be63b7275b0>]"
            ]
          },
          "metadata": {},
          "execution_count": 81
        },
        {
          "output_type": "display_data",
          "data": {
            "text/plain": [
              "<Figure size 640x480 with 1 Axes>"
            ],
            "image/png": "[encoded data removed]"
          },
          "metadata": {}
        }
      ]
    }
  ]
}