{
  "nbformat": 4,
  "nbformat_minor": 0,
  "metadata": {
    "colab": {
      "provenance": []
    },
    "kernelspec": {
      "name": "python3",
      "display_name": "Python 3"
    },
    "language_info": {
      "name": "python"
    }
  },
  "cells": [
    {
      "cell_type": "markdown",
      "source": [
        "# PyTorch: classification에서의 Output Func와 Loss Func\n",
        "\n",
        "* 최종 출력- activation functions\n",
        ": Sigmoid, Softmax, LogSoftmax\n",
        "\n",
        "* Loss function: BCELoss,BCEWithLogitsLoss, CrossEntropyLoss, NLLLoss"
      ],
      "metadata": {
        "id": "RxAvKV5SAhx-"
      }
    },
    {
      "cell_type": "markdown",
      "source": [
        "## 활성화 함수\n"
      ],
      "metadata": {
        "id": "lSbYXvrO_NsW"
      }
    },
    {
      "cell_type": "markdown",
      "source": [
        "### 1. sigmoid\n",
        ":logit 입력0과 1사이 pobability값으로 변환\n"
      ],
      "metadata": {
        "id": "g7B3N64vJTis"
      }
    },
    {
      "cell_type": "code",
      "source": [
        "import torch\n",
        "# import torch.nn.functional as F->functional module\n",
        "\n",
        "# 원시 출력값 (logits)\n",
        "logits = torch.tensor([2.0, -1.0, 0.5])\n",
        "\n",
        "# Sigmoid 적용\n",
        "sigmoid_outputs = torch.sigmoid(logits)\n",
        "\n",
        "# Print Output\n",
        "torch.set_printoptions(precision=2) #소수점 둘째자리까지 출력\n",
        "print('Sigmoid outputs:', sigmoid_outputs)"
      ],
      "metadata": {
        "colab": {
          "base_uri": "https://localhost:8080/"
        },
        "id": "Vq76KnysBYKK",
        "outputId": "ae6e4135-258a-40b5-9627-2b486aec55e8"
      },
      "execution_count": null,
      "outputs": [
        {
          "output_type": "stream",
          "name": "stdout",
          "text": [
            "Sigmoid outputs: tensor([0.88, 0.27, 0.62])\n"
          ]
        }
      ]
    },
    {
      "cell_type": "code",
      "source": [
        "type(torch.sigmoid)"
      ],
      "metadata": {
        "colab": {
          "base_uri": "https://localhost:8080/"
        },
        "id": "Arl4O1JfFYvW",
        "outputId": "89d551dc-9830-4ece-e57f-d99e7770484c"
      },
      "execution_count": null,
      "outputs": [
        {
          "output_type": "execute_result",
          "data": {
            "text/plain": [
              "builtin_function_or_method"
            ]
          },
          "metadata": {},
          "execution_count": 6
        }
      ]
    },
    {
      "cell_type": "markdown",
      "source": [
        "### 2. softmax(시그모이드의 일반형)\n",
        ": class에 해당하는 logit score로 구성된 vector를 입력, 각각 속할 probability를 요소로 가지는 vector\n",
        "* 모든 요소의 값을 더하면 1.0이 됨.\n",
        "\n",
        "* **mutually** exclusive로 class가 결정되는 경우의 최종 출력 vector 구하는데 사용\n",
        "\n"
      ],
      "metadata": {
        "id": "Wal0aV2JB3aa"
      }
    },
    {
      "cell_type": "code",
      "source": [
        "import torch\n",
        "import torch.nn.functional as F\n",
        "\n",
        "#원시 출력값(logits)\n",
        "logits = torch.tensor([2.0, 1.0, 0.1])\n",
        "\n",
        "#softmax적용\n",
        "softmax_outputs = F.softmax(logits, dim=-1) #-1을 권함(마지막 정보), 0은 문제가 발생할 수 있음\n",
        "print(f'{softmax_outputs=}')"
      ],
      "metadata": {
        "colab": {
          "base_uri": "https://localhost:8080/"
        },
        "id": "hfSUrHJsB55G",
        "outputId": "c01fd9d1-08d9-4871-fe42-14e5bc402f9c"
      },
      "execution_count": null,
      "outputs": [
        {
          "output_type": "stream",
          "name": "stdout",
          "text": [
            "softmax_outputs=tensor([0.66, 0.24, 0.10])\n"
          ]
        }
      ]
    },
    {
      "cell_type": "markdown",
      "source": [
        "* torch.nn.functional: PyTorch에서 다양한 신경망 연산 및 함수들을 제공하는 module.\n",
        "\n",
        "* 신경망의 여러 layers, activation functionis, loss functions 등을 Functional API로 제공.\n",
        "\n",
        "* Class의 인스턴스로 만드는 경우보다 보다 쉽고 독립적으로 사용가능하다는 장점-> 주로 학습되는 weight이 없는 함수들의 사용에 많이 사용되는 방식"
      ],
      "metadata": {
        "id": "5-cBuGhBH0Ap"
      }
    },
    {
      "cell_type": "markdown",
      "source": [
        "*class를 이용하여 softmax 사용*"
      ],
      "metadata": {
        "id": "7ojzTOFUJZWO"
      }
    },
    {
      "cell_type": "code",
      "source": [
        "import torch\n",
        "# Softmax 모듈 초기화 (dim=-1은 텐서의 마지막 차원을 기준으로 softmax를 적용)\n",
        "softmax = torch.nn.Softmax(dim=-1)\n",
        "\n",
        "# 원시 출력값 (logits)\n",
        "logits = torch.tensor([2.0, 1.0, 0.1])\n",
        "\n",
        "# Softmax 적용.\n",
        "softmax_outputs = softmax(logits)\n",
        "print(f'{softmax_outputs=}')"
      ],
      "metadata": {
        "colab": {
          "base_uri": "https://localhost:8080/"
        },
        "id": "AtKtHa4mJdvJ",
        "outputId": "94b7be1e-6d15-4be0-de2c-fd6d644f6b74"
      },
      "execution_count": null,
      "outputs": [
        {
          "output_type": "stream",
          "name": "stdout",
          "text": [
            "softmax_outputs=tensor([0.66, 0.24, 0.10])\n"
          ]
        }
      ]
    },
    {
      "cell_type": "markdown",
      "source": [
        "### 3. LogSoftmax\n",
        ": softmax의 출력에 로그 적용\n",
        "* softmax로 얻어진 확률분포에 해당하는 vector를 일종의 likelihood로 생각\n",
        "* 모델이 정답인 class의 likelihood를 극대화하도록 최적화할 때 사용되는 loss 함수인\n",
        "* negative log likelihood (NLL) loss 와 함께 사용되게 하기 위해  \n",
        "* softmax결과에 log를 취한 결과가 나오도록 한 함수.\n",
        "\n",
        "*softmax에 log를 취하는 형태의 구현은 0에 가까운 값을 가질 때, 수치해석적 구현에 문제가 발생하기 쉽기 때문에*\n",
        "\n",
        "이를 고려하여 stable하게 동작하도록 구현한 LogSofmax를 PyTorch가 제공\n",
        "\n",
        "거의 대부분의 경우, 손실함수  **NLLLoss** 와 함께 사용\n"
      ],
      "metadata": {
        "id": "TSxg4Zh5CSRW"
      }
    },
    {
      "cell_type": "code",
      "source": [
        "# LogSoftmax 적용\n",
        "log_softmax_outputs = F.log_softmax(logits, dim=0)\n",
        "print('LogSoftmax outputs:', log_softmax_outputs)"
      ],
      "metadata": {
        "colab": {
          "base_uri": "https://localhost:8080/"
        },
        "id": "NXV7ZSCiI153",
        "outputId": "3d542f49-fd03-4a25-9768-b976685afd45"
      },
      "execution_count": null,
      "outputs": [
        {
          "output_type": "stream",
          "name": "stdout",
          "text": [
            "LogSoftmax outputs: tensor([-0.42, -1.42, -2.32])\n"
          ]
        }
      ]
    },
    {
      "cell_type": "markdown",
      "source": [
        "## 손실함수(Loss Functions)"
      ],
      "metadata": {
        "id": "Yfg9MWFxMM-o"
      }
    },
    {
      "cell_type": "markdown",
      "source": [
        "- 모델의 성능을 하나의 scalar값으로 나타냄\n",
        "- loss function이 클수록 예측치는 label과 차이가 큼\n",
        "=> 모델의 parameters가 아직 최적의 값과 거리가 큼 의미"
      ],
      "metadata": {
        "id": "fEKNVvHbMTh1"
      }
    },
    {
      "cell_type": "markdown",
      "source": [
        "### 1. BCELoss (Binary Cross Entropy Loss)\n"
      ],
      "metadata": {
        "id": "aGhdHOkmMpP9"
      }
    },
    {
      "cell_type": "markdown",
      "source": [
        "- binary classification에 사용되는 loss func.\n",
        "-  model의 출력과 타겟 라벨이 모두 0과 1 사이의 값\n",
        "=> 모델의 출력은 Sigmoid\n",
        "  - pred: Sigmoid (logistic function)를 통과한 probability 값.\n",
        "  - label: 0과 1 사이의 실제 라벨 값 (0과 1만 선택한다해도, float tensor여야 함.)"
      ],
      "metadata": {
        "id": "D3sC_ZylMy8B"
      }
    },
    {
      "cell_type": "code",
      "source": [
        "import torch.nn as nn\n",
        "\n",
        "# 예측값과 실제값\n",
        "outputs = torch.tensor([0.7, 0.2, 0.9], requires_grad=True)#.float() # 가상의 tensor를 사용하여 값이 나오는지 확인함\n",
        "#70%, 20% 90%\n",
        "targets = torch.tensor([1.0, 0.0, 0.0]).float()#float로 들어가야함,int는 안됨 # 가상의 tensor를 사용하여 값이 나오는지 확인함\n",
        "#정확히 맞춤을 의미\n",
        "\n",
        "# BCELoss 선언\n",
        "criterion = nn.BCELoss()\n",
        "\n",
        "# 시그모이드 활성화 적용\n",
        "outputs = torch.sigmoid(outputs)\n",
        "\n",
        "# 손실 계산\n",
        "loss = criterion(outputs, targets)\n",
        "print(f'{outputs=}')\n",
        "print('BCELoss:', loss.item())"
      ],
      "metadata": {
        "colab": {
          "base_uri": "https://localhost:8080/"
        },
        "id": "wNkhLoiFK07P",
        "outputId": "102d6799-df7f-4362-eee0-9fc2115b977b"
      },
      "execution_count": null,
      "outputs": [
        {
          "output_type": "stream",
          "name": "stdout",
          "text": [
            "outputs=tensor([0.67, 0.55, 0.71], grad_fn=<SigmoidBackward0>)\n",
            "BCELoss: 0.8141595721244812\n"
          ]
        }
      ]
    },
    {
      "cell_type": "markdown",
      "source": [
        "### 2. BCE With Logits Loss"
      ],
      "metadata": {
        "id": "p7ZsYfqHOLz8"
      }
    },
    {
      "cell_type": "markdown",
      "source": [
        "- BCELoss의 variation, Binary Classification.\n",
        "- 내부적으로 sigmoid 함수를 결합시켜놓았기 때문에, 입력으로 logit score를 받을 수 있음\n",
        "\n",
        " - pred: Sigmoid Activation Function의 입력값인 logit score.\n",
        " - label: 0과 1 사이의 실제 라벨 값"
      ],
      "metadata": {
        "id": "4zKEe5tANtAJ"
      }
    },
    {
      "cell_type": "code",
      "source": [
        "import torch\n",
        "import torch.nn as nn\n",
        "\n",
        "# 원시 출력값 (시그모이드 활성화 적용 전 raw score)\n",
        "raw_outputs = torch.tensor([0.5, -1.0, 2.0], requires_grad=True)\n",
        "targets = torch.tensor([1.0, 0.0, 1.0])\n",
        "\n",
        "# BCEWithLogitsLoss 선언\n",
        "criterion = nn.BCEWithLogitsLoss()\n",
        "\n",
        "# 손실 계산 (시그모이드 내부 적용)\n",
        "loss = criterion(raw_outputs, targets)\n",
        "print(f'BCEWithLogitsLoss: {loss.item():.4f}')"
      ],
      "metadata": {
        "colab": {
          "base_uri": "https://localhost:8080/"
        },
        "id": "UmIMo6ZxPLlQ",
        "outputId": "ec086687-9d17-4d93-fdfd-a3b857eb6af5"
      },
      "execution_count": null,
      "outputs": [
        {
          "output_type": "stream",
          "name": "stdout",
          "text": [
            "BCEWithLogitsLoss: 0.3048\n"
          ]
        }
      ]
    },
    {
      "cell_type": "markdown",
      "source": [
        "### 3. CrossEntropyLoss\n"
      ],
      "metadata": {
        "id": "930ldSJTPjZo"
      }
    },
    {
      "cell_type": "markdown",
      "source": [
        "- multi-class classification에 사용\n",
        "\n",
        "***주의**\n",
        "- PyTorch의CrossEntropyLoss는 내부적으로 Softmax 함수를 적용하고 있어서, **logit score vector** 를 입력"
      ],
      "metadata": {
        "id": "URuc3cJ2PrK9"
      }
    },
    {
      "cell_type": "markdown",
      "source": [
        " - 입력: softmax activation 안 거친 ANN의 raw score.\n",
        " - 출력: 클래스 인덱스 (예: 0, 1, 2, ...) : long (=int64)를 dtype로 가짐."
      ],
      "metadata": {
        "id": "DOrCMgpSQWey"
      }
    },
    {
      "cell_type": "code",
      "source": [
        "import torch\n",
        "import torch.nn as nn\n",
        "\n",
        "# 원시 출력값 (softmax 활성화 적용 전)\n",
        "raw_outputs = torch.tensor(\n",
        "\t[[1.0, 2.0, 3.0],\n",
        "         [1.0, 2.0, 0.0],\n",
        "         [0.0, 2.0, 1.0]],\n",
        "        requires_grad=True).float()\n",
        "targets = torch.tensor([2, 0, 1]).long()# 1행2열, 2행 0열, 3행1열이 가장큼, # 각 샘플의 클래스 인덱스\n",
        "#.long: 정수로 저장\n",
        "print(targets.dtype)\n",
        "\n",
        "# CrossEntropyLoss 선언\n",
        "criterion = nn.CrossEntropyLoss()\n",
        "\n",
        "# 손실 계산 (softmax 내부 적용)\n",
        "loss = criterion(raw_outputs, targets)\n",
        "print(f'CrossEntropyLoss: {loss.item():.2f}')"
      ],
      "metadata": {
        "colab": {
          "base_uri": "https://localhost:8080/"
        },
        "id": "1FruXHGkQgbP",
        "outputId": "0f0444ab-1dd5-414f-d47c-7f39906cfe6d"
      },
      "execution_count": null,
      "outputs": [
        {
          "output_type": "stream",
          "name": "stdout",
          "text": [
            "torch.int64\n",
            "CrossEntropyLoss: 0.74\n"
          ]
        }
      ]
    },
    {
      "cell_type": "markdown",
      "source": [
        "### 3. NLLLoss (Negative Log Likelihood Loss)"
      ],
      "metadata": {
        "id": "qbX0XQO7RPXJ"
      }
    },
    {
      "cell_type": "markdown",
      "source": [
        "- crossentropy와 유사\n",
        "- **로그 확률을 입력**으로 사용, LogSoftmax와 함께 사용\n",
        " - 실제로는 negation과 mean (또는 sum)만의 처리만 이루어짐.\n",
        " - softmax와 log는 LogSoftmax에서 이루어짐.\n",
        "\n",
        "- **입력: 로그 확률** (LogSoftmax의 출력)\n",
        "- 출력: 클래스 인덱스 (예: 0, 1, 2, ...)"
      ],
      "metadata": {
        "id": "wa9OTdmNRSYX"
      }
    },
    {
      "cell_type": "code",
      "source": [
        "import torch\n",
        "import torch.nn\n",
        "\n",
        "# 모델 출력\n",
        "logits = torch.tensor(\n",
        "\t[[0.1, 0.2, 0.7], # max idx 2\n",
        "     \t [0.8, 0.1, 0.1], # max idx 0\n",
        "     \t [0.3, 0.5, 0.2]], # max idx 1\n",
        "    \trequires_grad=True).float()\n",
        "\n",
        "# 타겟 클래스 인덱스\n",
        "targets = torch.tensor([2, 0, 1]).long()\n",
        "\n",
        "# 로그 소프트맥스 적용\n",
        "log_softmax = F.log_softmax(logits, dim=-1)# 마지막이라는 뜻에서 dim= -1이라 둠\n",
        "\n",
        "# NLLLoss 선언\n",
        "criterion = nn.NLLLoss()\n",
        "loss = criterion(log_softmax, targets)\n",
        "print(f'NLLLoss with LogSoftmax: {loss.item():.2f}')"
      ],
      "metadata": {
        "colab": {
          "base_uri": "https://localhost:8080/"
        },
        "id": "4QJzad-8SDSn",
        "outputId": "ed6796b5-7ca0-4c7a-9c3d-8554534f1b3a"
      },
      "execution_count": null,
      "outputs": [
        {
          "output_type": "stream",
          "name": "stdout",
          "text": [
            "NLLLoss with LogSoftmax: 0.80\n"
          ]
        }
      ]
    },
    {
      "cell_type": "markdown",
      "source": [
        "## 결론\n",
        "\n"
      ],
      "metadata": {
        "id": "RcnKDObUSgM8"
      }
    },
    {
      "cell_type": "markdown",
      "source": [
        "- Binary Classification:\n",
        " - BCELoss 또는 BCEWithLogitsLoss 사용.\n",
        "\n",
        "- Multiple-class Classification:\n",
        " - CrossEntropyLoss 또는 LogSoftmax와 NLLLoss의 조합을 사용\n",
        "\n",
        "- Activation Function:\n",
        " - Sigmoid는 binary classification(이진 분류)에서,\n",
        " - Softmax는 mutiple-class classification(다중 클래스)의 확률을 직접 계산\n",
        " - LogSoftmax는 확률의 로그 값을 계산\n",
        " =>수치적으로 stable(안정적)인 결과를 제공."
      ],
      "metadata": {
        "id": "8t03fRAfTLQw"
      }
    },
    {
      "cell_type": "markdown",
      "source": [
        "2번째 정리"
      ],
      "metadata": {
        "id": "ZMRuqqupW3xq"
      }
    },
    {
      "cell_type": "markdown",
      "source": [
        "# Dataset: Wisconsin Breast Cancer Dataset"
      ],
      "metadata": {
        "id": "92jnbs61VoIT"
      }
    },
    {
      "cell_type": "markdown",
      "source": [
        "- Wisconsin Breast Cancer Dataset (WBCD)\n",
        ": 오늘날 Machine Learning 및 Data Science 분야에서 binary classification 교육용으로 자주 사용되는 Dataset"
      ],
      "metadata": {
        "id": "ZR9WqKS_Vs19"
      }
    },
    {
      "cell_type": "markdown",
      "source": [
        " - Wisconsin 대학의 병리학자인 Dr. William H. Wolberg가 수집한 dataset\n",
        "  -  scikit learn 등에서 기본 dataset으로 구할 수 있기 때문에 굳이 위의 사이트를 사용할 필요 x."
      ],
      "metadata": {
        "id": "YaPqrVbSVzaX"
      }
    },
    {
      "cell_type": "markdown",
      "source": [
        " ## 특징"
      ],
      "metadata": {
        "id": "yzMXx5vzY2kv"
      }
    },
    {
      "cell_type": "markdown",
      "source": [
        "- 해당 Dataset은 Breast Cancer Cell Sample에 대한 세포핵의 특성을 기반으로 구성"
      ],
      "metadata": {
        "id": "6r4RCt07Y164"
      }
    },
    {
      "cell_type": "markdown",
      "source": [
        "  - input vector들은 각 셀 핵의 크기, 모양, 질감 등 다양한 측정 값($10\\times 3$)을 포함하고 있음."
      ],
      "metadata": {
        "id": "vbOwlI1dYytM"
      }
    },
    {
      "cell_type": "code",
      "source": [
        "from sklearn.datasets import load_breast_cancer\n",
        "\n",
        "cancer = load_breast_cancer()\n",
        "print(type(cancer))\n",
        "dir(cancer)"
      ],
      "metadata": {
        "colab": {
          "base_uri": "https://localhost:8080/"
        },
        "id": "1eLGY9txTBgW",
        "outputId": "7cc74a2d-42dd-4433-dff0-6cac3538fdd4"
      },
      "execution_count": null,
      "outputs": [
        {
          "output_type": "stream",
          "name": "stdout",
          "text": [
            "<class 'sklearn.utils._bunch.Bunch'>\n"
          ]
        },
        {
          "output_type": "execute_result",
          "data": {
            "text/plain": [
              "['DESCR',\n",
              " 'data',\n",
              " 'data_module',\n",
              " 'feature_names',\n",
              " 'filename',\n",
              " 'frame',\n",
              " 'target',\n",
              " 'target_names']"
            ]
          },
          "metadata": {},
          "execution_count": 20
        }
      ]
    },
    {
      "cell_type": "markdown",
      "source": [
        "### Exploratory Data Analysis (EDA)"
      ],
      "metadata": {
        "id": "diJMfHaVXIDP"
      }
    },
    {
      "cell_type": "markdown",
      "source": [
        "- 탐색적 데이터 분석-> df를 이용"
      ],
      "metadata": {
        "id": "GAGwjdOvYSZX"
      }
    },
    {
      "cell_type": "code",
      "source": [
        "from IPython import display\n",
        "display.Markdown(cancer.DESCR)"
      ],
      "metadata": {
        "colab": {
          "base_uri": "https://localhost:8080/",
          "height": 1000
        },
        "id": "fJ14xi9IXsFg",
        "outputId": "394db72d-0a9a-4713-c8b0-43961bad42c3"
      },
      "execution_count": null,
      "outputs": [
        {
          "output_type": "execute_result",
          "data": {
            "text/plain": [
              "<IPython.core.display.Markdown object>"
            ],
            "text/markdown": ".. _breast_cancer_dataset:\n\nBreast cancer wisconsin (diagnostic) dataset\n--------------------------------------------\n\n**Data Set Characteristics:**\n\n    :Number of Instances: 569\n\n    :Number of Attributes: 30 numeric, predictive attributes and the class\n\n    :Attribute Information:\n        - radius (mean of distances from center to points on the perimeter)\n        - texture (standard deviation of gray-scale values)\n        - perimeter\n        - area\n        - smoothness (local variation in radius lengths)\n        - compactness (perimeter^2 / area - 1.0)\n        - concavity (severity of concave portions of the contour)\n        - concave points (number of concave portions of the contour)\n        - symmetry\n        - fractal dimension (\"coastline approximation\" - 1)\n\n        The mean, standard error, and \"worst\" or largest (mean of the three\n        worst/largest values) of these features were computed for each image,\n        resulting in 30 features.  For instance, field 0 is Mean Radius, field\n        10 is Radius SE, field 20 is Worst Radius.\n\n        - class:\n                - WDBC-Malignant\n                - WDBC-Benign\n\n    :Summary Statistics:\n\n    ===================================== ====== ======\n                                           Min    Max\n    ===================================== ====== ======\n    radius (mean):                        6.981  28.11\n    texture (mean):                       9.71   39.28\n    perimeter (mean):                     43.79  188.5\n    area (mean):                          143.5  2501.0\n    smoothness (mean):                    0.053  0.163\n    compactness (mean):                   0.019  0.345\n    concavity (mean):                     0.0    0.427\n    concave points (mean):                0.0    0.201\n    symmetry (mean):                      0.106  0.304\n    fractal dimension (mean):             0.05   0.097\n    radius (standard error):              0.112  2.873\n    texture (standard error):             0.36   4.885\n    perimeter (standard error):           0.757  21.98\n    area (standard error):                6.802  542.2\n    smoothness (standard error):          0.002  0.031\n    compactness (standard error):         0.002  0.135\n    concavity (standard error):           0.0    0.396\n    concave points (standard error):      0.0    0.053\n    symmetry (standard error):            0.008  0.079\n    fractal dimension (standard error):   0.001  0.03\n    radius (worst):                       7.93   36.04\n    texture (worst):                      12.02  49.54\n    perimeter (worst):                    50.41  251.2\n    area (worst):                         185.2  4254.0\n    smoothness (worst):                   0.071  0.223\n    compactness (worst):                  0.027  1.058\n    concavity (worst):                    0.0    1.252\n    concave points (worst):               0.0    0.291\n    symmetry (worst):                     0.156  0.664\n    fractal dimension (worst):            0.055  0.208\n    ===================================== ====== ======\n\n    :Missing Attribute Values: None\n\n    :Class Distribution: 212 - Malignant, 357 - Benign\n\n    :Creator:  Dr. William H. Wolberg, W. Nick Street, Olvi L. Mangasarian\n\n    :Donor: Nick Street\n\n    :Date: November, 1995\n\nThis is a copy of UCI ML Breast Cancer Wisconsin (Diagnostic) datasets.\nhttps://goo.gl/U2Uwz2\n\nFeatures are computed from a digitized image of a fine needle\naspirate (FNA) of a breast mass.  They describe\ncharacteristics of the cell nuclei present in the image.\n\nSeparating plane described above was obtained using\nMultisurface Method-Tree (MSM-T) [K. P. Bennett, \"Decision Tree\nConstruction Via Linear Programming.\" Proceedings of the 4th\nMidwest Artificial Intelligence and Cognitive Science Society,\npp. 97-101, 1992], a classification method which uses linear\nprogramming to construct a decision tree.  Relevant features\nwere selected using an exhaustive search in the space of 1-4\nfeatures and 1-3 separating planes.\n\nThe actual linear program used to obtain the separating plane\nin the 3-dimensional space is that described in:\n[K. P. Bennett and O. L. Mangasarian: \"Robust Linear\nProgramming Discrimination of Two Linearly Inseparable Sets\",\nOptimization Methods and Software 1, 1992, 23-34].\n\nThis database is also available through the UW CS ftp server:\n\nftp ftp.cs.wisc.edu\ncd math-prog/cpo-dataset/machine-learn/WDBC/\n\n.. topic:: References\n\n   - W.N. Street, W.H. Wolberg and O.L. Mangasarian. Nuclear feature extraction \n     for breast tumor diagnosis. IS&T/SPIE 1993 International Symposium on \n     Electronic Imaging: Science and Technology, volume 1905, pages 861-870,\n     San Jose, CA, 1993.\n   - O.L. Mangasarian, W.N. Street and W.H. Wolberg. Breast cancer diagnosis and \n     prognosis via linear programming. Operations Research, 43(4), pages 570-577, \n     July-August 1995.\n   - W.H. Wolberg, W.N. Street, and O.L. Mangasarian. Machine learning techniques\n     to diagnose breast cancer from fine-needle aspirates. Cancer Letters 77 (1994) \n     163-171."
          },
          "metadata": {},
          "execution_count": 21
        }
      ]
    },
    {
      "cell_type": "markdown",
      "source": [
        "- Pandas의 DataFrame의 인스턴스로 쉽게 변환"
      ],
      "metadata": {
        "id": "FnQE0QkNXvok"
      }
    },
    {
      "cell_type": "code",
      "source": [
        "import pandas as pd\n",
        "\n",
        "# input feature vector를 DataFrame 인스턴스로 # target column을 추가.\n",
        "df = pd.DataFrame(cancer.data, columns=cancer.feature_names)\n",
        "df['label'] = cancer.target\n",
        "\n",
        "df. head()"
      ],
      "metadata": {
        "colab": {
          "base_uri": "https://localhost:8080/",
          "height": 290
        },
        "id": "0I7TfWNDWITe",
        "outputId": "d806077d-c7e8-4011-ac94-4a7da49d04af"
      },
      "execution_count": null,
      "outputs": [
        {
          "output_type": "execute_result",
          "data": {
            "text/plain": [
              "   mean radius  mean texture  mean perimeter  mean area  mean smoothness  \\\n",
              "0        17.99         10.38          122.80     1001.0          0.11840   \n",
              "1        20.57         17.77          132.90     1326.0          0.08474   \n",
              "2        19.69         21.25          130.00     1203.0          0.10960   \n",
              "3        11.42         20.38           77.58      386.1          0.14250   \n",
              "4        20.29         14.34          135.10     1297.0          0.10030   \n",
              "\n",
              "   mean compactness  mean concavity  mean concave points  mean symmetry  \\\n",
              "0           0.27760          0.3001              0.14710         0.2419   \n",
              "1           0.07864          0.0869              0.07017         0.1812   \n",
              "2           0.15990          0.1974              0.12790         0.2069   \n",
              "3           0.28390          0.2414              0.10520         0.2597   \n",
              "4           0.13280          0.1980              0.10430         0.1809   \n",
              "\n",
              "   mean fractal dimension  ...  worst texture  worst perimeter  worst area  \\\n",
              "0                 0.07871  ...          17.33           184.60      2019.0   \n",
              "1                 0.05667  ...          23.41           158.80      1956.0   \n",
              "2                 0.05999  ...          25.53           152.50      1709.0   \n",
              "3                 0.09744  ...          26.50            98.87       567.7   \n",
              "4                 0.05883  ...          16.67           152.20      1575.0   \n",
              "\n",
              "   worst smoothness  worst compactness  worst concavity  worst concave points  \\\n",
              "0            0.1622             0.6656           0.7119                0.2654   \n",
              "1            0.1238             0.1866           0.2416                0.1860   \n",
              "2            0.1444             0.4245           0.4504                0.2430   \n",
              "3            0.2098             0.8663           0.6869                0.2575   \n",
              "4            0.1374             0.2050           0.4000                0.1625   \n",
              "\n",
              "   worst symmetry  worst fractal dimension  label  \n",
              "0          0.4601                  0.11890      0  \n",
              "1          0.2750                  0.08902      0  \n",
              "2          0.3613                  0.08758      0  \n",
              "3          0.6638                  0.17300      0  \n",
              "4          0.2364                  0.07678      0  \n",
              "\n",
              "[5 rows x 31 columns]"
            ],
            "text/html": [
              "\n",
              "  <div id=\"df-8456a32d-1ec5-4258-9dd2-be511b913d8a\" class=\"colab-df-container\">\n",
              "    <div>\n",
              "<style scoped>\n",
              "    .dataframe tbody tr th:only-of-type {\n",
              "        vertical-align: middle;\n",
              "    }\n",
              "\n",
              "    .dataframe tbody tr th {\n",
              "        vertical-align: top;\n",
              "    }\n",
              "\n",
              "    .dataframe thead th {\n",
              "        text-align: right;\n",
              "    }\n",
              "</style>\n",
              "<table border=\"1\" class=\"dataframe\">\n",
              "  <thead>\n",
              "    <tr style=\"text-align: right;\">\n",
              "      <th></th>\n",
              "      <th>mean radius</th>\n",
              "      <th>mean texture</th>\n",
              "      <th>mean perimeter</th>\n",
              "      <th>mean area</th>\n",
              "      <th>mean smoothness</th>\n",
              "      <th>mean compactness</th>\n",
              "      <th>mean concavity</th>\n",
              "      <th>mean concave points</th>\n",
              "      <th>mean symmetry</th>\n",
              "      <th>mean fractal dimension</th>\n",
              "      <th>...</th>\n",
              "      <th>worst texture</th>\n",
              "      <th>worst perimeter</th>\n",
              "      <th>worst area</th>\n",
              "      <th>worst smoothness</th>\n",
              "      <th>worst compactness</th>\n",
              "      <th>worst concavity</th>\n",
              "      <th>worst concave points</th>\n",
              "      <th>worst symmetry</th>\n",
              "      <th>worst fractal dimension</th>\n",
              "      <th>label</th>\n",
              "    </tr>\n",
              "  </thead>\n",
              "  <tbody>\n",
              "    <tr>\n",
              "      <th>0</th>\n",
              "      <td>17.99</td>\n",
              "      <td>10.38</td>\n",
              "      <td>122.80</td>\n",
              "      <td>1001.0</td>\n",
              "      <td>0.11840</td>\n",
              "      <td>0.27760</td>\n",
              "      <td>0.3001</td>\n",
              "      <td>0.14710</td>\n",
              "      <td>0.2419</td>\n",
              "      <td>0.07871</td>\n",
              "      <td>...</td>\n",
              "      <td>17.33</td>\n",
              "      <td>184.60</td>\n",
              "      <td>2019.0</td>\n",
              "      <td>0.1622</td>\n",
              "      <td>0.6656</td>\n",
              "      <td>0.7119</td>\n",
              "      <td>0.2654</td>\n",
              "      <td>0.4601</td>\n",
              "      <td>0.11890</td>\n",
              "      <td>0</td>\n",
              "    </tr>\n",
              "    <tr>\n",
              "      <th>1</th>\n",
              "      <td>20.57</td>\n",
              "      <td>17.77</td>\n",
              "      <td>132.90</td>\n",
              "      <td>1326.0</td>\n",
              "      <td>0.08474</td>\n",
              "      <td>0.07864</td>\n",
              "      <td>0.0869</td>\n",
              "      <td>0.07017</td>\n",
              "      <td>0.1812</td>\n",
              "      <td>0.05667</td>\n",
              "      <td>...</td>\n",
              "      <td>23.41</td>\n",
              "      <td>158.80</td>\n",
              "      <td>1956.0</td>\n",
              "      <td>0.1238</td>\n",
              "      <td>0.1866</td>\n",
              "      <td>0.2416</td>\n",
              "      <td>0.1860</td>\n",
              "      <td>0.2750</td>\n",
              "      <td>0.08902</td>\n",
              "      <td>0</td>\n",
              "    </tr>\n",
              "    <tr>\n",
              "      <th>2</th>\n",
              "      <td>19.69</td>\n",
              "      <td>21.25</td>\n",
              "      <td>130.00</td>\n",
              "      <td>1203.0</td>\n",
              "      <td>0.10960</td>\n",
              "      <td>0.15990</td>\n",
              "      <td>0.1974</td>\n",
              "      <td>0.12790</td>\n",
              "      <td>0.2069</td>\n",
              "      <td>0.05999</td>\n",
              "      <td>...</td>\n",
              "      <td>25.53</td>\n",
              "      <td>152.50</td>\n",
              "      <td>1709.0</td>\n",
              "      <td>0.1444</td>\n",
              "      <td>0.4245</td>\n",
              "      <td>0.4504</td>\n",
              "      <td>0.2430</td>\n",
              "      <td>0.3613</td>\n",
              "      <td>0.08758</td>\n",
              "      <td>0</td>\n",
              "    </tr>\n",
              "    <tr>\n",
              "      <th>3</th>\n",
              "      <td>11.42</td>\n",
              "      <td>20.38</td>\n",
              "      <td>77.58</td>\n",
              "      <td>386.1</td>\n",
              "      <td>0.14250</td>\n",
              "      <td>0.28390</td>\n",
              "      <td>0.2414</td>\n",
              "      <td>0.10520</td>\n",
              "      <td>0.2597</td>\n",
              "      <td>0.09744</td>\n",
              "      <td>...</td>\n",
              "      <td>26.50</td>\n",
              "      <td>98.87</td>\n",
              "      <td>567.7</td>\n",
              "      <td>0.2098</td>\n",
              "      <td>0.8663</td>\n",
              "      <td>0.6869</td>\n",
              "      <td>0.2575</td>\n",
              "      <td>0.6638</td>\n",
              "      <td>0.17300</td>\n",
              "      <td>0</td>\n",
              "    </tr>\n",
              "    <tr>\n",
              "      <th>4</th>\n",
              "      <td>20.29</td>\n",
              "      <td>14.34</td>\n",
              "      <td>135.10</td>\n",
              "      <td>1297.0</td>\n",
              "      <td>0.10030</td>\n",
              "      <td>0.13280</td>\n",
              "      <td>0.1980</td>\n",
              "      <td>0.10430</td>\n",
              "      <td>0.1809</td>\n",
              "      <td>0.05883</td>\n",
              "      <td>...</td>\n",
              "      <td>16.67</td>\n",
              "      <td>152.20</td>\n",
              "      <td>1575.0</td>\n",
              "      <td>0.1374</td>\n",
              "      <td>0.2050</td>\n",
              "      <td>0.4000</td>\n",
              "      <td>0.1625</td>\n",
              "      <td>0.2364</td>\n",
              "      <td>0.07678</td>\n",
              "      <td>0</td>\n",
              "    </tr>\n",
              "  </tbody>\n",
              "</table>\n",
              "<p>5 rows × 31 columns</p>\n",
              "</div>\n",
              "    <div class=\"colab-df-buttons\">\n",
              "\n",
              "  <div class=\"colab-df-container\">\n",
              "    <button class=\"colab-df-convert\" onclick=\"convertToInteractive('df-8456a32d-1ec5-4258-9dd2-be511b913d8a')\"\n",
              "            title=\"Convert this dataframe to an interactive table.\"\n",
              "            style=\"display:none;\">\n",
              "\n",
              "  <svg xmlns=\"http://www.w3.org/2000/svg\" height=\"24px\" viewBox=\"0 -960 960 960\">\n",
              "    <path d=\"M120-120v-720h720v720H120Zm60-500h600v-160H180v160Zm220 220h160v-160H400v160Zm0 220h160v-160H400v160ZM180-400h160v-160H180v160Zm440 0h160v-160H620v160ZM180-180h160v-160H180v160Zm440 0h160v-160H620v160Z\"/>\n",
              "  </svg>\n",
              "    </button>\n",
              "\n",
              "  <style>\n",
              "    .colab-df-container {\n",
              "      display:flex;\n",
              "      gap: 12px;\n",
              "    }\n",
              "\n",
              "    .colab-df-convert {\n",
              "      background-color: #E8F0FE;\n",
              "      border: none;\n",
              "      border-radius: 50%;\n",
              "      cursor: pointer;\n",
              "      display: none;\n",
              "      fill: #1967D2;\n",
              "      height: 32px;\n",
              "      padding: 0 0 0 0;\n",
              "      width: 32px;\n",
              "    }\n",
              "\n",
              "    .colab-df-convert:hover {\n",
              "      background-color: #E2EBFA;\n",
              "      box-shadow: 0px 1px 2px rgba(60, 64, 67, 0.3), 0px 1px 3px 1px rgba(60, 64, 67, 0.15);\n",
              "      fill: #174EA6;\n",
              "    }\n",
              "\n",
              "    .colab-df-buttons div {\n",
              "      margin-bottom: 4px;\n",
              "    }\n",
              "\n",
              "    [theme=dark] .colab-df-convert {\n",
              "      background-color: #3B4455;\n",
              "      fill: #D2E3FC;\n",
              "    }\n",
              "\n",
              "    [theme=dark] .colab-df-convert:hover {\n",
              "      background-color: #434B5C;\n",
              "      box-shadow: 0px 1px 3px 1px rgba(0, 0, 0, 0.15);\n",
              "      filter: drop-shadow(0px 1px 2px rgba(0, 0, 0, 0.3));\n",
              "      fill: #FFFFFF;\n",
              "    }\n",
              "  </style>\n",
              "\n",
              "    <script>\n",
              "      const buttonEl =\n",
              "        document.querySelector('#df-8456a32d-1ec5-4258-9dd2-be511b913d8a button.colab-df-convert');\n",
              "      buttonEl.style.display =\n",
              "        google.colab.kernel.accessAllowed ? 'block' : 'none';\n",
              "\n",
              "      async function convertToInteractive(key) {\n",
              "        const element = document.querySelector('#df-8456a32d-1ec5-4258-9dd2-be511b913d8a');\n",
              "        const dataTable =\n",
              "          await google.colab.kernel.invokeFunction('convertToInteractive',\n",
              "                                                    [key], {});\n",
              "        if (!dataTable) return;\n",
              "\n",
              "        const docLinkHtml = 'Like what you see? Visit the ' +\n",
              "          '<a target=\"_blank\" href=https://colab.research.google.com/notebooks/data_table.ipynb>data table notebook</a>'\n",
              "          + ' to learn more about interactive tables.';\n",
              "        element.innerHTML = '';\n",
              "        dataTable['output_type'] = 'display_data';\n",
              "        await google.colab.output.renderOutput(dataTable, element);\n",
              "        const docLink = document.createElement('div');\n",
              "        docLink.innerHTML = docLinkHtml;\n",
              "        element.appendChild(docLink);\n",
              "      }\n",
              "    </script>\n",
              "  </div>\n",
              "\n",
              "\n",
              "<div id=\"df-1f2da6ee-3d42-4259-a835-82eb9f8f6f24\">\n",
              "  <button class=\"colab-df-quickchart\" onclick=\"quickchart('df-1f2da6ee-3d42-4259-a835-82eb9f8f6f24')\"\n",
              "            title=\"Suggest charts\"\n",
              "            style=\"display:none;\">\n",
              "\n",
              "<svg xmlns=\"http://www.w3.org/2000/svg\" height=\"24px\"viewBox=\"0 0 24 24\"\n",
              "     width=\"24px\">\n",
              "    <g>\n",
              "        <path d=\"M19 3H5c-1.1 0-2 .9-2 2v14c0 1.1.9 2 2 2h14c1.1 0 2-.9 2-2V5c0-1.1-.9-2-2-2zM9 17H7v-7h2v7zm4 0h-2V7h2v10zm4 0h-2v-4h2v4z\"/>\n",
              "    </g>\n",
              "</svg>\n",
              "  </button>\n",
              "\n",
              "<style>\n",
              "  .colab-df-quickchart {\n",
              "      --bg-color: #E8F0FE;\n",
              "      --fill-color: #1967D2;\n",
              "      --hover-bg-color: #E2EBFA;\n",
              "      --hover-fill-color: #174EA6;\n",
              "      --disabled-fill-color: #AAA;\n",
              "      --disabled-bg-color: #DDD;\n",
              "  }\n",
              "\n",
              "  [theme=dark] .colab-df-quickchart {\n",
              "      --bg-color: #3B4455;\n",
              "      --fill-color: #D2E3FC;\n",
              "      --hover-bg-color: #434B5C;\n",
              "      --hover-fill-color: #FFFFFF;\n",
              "      --disabled-bg-color: #3B4455;\n",
              "      --disabled-fill-color: #666;\n",
              "  }\n",
              "\n",
              "  .colab-df-quickchart {\n",
              "    background-color: var(--bg-color);\n",
              "    border: none;\n",
              "    border-radius: 50%;\n",
              "    cursor: pointer;\n",
              "    display: none;\n",
              "    fill: var(--fill-color);\n",
              "    height: 32px;\n",
              "    padding: 0;\n",
              "    width: 32px;\n",
              "  }\n",
              "\n",
              "  .colab-df-quickchart:hover {\n",
              "    background-color: var(--hover-bg-color);\n",
              "    box-shadow: 0 1px 2px rgba(60, 64, 67, 0.3), 0 1px 3px 1px rgba(60, 64, 67, 0.15);\n",
              "    fill: var(--button-hover-fill-color);\n",
              "  }\n",
              "\n",
              "  .colab-df-quickchart-complete:disabled,\n",
              "  .colab-df-quickchart-complete:disabled:hover {\n",
              "    background-color: var(--disabled-bg-color);\n",
              "    fill: var(--disabled-fill-color);\n",
              "    box-shadow: none;\n",
              "  }\n",
              "\n",
              "  .colab-df-spinner {\n",
              "    border: 2px solid var(--fill-color);\n",
              "    border-color: transparent;\n",
              "    border-bottom-color: var(--fill-color);\n",
              "    animation:\n",
              "      spin 1s steps(1) infinite;\n",
              "  }\n",
              "\n",
              "  @keyframes spin {\n",
              "    0% {\n",
              "      border-color: transparent;\n",
              "      border-bottom-color: var(--fill-color);\n",
              "      border-left-color: var(--fill-color);\n",
              "    }\n",
              "    20% {\n",
              "      border-color: transparent;\n",
              "      border-left-color: var(--fill-color);\n",
              "      border-top-color: var(--fill-color);\n",
              "    }\n",
              "    30% {\n",
              "      border-color: transparent;\n",
              "      border-left-color: var(--fill-color);\n",
              "      border-top-color: var(--fill-color);\n",
              "      border-right-color: var(--fill-color);\n",
              "    }\n",
              "    40% {\n",
              "      border-color: transparent;\n",
              "      border-right-color: var(--fill-color);\n",
              "      border-top-color: var(--fill-color);\n",
              "    }\n",
              "    60% {\n",
              "      border-color: transparent;\n",
              "      border-right-color: var(--fill-color);\n",
              "    }\n",
              "    80% {\n",
              "      border-color: transparent;\n",
              "      border-right-color: var(--fill-color);\n",
              "      border-bottom-color: var(--fill-color);\n",
              "    }\n",
              "    90% {\n",
              "      border-color: transparent;\n",
              "      border-bottom-color: var(--fill-color);\n",
              "    }\n",
              "  }\n",
              "</style>\n",
              "\n",
              "  <script>\n",
              "    async function quickchart(key) {\n",
              "      const quickchartButtonEl =\n",
              "        document.querySelector('#' + key + ' button');\n",
              "      quickchartButtonEl.disabled = true;  // To prevent multiple clicks.\n",
              "      quickchartButtonEl.classList.add('colab-df-spinner');\n",
              "      try {\n",
              "        const charts = await google.colab.kernel.invokeFunction(\n",
              "            'suggestCharts', [key], {});\n",
              "      } catch (error) {\n",
              "        console.error('Error during call to suggestCharts:', error);\n",
              "      }\n",
              "      quickchartButtonEl.classList.remove('colab-df-spinner');\n",
              "      quickchartButtonEl.classList.add('colab-df-quickchart-complete');\n",
              "    }\n",
              "    (() => {\n",
              "      let quickchartButtonEl =\n",
              "        document.querySelector('#df-1f2da6ee-3d42-4259-a835-82eb9f8f6f24 button');\n",
              "      quickchartButtonEl.style.display =\n",
              "        google.colab.kernel.accessAllowed ? 'block' : 'none';\n",
              "    })();\n",
              "  </script>\n",
              "</div>\n",
              "    </div>\n",
              "  </div>\n"
            ],
            "application/vnd.google.colaboratory.intrinsic+json": {
              "type": "dataframe"
            }
          },
          "metadata": {},
          "execution_count": 25
        }
      ]
    },
    {
      "cell_type": "code",
      "source": [
        "df.describe() # 각각의 통계치 살펴봄, 문자열일경우 빠짐"
      ],
      "metadata": {
        "colab": {
          "base_uri": "https://localhost:8080/",
          "height": 384
        },
        "id": "M34mVAENWh9u",
        "outputId": "d2e65c52-32c7-4d02-9cdb-e67e6780b214"
      },
      "execution_count": null,
      "outputs": [
        {
          "output_type": "execute_result",
          "data": {
            "text/plain": [
              "       mean radius  mean texture  mean perimeter    mean area  \\\n",
              "count   569.000000    569.000000      569.000000   569.000000   \n",
              "mean     14.127292     19.289649       91.969033   654.889104   \n",
              "std       3.524049      4.301036       24.298981   351.914129   \n",
              "min       6.981000      9.710000       43.790000   143.500000   \n",
              "25%      11.700000     16.170000       75.170000   420.300000   \n",
              "50%      13.370000     18.840000       86.240000   551.100000   \n",
              "75%      15.780000     21.800000      104.100000   782.700000   \n",
              "max      28.110000     39.280000      188.500000  2501.000000   \n",
              "\n",
              "       mean smoothness  mean compactness  mean concavity  mean concave points  \\\n",
              "count       569.000000        569.000000      569.000000           569.000000   \n",
              "mean          0.096360          0.104341        0.088799             0.048919   \n",
              "std           0.014064          0.052813        0.079720             0.038803   \n",
              "min           0.052630          0.019380        0.000000             0.000000   \n",
              "25%           0.086370          0.064920        0.029560             0.020310   \n",
              "50%           0.095870          0.092630        0.061540             0.033500   \n",
              "75%           0.105300          0.130400        0.130700             0.074000   \n",
              "max           0.163400          0.345400        0.426800             0.201200   \n",
              "\n",
              "       mean symmetry  mean fractal dimension  ...  worst texture  \\\n",
              "count     569.000000              569.000000  ...     569.000000   \n",
              "mean        0.181162                0.062798  ...      25.677223   \n",
              "std         0.027414                0.007060  ...       6.146258   \n",
              "min         0.106000                0.049960  ...      12.020000   \n",
              "25%         0.161900                0.057700  ...      21.080000   \n",
              "50%         0.179200                0.061540  ...      25.410000   \n",
              "75%         0.195700                0.066120  ...      29.720000   \n",
              "max         0.304000                0.097440  ...      49.540000   \n",
              "\n",
              "       worst perimeter   worst area  worst smoothness  worst compactness  \\\n",
              "count       569.000000   569.000000        569.000000         569.000000   \n",
              "mean        107.261213   880.583128          0.132369           0.254265   \n",
              "std          33.602542   569.356993          0.022832           0.157336   \n",
              "min          50.410000   185.200000          0.071170           0.027290   \n",
              "25%          84.110000   515.300000          0.116600           0.147200   \n",
              "50%          97.660000   686.500000          0.131300           0.211900   \n",
              "75%         125.400000  1084.000000          0.146000           0.339100   \n",
              "max         251.200000  4254.000000          0.222600           1.058000   \n",
              "\n",
              "       worst concavity  worst concave points  worst symmetry  \\\n",
              "count       569.000000            569.000000      569.000000   \n",
              "mean          0.272188              0.114606        0.290076   \n",
              "std           0.208624              0.065732        0.061867   \n",
              "min           0.000000              0.000000        0.156500   \n",
              "25%           0.114500              0.064930        0.250400   \n",
              "50%           0.226700              0.099930        0.282200   \n",
              "75%           0.382900              0.161400        0.317900   \n",
              "max           1.252000              0.291000        0.663800   \n",
              "\n",
              "       worst fractal dimension       label  \n",
              "count               569.000000  569.000000  \n",
              "mean                  0.083946    0.627417  \n",
              "std                   0.018061    0.483918  \n",
              "min                   0.055040    0.000000  \n",
              "25%                   0.071460    0.000000  \n",
              "50%                   0.080040    1.000000  \n",
              "75%                   0.092080    1.000000  \n",
              "max                   0.207500    1.000000  \n",
              "\n",
              "[8 rows x 31 columns]"
            ],
            "text/html": [
              "\n",
              "  <div id=\"df-42313fba-8bbe-4d07-baae-e34d3ed0efa5\" class=\"colab-df-container\">\n",
              "    <div>\n",
              "<style scoped>\n",
              "    .dataframe tbody tr th:only-of-type {\n",
              "        vertical-align: middle;\n",
              "    }\n",
              "\n",
              "    .dataframe tbody tr th {\n",
              "        vertical-align: top;\n",
              "    }\n",
              "\n",
              "    .dataframe thead th {\n",
              "        text-align: right;\n",
              "    }\n",
              "</style>\n",
              "<table border=\"1\" class=\"dataframe\">\n",
              "  <thead>\n",
              "    <tr style=\"text-align: right;\">\n",
              "      <th></th>\n",
              "      <th>mean radius</th>\n",
              "      <th>mean texture</th>\n",
              "      <th>mean perimeter</th>\n",
              "      <th>mean area</th>\n",
              "      <th>mean smoothness</th>\n",
              "      <th>mean compactness</th>\n",
              "      <th>mean concavity</th>\n",
              "      <th>mean concave points</th>\n",
              "      <th>mean symmetry</th>\n",
              "      <th>mean fractal dimension</th>\n",
              "      <th>...</th>\n",
              "      <th>worst texture</th>\n",
              "      <th>worst perimeter</th>\n",
              "      <th>worst area</th>\n",
              "      <th>worst smoothness</th>\n",
              "      <th>worst compactness</th>\n",
              "      <th>worst concavity</th>\n",
              "      <th>worst concave points</th>\n",
              "      <th>worst symmetry</th>\n",
              "      <th>worst fractal dimension</th>\n",
              "      <th>label</th>\n",
              "    </tr>\n",
              "  </thead>\n",
              "  <tbody>\n",
              "    <tr>\n",
              "      <th>count</th>\n",
              "      <td>569.000000</td>\n",
              "      <td>569.000000</td>\n",
              "      <td>569.000000</td>\n",
              "      <td>569.000000</td>\n",
              "      <td>569.000000</td>\n",
              "      <td>569.000000</td>\n",
              "      <td>569.000000</td>\n",
              "      <td>569.000000</td>\n",
              "      <td>569.000000</td>\n",
              "      <td>569.000000</td>\n",
              "      <td>...</td>\n",
              "      <td>569.000000</td>\n",
              "      <td>569.000000</td>\n",
              "      <td>569.000000</td>\n",
              "      <td>569.000000</td>\n",
              "      <td>569.000000</td>\n",
              "      <td>569.000000</td>\n",
              "      <td>569.000000</td>\n",
              "      <td>569.000000</td>\n",
              "      <td>569.000000</td>\n",
              "      <td>569.000000</td>\n",
              "    </tr>\n",
              "    <tr>\n",
              "      <th>mean</th>\n",
              "      <td>14.127292</td>\n",
              "      <td>19.289649</td>\n",
              "      <td>91.969033</td>\n",
              "      <td>654.889104</td>\n",
              "      <td>0.096360</td>\n",
              "      <td>0.104341</td>\n",
              "      <td>0.088799</td>\n",
              "      <td>0.048919</td>\n",
              "      <td>0.181162</td>\n",
              "      <td>0.062798</td>\n",
              "      <td>...</td>\n",
              "      <td>25.677223</td>\n",
              "      <td>107.261213</td>\n",
              "      <td>880.583128</td>\n",
              "      <td>0.132369</td>\n",
              "      <td>0.254265</td>\n",
              "      <td>0.272188</td>\n",
              "      <td>0.114606</td>\n",
              "      <td>0.290076</td>\n",
              "      <td>0.083946</td>\n",
              "      <td>0.627417</td>\n",
              "    </tr>\n",
              "    <tr>\n",
              "      <th>std</th>\n",
              "      <td>3.524049</td>\n",
              "      <td>4.301036</td>\n",
              "      <td>24.298981</td>\n",
              "      <td>351.914129</td>\n",
              "      <td>0.014064</td>\n",
              "      <td>0.052813</td>\n",
              "      <td>0.079720</td>\n",
              "      <td>0.038803</td>\n",
              "      <td>0.027414</td>\n",
              "      <td>0.007060</td>\n",
              "      <td>...</td>\n",
              "      <td>6.146258</td>\n",
              "      <td>33.602542</td>\n",
              "      <td>569.356993</td>\n",
              "      <td>0.022832</td>\n",
              "      <td>0.157336</td>\n",
              "      <td>0.208624</td>\n",
              "      <td>0.065732</td>\n",
              "      <td>0.061867</td>\n",
              "      <td>0.018061</td>\n",
              "      <td>0.483918</td>\n",
              "    </tr>\n",
              "    <tr>\n",
              "      <th>min</th>\n",
              "      <td>6.981000</td>\n",
              "      <td>9.710000</td>\n",
              "      <td>43.790000</td>\n",
              "      <td>143.500000</td>\n",
              "      <td>0.052630</td>\n",
              "      <td>0.019380</td>\n",
              "      <td>0.000000</td>\n",
              "      <td>0.000000</td>\n",
              "      <td>0.106000</td>\n",
              "      <td>0.049960</td>\n",
              "      <td>...</td>\n",
              "      <td>12.020000</td>\n",
              "      <td>50.410000</td>\n",
              "      <td>185.200000</td>\n",
              "      <td>0.071170</td>\n",
              "      <td>0.027290</td>\n",
              "      <td>0.000000</td>\n",
              "      <td>0.000000</td>\n",
              "      <td>0.156500</td>\n",
              "      <td>0.055040</td>\n",
              "      <td>0.000000</td>\n",
              "    </tr>\n",
              "    <tr>\n",
              "      <th>25%</th>\n",
              "      <td>11.700000</td>\n",
              "      <td>16.170000</td>\n",
              "      <td>75.170000</td>\n",
              "      <td>420.300000</td>\n",
              "      <td>0.086370</td>\n",
              "      <td>0.064920</td>\n",
              "      <td>0.029560</td>\n",
              "      <td>0.020310</td>\n",
              "      <td>0.161900</td>\n",
              "      <td>0.057700</td>\n",
              "      <td>...</td>\n",
              "      <td>21.080000</td>\n",
              "      <td>84.110000</td>\n",
              "      <td>515.300000</td>\n",
              "      <td>0.116600</td>\n",
              "      <td>0.147200</td>\n",
              "      <td>0.114500</td>\n",
              "      <td>0.064930</td>\n",
              "      <td>0.250400</td>\n",
              "      <td>0.071460</td>\n",
              "      <td>0.000000</td>\n",
              "    </tr>\n",
              "    <tr>\n",
              "      <th>50%</th>\n",
              "      <td>13.370000</td>\n",
              "      <td>18.840000</td>\n",
              "      <td>86.240000</td>\n",
              "      <td>551.100000</td>\n",
              "      <td>0.095870</td>\n",
              "      <td>0.092630</td>\n",
              "      <td>0.061540</td>\n",
              "      <td>0.033500</td>\n",
              "      <td>0.179200</td>\n",
              "      <td>0.061540</td>\n",
              "      <td>...</td>\n",
              "      <td>25.410000</td>\n",
              "      <td>97.660000</td>\n",
              "      <td>686.500000</td>\n",
              "      <td>0.131300</td>\n",
              "      <td>0.211900</td>\n",
              "      <td>0.226700</td>\n",
              "      <td>0.099930</td>\n",
              "      <td>0.282200</td>\n",
              "      <td>0.080040</td>\n",
              "      <td>1.000000</td>\n",
              "    </tr>\n",
              "    <tr>\n",
              "      <th>75%</th>\n",
              "      <td>15.780000</td>\n",
              "      <td>21.800000</td>\n",
              "      <td>104.100000</td>\n",
              "      <td>782.700000</td>\n",
              "      <td>0.105300</td>\n",
              "      <td>0.130400</td>\n",
              "      <td>0.130700</td>\n",
              "      <td>0.074000</td>\n",
              "      <td>0.195700</td>\n",
              "      <td>0.066120</td>\n",
              "      <td>...</td>\n",
              "      <td>29.720000</td>\n",
              "      <td>125.400000</td>\n",
              "      <td>1084.000000</td>\n",
              "      <td>0.146000</td>\n",
              "      <td>0.339100</td>\n",
              "      <td>0.382900</td>\n",
              "      <td>0.161400</td>\n",
              "      <td>0.317900</td>\n",
              "      <td>0.092080</td>\n",
              "      <td>1.000000</td>\n",
              "    </tr>\n",
              "    <tr>\n",
              "      <th>max</th>\n",
              "      <td>28.110000</td>\n",
              "      <td>39.280000</td>\n",
              "      <td>188.500000</td>\n",
              "      <td>2501.000000</td>\n",
              "      <td>0.163400</td>\n",
              "      <td>0.345400</td>\n",
              "      <td>0.426800</td>\n",
              "      <td>0.201200</td>\n",
              "      <td>0.304000</td>\n",
              "      <td>0.097440</td>\n",
              "      <td>...</td>\n",
              "      <td>49.540000</td>\n",
              "      <td>251.200000</td>\n",
              "      <td>4254.000000</td>\n",
              "      <td>0.222600</td>\n",
              "      <td>1.058000</td>\n",
              "      <td>1.252000</td>\n",
              "      <td>0.291000</td>\n",
              "      <td>0.663800</td>\n",
              "      <td>0.207500</td>\n",
              "      <td>1.000000</td>\n",
              "    </tr>\n",
              "  </tbody>\n",
              "</table>\n",
              "<p>8 rows × 31 columns</p>\n",
              "</div>\n",
              "    <div class=\"colab-df-buttons\">\n",
              "\n",
              "  <div class=\"colab-df-container\">\n",
              "    <button class=\"colab-df-convert\" onclick=\"convertToInteractive('df-42313fba-8bbe-4d07-baae-e34d3ed0efa5')\"\n",
              "            title=\"Convert this dataframe to an interactive table.\"\n",
              "            style=\"display:none;\">\n",
              "\n",
              "  <svg xmlns=\"http://www.w3.org/2000/svg\" height=\"24px\" viewBox=\"0 -960 960 960\">\n",
              "    <path d=\"M120-120v-720h720v720H120Zm60-500h600v-160H180v160Zm220 220h160v-160H400v160Zm0 220h160v-160H400v160ZM180-400h160v-160H180v160Zm440 0h160v-160H620v160ZM180-180h160v-160H180v160Zm440 0h160v-160H620v160Z\"/>\n",
              "  </svg>\n",
              "    </button>\n",
              "\n",
              "  <style>\n",
              "    .colab-df-container {\n",
              "      display:flex;\n",
              "      gap: 12px;\n",
              "    }\n",
              "\n",
              "    .colab-df-convert {\n",
              "      background-color: #E8F0FE;\n",
              "      border: none;\n",
              "      border-radius: 50%;\n",
              "      cursor: pointer;\n",
              "      display: none;\n",
              "      fill: #1967D2;\n",
              "      height: 32px;\n",
              "      padding: 0 0 0 0;\n",
              "      width: 32px;\n",
              "    }\n",
              "\n",
              "    .colab-df-convert:hover {\n",
              "      background-color: #E2EBFA;\n",
              "      box-shadow: 0px 1px 2px rgba(60, 64, 67, 0.3), 0px 1px 3px 1px rgba(60, 64, 67, 0.15);\n",
              "      fill: #174EA6;\n",
              "    }\n",
              "\n",
              "    .colab-df-buttons div {\n",
              "      margin-bottom: 4px;\n",
              "    }\n",
              "\n",
              "    [theme=dark] .colab-df-convert {\n",
              "      background-color: #3B4455;\n",
              "      fill: #D2E3FC;\n",
              "    }\n",
              "\n",
              "    [theme=dark] .colab-df-convert:hover {\n",
              "      background-color: #434B5C;\n",
              "      box-shadow: 0px 1px 3px 1px rgba(0, 0, 0, 0.15);\n",
              "      filter: drop-shadow(0px 1px 2px rgba(0, 0, 0, 0.3));\n",
              "      fill: #FFFFFF;\n",
              "    }\n",
              "  </style>\n",
              "\n",
              "    <script>\n",
              "      const buttonEl =\n",
              "        document.querySelector('#df-42313fba-8bbe-4d07-baae-e34d3ed0efa5 button.colab-df-convert');\n",
              "      buttonEl.style.display =\n",
              "        google.colab.kernel.accessAllowed ? 'block' : 'none';\n",
              "\n",
              "      async function convertToInteractive(key) {\n",
              "        const element = document.querySelector('#df-42313fba-8bbe-4d07-baae-e34d3ed0efa5');\n",
              "        const dataTable =\n",
              "          await google.colab.kernel.invokeFunction('convertToInteractive',\n",
              "                                                    [key], {});\n",
              "        if (!dataTable) return;\n",
              "\n",
              "        const docLinkHtml = 'Like what you see? Visit the ' +\n",
              "          '<a target=\"_blank\" href=https://colab.research.google.com/notebooks/data_table.ipynb>data table notebook</a>'\n",
              "          + ' to learn more about interactive tables.';\n",
              "        element.innerHTML = '';\n",
              "        dataTable['output_type'] = 'display_data';\n",
              "        await google.colab.output.renderOutput(dataTable, element);\n",
              "        const docLink = document.createElement('div');\n",
              "        docLink.innerHTML = docLinkHtml;\n",
              "        element.appendChild(docLink);\n",
              "      }\n",
              "    </script>\n",
              "  </div>\n",
              "\n",
              "\n",
              "<div id=\"df-14dfd211-eba9-43d6-b62c-1033f1542318\">\n",
              "  <button class=\"colab-df-quickchart\" onclick=\"quickchart('df-14dfd211-eba9-43d6-b62c-1033f1542318')\"\n",
              "            title=\"Suggest charts\"\n",
              "            style=\"display:none;\">\n",
              "\n",
              "<svg xmlns=\"http://www.w3.org/2000/svg\" height=\"24px\"viewBox=\"0 0 24 24\"\n",
              "     width=\"24px\">\n",
              "    <g>\n",
              "        <path d=\"M19 3H5c-1.1 0-2 .9-2 2v14c0 1.1.9 2 2 2h14c1.1 0 2-.9 2-2V5c0-1.1-.9-2-2-2zM9 17H7v-7h2v7zm4 0h-2V7h2v10zm4 0h-2v-4h2v4z\"/>\n",
              "    </g>\n",
              "</svg>\n",
              "  </button>\n",
              "\n",
              "<style>\n",
              "  .colab-df-quickchart {\n",
              "      --bg-color: #E8F0FE;\n",
              "      --fill-color: #1967D2;\n",
              "      --hover-bg-color: #E2EBFA;\n",
              "      --hover-fill-color: #174EA6;\n",
              "      --disabled-fill-color: #AAA;\n",
              "      --disabled-bg-color: #DDD;\n",
              "  }\n",
              "\n",
              "  [theme=dark] .colab-df-quickchart {\n",
              "      --bg-color: #3B4455;\n",
              "      --fill-color: #D2E3FC;\n",
              "      --hover-bg-color: #434B5C;\n",
              "      --hover-fill-color: #FFFFFF;\n",
              "      --disabled-bg-color: #3B4455;\n",
              "      --disabled-fill-color: #666;\n",
              "  }\n",
              "\n",
              "  .colab-df-quickchart {\n",
              "    background-color: var(--bg-color);\n",
              "    border: none;\n",
              "    border-radius: 50%;\n",
              "    cursor: pointer;\n",
              "    display: none;\n",
              "    fill: var(--fill-color);\n",
              "    height: 32px;\n",
              "    padding: 0;\n",
              "    width: 32px;\n",
              "  }\n",
              "\n",
              "  .colab-df-quickchart:hover {\n",
              "    background-color: var(--hover-bg-color);\n",
              "    box-shadow: 0 1px 2px rgba(60, 64, 67, 0.3), 0 1px 3px 1px rgba(60, 64, 67, 0.15);\n",
              "    fill: var(--button-hover-fill-color);\n",
              "  }\n",
              "\n",
              "  .colab-df-quickchart-complete:disabled,\n",
              "  .colab-df-quickchart-complete:disabled:hover {\n",
              "    background-color: var(--disabled-bg-color);\n",
              "    fill: var(--disabled-fill-color);\n",
              "    box-shadow: none;\n",
              "  }\n",
              "\n",
              "  .colab-df-spinner {\n",
              "    border: 2px solid var(--fill-color);\n",
              "    border-color: transparent;\n",
              "    border-bottom-color: var(--fill-color);\n",
              "    animation:\n",
              "      spin 1s steps(1) infinite;\n",
              "  }\n",
              "\n",
              "  @keyframes spin {\n",
              "    0% {\n",
              "      border-color: transparent;\n",
              "      border-bottom-color: var(--fill-color);\n",
              "      border-left-color: var(--fill-color);\n",
              "    }\n",
              "    20% {\n",
              "      border-color: transparent;\n",
              "      border-left-color: var(--fill-color);\n",
              "      border-top-color: var(--fill-color);\n",
              "    }\n",
              "    30% {\n",
              "      border-color: transparent;\n",
              "      border-left-color: var(--fill-color);\n",
              "      border-top-color: var(--fill-color);\n",
              "      border-right-color: var(--fill-color);\n",
              "    }\n",
              "    40% {\n",
              "      border-color: transparent;\n",
              "      border-right-color: var(--fill-color);\n",
              "      border-top-color: var(--fill-color);\n",
              "    }\n",
              "    60% {\n",
              "      border-color: transparent;\n",
              "      border-right-color: var(--fill-color);\n",
              "    }\n",
              "    80% {\n",
              "      border-color: transparent;\n",
              "      border-right-color: var(--fill-color);\n",
              "      border-bottom-color: var(--fill-color);\n",
              "    }\n",
              "    90% {\n",
              "      border-color: transparent;\n",
              "      border-bottom-color: var(--fill-color);\n",
              "    }\n",
              "  }\n",
              "</style>\n",
              "\n",
              "  <script>\n",
              "    async function quickchart(key) {\n",
              "      const quickchartButtonEl =\n",
              "        document.querySelector('#' + key + ' button');\n",
              "      quickchartButtonEl.disabled = true;  // To prevent multiple clicks.\n",
              "      quickchartButtonEl.classList.add('colab-df-spinner');\n",
              "      try {\n",
              "        const charts = await google.colab.kernel.invokeFunction(\n",
              "            'suggestCharts', [key], {});\n",
              "      } catch (error) {\n",
              "        console.error('Error during call to suggestCharts:', error);\n",
              "      }\n",
              "      quickchartButtonEl.classList.remove('colab-df-spinner');\n",
              "      quickchartButtonEl.classList.add('colab-df-quickchart-complete');\n",
              "    }\n",
              "    (() => {\n",
              "      let quickchartButtonEl =\n",
              "        document.querySelector('#df-14dfd211-eba9-43d6-b62c-1033f1542318 button');\n",
              "      quickchartButtonEl.style.display =\n",
              "        google.colab.kernel.accessAllowed ? 'block' : 'none';\n",
              "    })();\n",
              "  </script>\n",
              "</div>\n",
              "    </div>\n",
              "  </div>\n"
            ],
            "application/vnd.google.colaboratory.intrinsic+json": {
              "type": "dataframe"
            }
          },
          "metadata": {},
          "execution_count": 26
        }
      ]
    },
    {
      "cell_type": "code",
      "source": [
        "df.info() #빠진데이터, 데이터 형태 보여줌"
      ],
      "metadata": {
        "colab": {
          "base_uri": "https://localhost:8080/"
        },
        "id": "C2Nbh2TeZWc0",
        "outputId": "e8a10ffb-0c27-4840-ab42-3be55e6507db"
      },
      "execution_count": null,
      "outputs": [
        {
          "output_type": "stream",
          "name": "stdout",
          "text": [
            "<class 'pandas.core.frame.DataFrame'>\n",
            "RangeIndex: 569 entries, 0 to 568\n",
            "Data columns (total 31 columns):\n",
            " #   Column                   Non-Null Count  Dtype  \n",
            "---  ------                   --------------  -----  \n",
            " 0   mean radius              569 non-null    float64\n",
            " 1   mean texture             569 non-null    float64\n",
            " 2   mean perimeter           569 non-null    float64\n",
            " 3   mean area                569 non-null    float64\n",
            " 4   mean smoothness          569 non-null    float64\n",
            " 5   mean compactness         569 non-null    float64\n",
            " 6   mean concavity           569 non-null    float64\n",
            " 7   mean concave points      569 non-null    float64\n",
            " 8   mean symmetry            569 non-null    float64\n",
            " 9   mean fractal dimension   569 non-null    float64\n",
            " 10  radius error             569 non-null    float64\n",
            " 11  texture error            569 non-null    float64\n",
            " 12  perimeter error          569 non-null    float64\n",
            " 13  area error               569 non-null    float64\n",
            " 14  smoothness error         569 non-null    float64\n",
            " 15  compactness error        569 non-null    float64\n",
            " 16  concavity error          569 non-null    float64\n",
            " 17  concave points error     569 non-null    float64\n",
            " 18  symmetry error           569 non-null    float64\n",
            " 19  fractal dimension error  569 non-null    float64\n",
            " 20  worst radius             569 non-null    float64\n",
            " 21  worst texture            569 non-null    float64\n",
            " 22  worst perimeter          569 non-null    float64\n",
            " 23  worst area               569 non-null    float64\n",
            " 24  worst smoothness         569 non-null    float64\n",
            " 25  worst compactness        569 non-null    float64\n",
            " 26  worst concavity          569 non-null    float64\n",
            " 27  worst concave points     569 non-null    float64\n",
            " 28  worst symmetry           569 non-null    float64\n",
            " 29  worst fractal dimension  569 non-null    float64\n",
            " 30  label                    569 non-null    int64  \n",
            "dtypes: float64(30), int64(1)\n",
            "memory usage: 137.9 KB\n"
          ]
        }
      ]
    },
    {
      "cell_type": "markdown",
      "source": [
        "- 마지막 라벨 값 int 64"
      ],
      "metadata": {
        "id": "OVeFb7OFZZHh"
      }
    },
    {
      "cell_type": "code",
      "source": [
        "df['label'].value_counts() # unique한 값이 몇종류 있는지 볼 때 쓰임"
      ],
      "metadata": {
        "colab": {
          "base_uri": "https://localhost:8080/"
        },
        "id": "lkVcbOTxZcUm",
        "outputId": "5ae620d3-bbc7-48b4-ca9b-6e38f0838a5e"
      },
      "execution_count": null,
      "outputs": [
        {
          "output_type": "execute_result",
          "data": {
            "text/plain": [
              "label\n",
              "1    357\n",
              "0    212\n",
              "Name: count, dtype: int64"
            ]
          },
          "metadata": {},
          "execution_count": 28
        }
      ]
    },
    {
      "cell_type": "code",
      "source": [
        "import numpy as np\n",
        "np.unique(cancer.target_names) # 0: benign(양성), 1: malignant(악성)"
      ],
      "metadata": {
        "colab": {
          "base_uri": "https://localhost:8080/"
        },
        "id": "mhOYvZK1Zp_J",
        "outputId": "374597e2-bf61-460c-c54b-ef095054d015"
      },
      "execution_count": null,
      "outputs": [
        {
          "output_type": "execute_result",
          "data": {
            "text/plain": [
              "array(['benign', 'malignant'], dtype='<U9')"
            ]
          },
          "metadata": {},
          "execution_count": 29
        }
      ]
    },
    {
      "cell_type": "markdown",
      "source": [
        "## Data Processing"
      ],
      "metadata": {
        "id": "y4gdDNvuZkEr"
      }
    },
    {
      "cell_type": "code",
      "source": [
        "x_raw = cancer.data\n",
        "y_raw = cancer.target\n",
        "\n",
        "print(f'{type(x_raw)=}:{x_raw.shape=}')\n",
        "print(f'{type(y_raw)=}:{y_raw.shape=}')"
      ],
      "metadata": {
        "colab": {
          "base_uri": "https://localhost:8080/"
        },
        "id": "MBdDEy3laKiX",
        "outputId": "e6ea0360-563f-4db6-c2ff-4fb92e9b915f"
      },
      "execution_count": null,
      "outputs": [
        {
          "output_type": "stream",
          "name": "stdout",
          "text": [
            "type(x_raw)=<class 'numpy.ndarray'>:x_raw.shape=(569, 30)\n",
            "type(y_raw)=<class 'numpy.ndarray'>:y_raw.shape=(569,)\n"
          ]
        }
      ]
    },
    {
      "cell_type": "code",
      "source": [
        "cancer.feature_names"
      ],
      "metadata": {
        "colab": {
          "base_uri": "https://localhost:8080/"
        },
        "id": "fblqlnh3aYRT",
        "outputId": "5ec710cc-6de4-4af9-f81d-95c413f5851d"
      },
      "execution_count": null,
      "outputs": [
        {
          "output_type": "execute_result",
          "data": {
            "text/plain": [
              "array(['mean radius', 'mean texture', 'mean perimeter', 'mean area',\n",
              "       'mean smoothness', 'mean compactness', 'mean concavity',\n",
              "       'mean concave points', 'mean symmetry', 'mean fractal dimension',\n",
              "       'radius error', 'texture error', 'perimeter error', 'area error',\n",
              "       'smoothness error', 'compactness error', 'concavity error',\n",
              "       'concave points error', 'symmetry error',\n",
              "       'fractal dimension error', 'worst radius', 'worst texture',\n",
              "       'worst perimeter', 'worst area', 'worst smoothness',\n",
              "       'worst compactness', 'worst concavity', 'worst concave points',\n",
              "       'worst symmetry', 'worst fractal dimension'], dtype='<U23')"
            ]
          },
          "metadata": {},
          "execution_count": 32
        }
      ]
    },
    {
      "cell_type": "code",
      "source": [
        "from torch.utils.data import Dataset\n",
        "from sklearn.model_selection import train_test_split\n",
        "\n",
        "x_train, x_test, y_train, y_test = train_test_split(\n",
        "    x_raw, y_raw, test_size = .1,\n",
        "    stratify=y_raw, #지난 시간과 코드- 모집단과 분포를 맞춰서 샘플링 여기선 y_raw로 맞춰줌(ex:나이 비율 맞춰 통계)\n",
        ")\n",
        "\n",
        "x_train, x_val, y_train, y_val = train_test_split(\n",
        "    x_train, y_train, test_size = .1,\n",
        "    stratify=y_train,\n",
        ")\n",
        "\n",
        "print(f'{len(x_train)=}\\n  {len(x_val)=}\\n {len(x_test)=}') # train+val 90프로 정도\n"
      ],
      "metadata": {
        "colab": {
          "base_uri": "https://localhost:8080/"
        },
        "id": "RdnP7-66ac8w",
        "outputId": "c274e6e9-18a2-4a81-c4e2-3e1d4af5c4ab"
      },
      "execution_count": null,
      "outputs": [
        {
          "output_type": "stream",
          "name": "stdout",
          "text": [
            "len(x_train)=460\n",
            "  len(x_val)=52\n",
            " len(x_test)=57\n"
          ]
        }
      ]
    },
    {
      "cell_type": "code",
      "source": [
        "import numpy as np\n",
        "\n",
        "test_r  = np.unique(y_test , return_counts = True)\n",
        "train_r = np.unique(y_train, return_counts = True)\n",
        "val_r   = np.unique(y_val,   return_counts = True)\n",
        "\n",
        "print(\"test's cancer ratio : \", np.round( test_r[1][1]/np.sum( test_r[1]),2))\n",
        "print(\"train's cancer ratio: \", np.round(train_r[1][1]/np.sum(train_r[1]),2))\n",
        "print(\"val's cancer ratio. : \", np.round(  val_r[1][1]/np.sum(  val_r[1]),2))"
      ],
      "metadata": {
        "colab": {
          "base_uri": "https://localhost:8080/"
        },
        "id": "jQw7Fu04beUv",
        "outputId": "38dfba76-04eb-4eea-906d-99f23b0d76b4"
      },
      "execution_count": null,
      "outputs": [
        {
          "output_type": "stream",
          "name": "stdout",
          "text": [
            "test's cancer ratio :  0.63\n",
            "train's cancer ratio:  0.63\n",
            "val's cancer ratio. :  0.63\n"
          ]
        }
      ]
    },
    {
      "cell_type": "code",
      "source": [
        "print(f'{x_train.shape=}\\n{  x_val.shape= }\\n {x_test.shape= }')"
      ],
      "metadata": {
        "colab": {
          "base_uri": "https://localhost:8080/"
        },
        "id": "wcWSlRymbgH6",
        "outputId": "4416156e-a1a9-473f-bb0a-e6a491dc007d"
      },
      "execution_count": null,
      "outputs": [
        {
          "output_type": "stream",
          "name": "stdout",
          "text": [
            "x_train.shape=(460, 30)\n",
            "  x_val.shape= (52, 30)\n",
            " x_test.shape= (57, 30)\n"
          ]
        }
      ]
    },
    {
      "cell_type": "markdown",
      "source": [
        "## Dataset and DataLoader"
      ],
      "metadata": {
        "id": "VPVWK9EabOQS"
      }
    },
    {
      "cell_type": "code",
      "source": [
        "from torch.utils.data import Dataset\n",
        "import torch\n",
        "import torch.nn as nn\n",
        "\n",
        "class BCDataset (Dataset):\n",
        "\n",
        "  def __init__(self, r_vec, r_label):\n",
        "    self.data = torch.tensor(r_vec).float() # tensor로 바꿔주는 것이 중요, float: 바이너리 classofication이여서 바꿔줌\n",
        "    self.label = torch.tensor(r_label).float().unsqueeze(1)\n",
        "\n",
        "  def __len__(self):\n",
        "    return len(self.data)\n",
        "\n",
        "  def __getitem__(self, idx):\n",
        "    return self.data[idx],self.label[idx]\n",
        "\n",
        "train_ds = BCDataset(x_train,y_train)\n",
        "val_ds = BCDataset(x_val, y_val)\n",
        "test_ds = BCDataset(x_test, y_test)"
      ],
      "metadata": {
        "id": "Ca5y0tNnbSoa"
      },
      "execution_count": null,
      "outputs": []
    },
    {
      "cell_type": "code",
      "source": [
        "next(iter(train_ds)) # dataset은 iterable하므로 iter 사용해 뽑아냄"
      ],
      "metadata": {
        "colab": {
          "base_uri": "https://localhost:8080/"
        },
        "id": "0E1NcGdyclc_",
        "outputId": "e4d9051f-cf0e-4021-f7db-adf29b425443"
      },
      "execution_count": null,
      "outputs": [
        {
          "output_type": "execute_result",
          "data": {
            "text/plain": [
              "(tensor([1.15e+01, 1.82e+01, 7.36e+01, 4.03e+02, 8.85e-02, 7.69e-02, 3.34e-02,\n",
              "         1.50e-02, 1.41e-01, 6.24e-02, 3.28e-01, 1.06e+00, 2.47e+00, 2.29e+01,\n",
              "         6.65e-03, 2.65e-02, 2.22e-02, 7.81e-03, 1.89e-02, 3.41e-03, 1.27e+01,\n",
              "         2.16e+01, 8.27e+01, 4.90e+02, 1.14e-01, 1.79e-01, 1.23e-01, 5.51e-02,\n",
              "         2.21e-01, 7.64e-02]),\n",
              " tensor([1.]))"
            ]
          },
          "metadata": {},
          "execution_count": 37
        }
      ]
    },
    {
      "cell_type": "code",
      "source": [
        "from torch.utils.data import DataLoader\n",
        "\n",
        "train_loader = DataLoader(\n",
        "    dataset = train_ds,\n",
        "    batch_size = 32,\n",
        "    shuffle = True,\n",
        ")\n",
        "\n",
        "valid_loader = DataLoader(\n",
        "    dataset = val_ds,\n",
        "    batch_size = 32,\n",
        "    shuffle = True,\n",
        ")\n",
        "test_loader = DataLoader(\n",
        "    dataset = test_ds,\n",
        "    batch_size = 32,\n",
        "    shuffle = False,\n",
        ")\n",
        "\n"
      ],
      "metadata": {
        "id": "4CoUmhaFc1yp"
      },
      "execution_count": null,
      "outputs": []
    },
    {
      "cell_type": "markdown",
      "source": [
        "## Training Loop Implementation"
      ],
      "metadata": {
        "id": "E501zDa5dU49"
      }
    },
    {
      "cell_type": "code",
      "source": [
        "from tqdm import tqdm #진행 상항을 시각적으로 보여주는 라이브러리\n",
        "\n",
        "def train_loop (\n",
        "    n_epoch,\n",
        "    train_ds, val_ds,\n",
        "    model, optimizer, loss_fnc,\n",
        "    device = 'cpu',):\n",
        "\n",
        "  log_hist = torch.zeros([0,3]).to(device)# 학습 및 검증 손실 기록\n",
        "\n",
        " # 에포크 루프\n",
        "  for epoch in tqdm(range(n_epoch)):\n",
        "    # print(f'\\r{epoch:6>}', end='')\n",
        "\n",
        "    model = model.to(device) #에포크마다 모델을 지정된 device로 이동시킴\n",
        "    model.train() # train()모드로 설정\n",
        "\n",
        "# 학습 데이터 셋 루프\n",
        "    for x_tensor, y_tensor in train_ds: #학습 데이터 셋(train_ds)에서 배치단위로 데이터 로드\n",
        "\n",
        "      x_tensor.to(device)\n",
        "      y_tensor.to(device)\n",
        "\n",
        "      y_pred = model(x_tensor) # 모델에 입력데이터(x_tensor)를 공급, 예측값(y_tensor) 계산\n",
        "      loss_train = loss_fnc(y_pred, y_tensor)\n",
        "\n",
        "      if torch.isinf(loss_train): # 손실값이 무한대인 경우\n",
        "        print(f'Error: loss is infinity!')\n",
        "        break\n",
        "\n",
        "      optimizer.zero_grad()\n",
        "      loss_train.backward()#역전파 통해 기울기 계산\n",
        "      optimizer.step()# 가중치 업데이트\n",
        "\n",
        "#검증 데이터 셋 루프\n",
        "    with torch.no_grad(): #검증 과정에서 기울기 계산 비활성화\n",
        "      for x_tensor, y_tensor in val_ds: #검증데이터셋(val_ds)에서 배치단위로 데이터 로드\n",
        "        x_tensor = x_tensor.to(device)\n",
        "        y_tensor = y_tensor.to(device)\n",
        "        model.eval() #eval모드로 설정\n",
        "        pred = model(x_tensor) # 예측값 계산\n",
        "        loss_val = loss_fnc(pred, y_tensor)# 검증 손실(loss_val)계산\n",
        "\n",
        "\n",
        "    if epoch % 100 == 0:\n",
        "      tmp = torch.tensor([epoch, loss_train.item(), loss_val.item()]).to(log_hist.device)\n",
        "      # print(tmp)\n",
        "      log_hist = torch.concat( (log_hist, tmp.reshape(1,-1)), dim=0 )\n",
        "      print(f' Epoch / loss {loss_train.item():.4f} / val_loss {loss_val.item():.4f}')\n",
        "\n",
        "    if epoch == n_epoch:\n",
        "      print(f' Epoch / loss {loss_train.item():.4f} / val_loss {loss_val.item():.4f}')\n",
        "\n",
        "  return model,log_hist\n"
      ],
      "metadata": {
        "id": "fIIfj-oedT_c"
      },
      "execution_count": null,
      "outputs": []
    },
    {
      "cell_type": "markdown",
      "source": [
        "##  Model Implementation"
      ],
      "metadata": {
        "id": "MxaWV-l5d4eQ"
      }
    },
    {
      "cell_type": "code",
      "source": [
        "class SimpleModel(nn.Module):\n",
        "\n",
        "  def __init__(self, n_feature): #클래스의 초기화 메서드\n",
        "    super().__init__()# 부모 클래스인 nn.Module의 초기화 메서드 호출하여\n",
        "                           # nn.Module의 모든 속성, 메서드 상속받도록 함\n",
        "                           # n_feature: 입력 특성 수를 나타냄\n",
        "# 신경망 층 정의\n",
        "    self.l0 = nn.Linear(n_feature, 16) #(입력, 출력)\n",
        "    self.a0 = nn.ReLU()\n",
        "    self.l1 = nn.Linear(16,16)\n",
        "    self.a1 = nn.ReLU()\n",
        "    self.lf = nn.Linear(16,1)\n",
        "    self.out = nn.Sigmoid() # 추가된 부분- sigmoid: 출력값을 0과 1사이로 변환,\n",
        "                                          # 이진 분류 문제에서 확률 값으로 사용\n",
        "# 순전파 정의-입력데이터 x가 모델을 통과하면서 어떻게 변환되는지 설명\n",
        "  def forward(self, x):\n",
        "    x = self.l0(x) # 입력데이터 x가 첫번째 선형 계층 l0통과\n",
        "    x = self.a0(x) # 선형 계층의 출력을 첫번째 ReLU 활성화 함수 a0에 입력, 비선형성 추가\n",
        "    x = self.l1(x) # 활성화 함수의 출력을 두번째 선형 계층에 입력\n",
        "    x = self.a1(x) # 두번째 선형 계층의 출력을 두번째 활성화 함수에 입력\n",
        "    x = self.lf(x) # 활성화 함수의 출력을 마지막 선형계층에 입력\n",
        "    x = self.out(x) # 추가된 부분- 마지막 선형 계층 출력을 Sigmoid활성화 함수에 입력,\n",
        "    #출력값을 0에서 1사이로 반환\n",
        "\n",
        "    return x"
      ],
      "metadata": {
        "id": "UN2Axw4qd80r"
      },
      "execution_count": null,
      "outputs": []
    },
    {
      "cell_type": "markdown",
      "source": [
        "### Test Model"
      ],
      "metadata": {
        "id": "Kdr1YQgReEyu"
      }
    },
    {
      "cell_type": "code",
      "source": [
        "# input vector의 number of components확인.\n",
        "n_features = x_raw.shape[-1] # x_raw: 원본 입력 데이터로 가정,\n",
        "                             # 입력데이터의 마지막 차원의 크기 가져옴\n",
        "                             #이는 입력 벡터의 특성 수 의미\n",
        "print(f'{n_features    =}')\n",
        "\n",
        "# random한 input vector 5개에 대한\n",
        "# 모델의 예측 결과를 확인하여\n",
        "# 모델의 i/o 의 shape 확인.\n",
        "model = SimpleModel(n_features) #입력 특성 수를 n_feature로 설정, SimlpleModel생성\n",
        "                                #모델의 첫번째 선형 계층이 입력 벡터의 크기를 알 수 있도록 함\n",
        "x = torch.randn( (5, n_features) ) # 5->배치 크기, n_features->특성 수\n",
        "print(f'{x.shape       =}')\n",
        "print(f'{model(x).shape=}')# x를 모델에 통과시킨 결과 출력\n"
      ],
      "metadata": {
        "colab": {
          "base_uri": "https://localhost:8080/"
        },
        "id": "WHY-uYeseHyF",
        "outputId": "f185f88b-7a74-4c3e-de64-f35f4ce92a17"
      },
      "execution_count": null,
      "outputs": [
        {
          "output_type": "stream",
          "name": "stdout",
          "text": [
            "n_features    =30\n",
            "x.shape       =torch.Size([5, 30])\n",
            "model(x).shape=torch.Size([5, 1])\n"
          ]
        }
      ]
    },
    {
      "cell_type": "markdown",
      "source": [
        "## Training"
      ],
      "metadata": {
        "id": "RZccXwgzeVWy"
      }
    },
    {
      "cell_type": "code",
      "source": [
        "# device 설정.\n",
        "device = (\n",
        "      \"cuda\" if torch.cuda.is_available()\n",
        "      else \"mps\"\n",
        "      if torch.backends.mps.is_available()\n",
        "      else \"cpu\"\n",
        "  )\n",
        "#device는 모델이 사용할 장치를 설정.\n",
        "#GPU를 사용할 수 있으면 \"cuda\",\n",
        "#Apple Silicon의 Metal Performance Shaders(MPS)를 사용할 수 있으면 \"mps\",\n",
        "#그렇지 않으면 \"cpu\"를 사용.\n",
        "print(f\"{device=}\")\n"
      ],
      "metadata": {
        "colab": {
          "base_uri": "https://localhost:8080/"
        },
        "id": "XS7G5bajeX4w",
        "outputId": "a5cfac23-7ef6-40f9-c3a0-c7b08a43210d"
      },
      "execution_count": null,
      "outputs": [
        {
          "output_type": "stream",
          "name": "stdout",
          "text": [
            "device='cpu'\n"
          ]
        }
      ]
    },
    {
      "cell_type": "code",
      "source": [
        "\n",
        "# number of epochs\n",
        "n_epoch = 1000\n",
        "# learning ratio\n",
        "lr = 1e-4 # 0.0001로 설정\n",
        "\n",
        "# loss function 설정\n",
        "loss_fnc  = nn.BCELoss()# sigmoid 형태이므로 이렇게 작성\n",
        "#이진 교차 엔트로피 손실(Binary Cross Entropy Loss)로 설정-> 이진분류(0과 1사이값)\n",
        "# 모델 생성 및 초기화\n",
        "model = SimpleModel(n_features)\n",
        "# optimizer 생성 및 초기화\n",
        "optimizer = torch.optim.SGD(model.parameters(), lr=lr)\n",
        "#확률적 경사 하강법(SGD) 옵티마이저를 사용하여 모델의 파라미터를 업데이트\n",
        "\n",
        "m, h = train_loop ( #m은 학습이 끝난 모델을, h는 학습 로그 또는 기록\n",
        "    n_epoch,\n",
        "    train_loader, valid_loader,\n",
        "    model, optimizer, loss_fnc,\n",
        "    device = device)"
      ],
      "metadata": {
        "colab": {
          "base_uri": "https://localhost:8080/"
        },
        "id": "oOQ-iD9keb4v",
        "outputId": "75bfbe79-3a5c-4b12-ec5d-9b8f342c69ca"
      },
      "execution_count": null,
      "outputs": [
        {
          "output_type": "stream",
          "name": "stderr",
          "text": [
            "  1%|          | 9/1000 [00:00<00:22, 43.81it/s]"
          ]
        },
        {
          "output_type": "stream",
          "name": "stdout",
          "text": [
            " Epoch / loss 1.3167 / val_loss 1.7262\n"
          ]
        },
        {
          "output_type": "stream",
          "name": "stderr",
          "text": [
            " 11%|█         | 107/1000 [00:02<00:24, 36.43it/s]"
          ]
        },
        {
          "output_type": "stream",
          "name": "stdout",
          "text": [
            " Epoch / loss 0.2655 / val_loss 0.2158\n"
          ]
        },
        {
          "output_type": "stream",
          "name": "stderr",
          "text": [
            " 21%|██        | 206/1000 [00:05<00:17, 45.76it/s]"
          ]
        },
        {
          "output_type": "stream",
          "name": "stdout",
          "text": [
            " Epoch / loss 0.0869 / val_loss 0.2243\n"
          ]
        },
        {
          "output_type": "stream",
          "name": "stderr",
          "text": [
            " 31%|███       | 310/1000 [00:07<00:13, 51.29it/s]"
          ]
        },
        {
          "output_type": "stream",
          "name": "stdout",
          "text": [
            " Epoch / loss 0.2709 / val_loss 0.3472\n"
          ]
        },
        {
          "output_type": "stream",
          "name": "stderr",
          "text": [
            " 41%|████      | 406/1000 [00:10<00:14, 41.94it/s]"
          ]
        },
        {
          "output_type": "stream",
          "name": "stdout",
          "text": [
            " Epoch / loss 0.2721 / val_loss 0.2083\n"
          ]
        },
        {
          "output_type": "stream",
          "name": "stderr",
          "text": [
            " 51%|█████     | 509/1000 [00:12<00:09, 51.09it/s]"
          ]
        },
        {
          "output_type": "stream",
          "name": "stdout",
          "text": [
            " Epoch / loss 0.2633 / val_loss 0.2945\n"
          ]
        },
        {
          "output_type": "stream",
          "name": "stderr",
          "text": [
            " 61%|██████    | 609/1000 [00:14<00:07, 50.14it/s]"
          ]
        },
        {
          "output_type": "stream",
          "name": "stdout",
          "text": [
            " Epoch / loss 0.1667 / val_loss 0.3665\n"
          ]
        },
        {
          "output_type": "stream",
          "name": "stderr",
          "text": [
            " 71%|███████   | 706/1000 [00:17<00:08, 32.73it/s]"
          ]
        },
        {
          "output_type": "stream",
          "name": "stdout",
          "text": [
            " Epoch / loss 0.0232 / val_loss 0.1435\n"
          ]
        },
        {
          "output_type": "stream",
          "name": "stderr",
          "text": [
            " 81%|████████  | 810/1000 [00:19<00:03, 47.85it/s]"
          ]
        },
        {
          "output_type": "stream",
          "name": "stdout",
          "text": [
            " Epoch / loss 0.1597 / val_loss 0.1537\n"
          ]
        },
        {
          "output_type": "stream",
          "name": "stderr",
          "text": [
            " 91%|█████████ | 909/1000 [00:21<00:01, 50.17it/s]"
          ]
        },
        {
          "output_type": "stream",
          "name": "stdout",
          "text": [
            " Epoch / loss 0.0710 / val_loss 0.2430\n"
          ]
        },
        {
          "output_type": "stream",
          "name": "stderr",
          "text": [
            "100%|██████████| 1000/1000 [00:23<00:00, 42.44it/s]\n"
          ]
        }
      ]
    },
    {
      "cell_type": "markdown",
      "source": [
        "## Learning Curve Check"
      ],
      "metadata": {
        "id": "ClB0GVGtetoy"
      }
    },
    {
      "cell_type": "code",
      "source": [
        "h #history : training loop"
      ],
      "metadata": {
        "colab": {
          "base_uri": "https://localhost:8080/"
        },
        "id": "NSvVstAFe1uy",
        "outputId": "e1b7c5a4-464d-4b47-f841-2716e2f2d810"
      },
      "execution_count": null,
      "outputs": [
        {
          "output_type": "execute_result",
          "data": {
            "text/plain": [
              "tensor([[0.00e+00, 1.32e+00, 1.73e+00],\n",
              "        [1.00e+02, 2.65e-01, 2.16e-01],\n",
              "        [2.00e+02, 8.69e-02, 2.24e-01],\n",
              "        [3.00e+02, 2.71e-01, 3.47e-01],\n",
              "        [4.00e+02, 2.72e-01, 2.08e-01],\n",
              "        [5.00e+02, 2.63e-01, 2.94e-01],\n",
              "        [6.00e+02, 1.67e-01, 3.67e-01],\n",
              "        [7.00e+02, 2.32e-02, 1.44e-01],\n",
              "        [8.00e+02, 1.60e-01, 1.54e-01],\n",
              "        [9.00e+02, 7.10e-02, 2.43e-01]])"
            ]
          },
          "metadata": {},
          "execution_count": 46
        }
      ]
    },
    {
      "cell_type": "code",
      "source": [
        "import matplotlib.pyplot as plt\n",
        "\n",
        "h0 = h.detach().numpy()\n",
        "print(h0.shape)\n",
        "plt.plot(h0[:,0], h0[:,1], label='train')\n",
        "plt.plot(h0[:,0], h0[:,2], label='valid')\n",
        "plt.legend()\n",
        "plt.grid()\n",
        "plt.show()\n"
      ],
      "metadata": {
        "colab": {
          "base_uri": "https://localhost:8080/",
          "height": 448
        },
        "id": "_8_vowb0e_7A",
        "outputId": "f907391a-719b-4159-b554-6fc286eb3631"
      },
      "execution_count": null,
      "outputs": [
        {
          "output_type": "stream",
          "name": "stdout",
          "text": [
            "(10, 3)\n"
          ]
        },
        {
          "output_type": "display_data",
          "data": {
            "text/plain": [
              "<Figure size 640x480 with 1 Axes>"
            ],
            "image/png": "[encoded data removed]"
          },
          "metadata": {}
        }
      ]
    },
    {
      "cell_type": "markdown",
      "source": [
        "## Test"
      ],
      "metadata": {
        "id": "7qitB_7ofJQC"
      }
    },
    {
      "cell_type": "code",
      "source": [
        "f_m = model.cpu()\n",
        "f_m.eval() # 학습이 되지 않으므로\n",
        "#모델을 평가 모드로 전환\n",
        "\n",
        "with torch.no_grad(): # no grad\n",
        "  is_first = True # 처음 반복 여부를 확인\n",
        "  for x_tensor, y_tensor in test_loader: #테스트 데이터 로더에서 배치(batch)를 반복\n",
        "    x_tensor = x_tensor.cpu()\n",
        "    y_tensor = y_tensor.cpu()\n",
        "    pred = f_m(x_tensor) #모델을 사용하여 예측값을 생성\n",
        "\n",
        "    # print(y_tensor.numpy().shape)\n",
        "    if is_first:\n",
        "      #test_pred_prob = pred.numpy().copy() 코드 오류 수정1\n",
        "      test_pred_prob = pred.cpu().numpy().copy()\n",
        "      test_label = y_tensor.cpu().numpy().copy()\n",
        "      is_first = False #이후 배치에서는 이 초기화 코드가 실행되지 않도록 플래그 설정\n",
        "\n",
        "    else: #첫 번째 배치 이후에는 test_label과 test_pred_prob에 새 데이터를 추가\n",
        "      test_label = np.concatenate((test_label,y_tensor.cpu().numpy()), axis=0)\n",
        "      #test_pred_prob = np.concatenate((test_pred_prob, pred.numpy()), axis=0)코드 오류 수정 2\n",
        "      test_pred_prob = np.concatenate((test_pred_prob, pred.cpu().numpy()), axis=0)\n",
        "\n",
        "print(test_label.shape, test_label.dtype)\n",
        "print(test_pred_prob.shape, test_pred_prob.dtype)\n",
        "\n",
        "\n",
        "# 여기서 틀린 부분 2개 찾아오기- 시험 문제 가산점\n",
        "# 다시 짜보기\n",
        "## 잘못된 부분은 pred를 NumPy 배열로 변환할 때 GPU에서 수행될 가능성을 배제하지 않은 점.\n",
        "#pred와 y_tensor를 CPU로 이동시키지 않고 바로 NumPy 배열로 변환하려고 하면,\n",
        "#만약 텐서가 GPU에 있다면 오류가 발생.\n",
        "# pred와 y_tensor를 CPU로 이동시키고 나서 NumPy 배열로 변환"
      ],
      "metadata": {
        "colab": {
          "base_uri": "https://localhost:8080/"
        },
        "id": "0QxNcTPnfLrW",
        "outputId": "736c7ba4-3730-4235-d41f-b045100c50fe"
      },
      "execution_count": null,
      "outputs": [
        {
          "output_type": "stream",
          "name": "stdout",
          "text": [
            "(57, 1) float32\n",
            "(57, 1) float32\n"
          ]
        }
      ]
    },
    {
      "cell_type": "code",
      "source": [
        "\n",
        "from sklearn.metrics import (\n",
        "    confusion_matrix,\n",
        "    precision_score,\n",
        "    recall_score,\n",
        "    f1_score,\n",
        "    fbeta_score,\n",
        ")\n",
        "pred = np.round(test_pred_prob) #예측 확률(test_pred_prob)을 반올림하여 이진 클래스(0 또는 1)로 변환\n",
        "label = test_label\n",
        "\n",
        "#혼동 행렬 출력-실제 레이블(label)과 예측값(pred)을 비교\n",
        "print('Confusion Matrix\\n', # 맞은 것 확인.. 크로스 된 부분 (행이 실제데이터, 열이 예측값)\n",
        "      str(confusion_matrix(label,pred))\n",
        "      )\n",
        "print(f'Precision:{precision_score(label,pred):.2f}') #정밀도: 예측된 양성 중 실제로 양성인 비율.\n",
        "print(f'Recall.  :{recall_score(label,pred):.2f}') #재현율: 실제 양성 중 모델이 올바르게 예측한 비율.\n",
        "print(f'F1-Score :{f1_score(label,pred):.2f}') # precision과 recall에 동일한 가중치 가짐\n",
        "                                               #정밀도와 재현율의 균형을 평가.\n",
        "print(f'F2-Score :{fbeta_score(label,pred,beta=2):.2f}') # recall에 더 가중치를 둠 (의료에서 사용)"
      ],
      "metadata": {
        "id": "q2U3m6GofYRP"
      },
      "execution_count": null,
      "outputs": []
    },
    {
      "cell_type": "code",
      "source": [
        "pred #test_pred_prob를 반올림하여 이진 클래스로 변환한 것,\n",
        "# 모델의 예측값을 나타"
      ],
      "metadata": {
        "colab": {
          "base_uri": "https://localhost:8080/"
        },
        "id": "HkUQeVZWgjps",
        "outputId": "a45fdd32-a407-4928-8d65-42ed56d0b08a"
      },
      "execution_count": null,
      "outputs": [
        {
          "output_type": "execute_result",
          "data": {
            "text/plain": [
              "tensor([[8.51e-01],\n",
              "        [8.74e-01],\n",
              "        [9.77e-01],\n",
              "        [9.53e-01],\n",
              "        [2.76e-07],\n",
              "        [2.02e-07],\n",
              "        [5.49e-03],\n",
              "        [6.72e-03],\n",
              "        [7.18e-08],\n",
              "        [1.15e-05],\n",
              "        [9.76e-01],\n",
              "        [9.77e-01],\n",
              "        [9.52e-01],\n",
              "        [9.87e-01],\n",
              "        [9.60e-01],\n",
              "        [8.37e-07],\n",
              "        [1.30e-05],\n",
              "        [9.59e-01],\n",
              "        [9.80e-01],\n",
              "        [9.62e-01],\n",
              "        [9.77e-01],\n",
              "        [9.34e-01],\n",
              "        [1.13e-01],\n",
              "        [9.83e-01],\n",
              "        [5.78e-01]])"
            ]
          },
          "metadata": {},
          "execution_count": 51
        }
      ]
    }
  ]
}