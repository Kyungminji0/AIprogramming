{
  "nbformat": 4,
  "nbformat_minor": 0,
  "metadata": {
    "colab": {
      "provenance": [],
      "gpuType": "T4"
    },
    "kernelspec": {
      "name": "python3",
      "display_name": "Python 3"
    },
    "language_info": {
      "name": "python"
    },
    "accelerator": "GPU"
  },
  "cells": [
    {
      "cell_type": "markdown",
      "source": [
        "# transpose예제"
      ],
      "metadata": {
        "id": "6HbjYnJMl-2Y"
      }
    },
    {
      "cell_type": "code",
      "source": [
        "a=np.random.rand(2,3)\n",
        "t1=np.transpose(a)\n",
        "t2=a.T\n",
        "print(a.shape)\n",
        "print(t1.shape)\n",
        "print(t2.shape)\n",
        "\n",
        "t2[0,1] = 77\n",
        "print(a[1,0])\n",
        "print(t1[0,1])\n",
        "print(t2[0,1])"
      ],
      "metadata": {
        "colab": {
          "base_uri": "https://localhost:8080/"
        },
        "id": "2ylVAlIniRpD",
        "outputId": "c310351f-441a-45fc-b52d-023610a387a7"
      },
      "execution_count": null,
      "outputs": [
        {
          "output_type": "stream",
          "name": "stdout",
          "text": [
            "(2, 3)\n",
            "(3, 2)\n",
            "(3, 2)\n",
            "77.0\n",
            "77.0\n",
            "77.0\n"
          ]
        }
      ]
    },
    {
      "cell_type": "code",
      "source": [
        "import torch\n",
        "a_torch = torch.rand(2,3)\n",
        "print(a_torch)\n",
        "t1_torch = torch.transpose(a_torch, 0, 1)\n",
        "t2_torch = a_torch.T\n",
        "print(a_torch.shape)\n",
        "print(t1_torch.shape)\n",
        "print(t2_torch.shape)\n",
        "\n",
        "t2_torch[0,1] = 77\n",
        "print(a_torch[1,0])\n",
        "print(t1_torch[0,1])\n",
        "print(t2_torch[0,1])"
      ],
      "metadata": {
        "colab": {
          "base_uri": "https://localhost:8080/"
        },
        "id": "rcsQZ_1bksPy",
        "outputId": "a5cd43f5-f301-4f67-accb-907199bd03b1"
      },
      "execution_count": null,
      "outputs": [
        {
          "output_type": "stream",
          "name": "stdout",
          "text": [
            "tensor([[0.0879, 0.4686, 0.2884],\n",
            "        [0.5153, 0.7543, 0.8320]])\n",
            "torch.Size([2, 3])\n",
            "torch.Size([3, 2])\n",
            "torch.Size([3, 2])\n",
            "tensor(77.)\n",
            "tensor(77.)\n",
            "tensor(77.)\n"
          ]
        }
      ]
    },
    {
      "cell_type": "code",
      "source": [
        "a_torch.is_contiguous()"
      ],
      "metadata": {
        "colab": {
          "base_uri": "https://localhost:8080/"
        },
        "id": "Uw55a4uNlDfj",
        "outputId": "678a10c2-6ccf-4bfb-9c8a-19409e2d17dd"
      },
      "execution_count": null,
      "outputs": [
        {
          "output_type": "execute_result",
          "data": {
            "text/plain": [
              "True"
            ]
          },
          "metadata": {},
          "execution_count": 39
        }
      ]
    },
    {
      "cell_type": "code",
      "source": [
        "a_torch.shape"
      ],
      "metadata": {
        "colab": {
          "base_uri": "https://localhost:8080/"
        },
        "id": "ydu5jnMOm9J2",
        "outputId": "e42cab9c-2ecb-4698-d8e4-19724773f727"
      },
      "execution_count": null,
      "outputs": [
        {
          "output_type": "execute_result",
          "data": {
            "text/plain": [
              "torch.Size([2, 3])"
            ]
          },
          "metadata": {},
          "execution_count": 40
        }
      ]
    },
    {
      "cell_type": "markdown",
      "source": [
        "- **permute**-순열, 축의 위치 변경\n",
        "  - 임의의 수의 축들을 임의의 순서로 자유롭게 변경 가능"
      ],
      "metadata": {
        "id": "6UZViX7BoFK-"
      }
    },
    {
      "cell_type": "code",
      "source": [
        "import numpy as np\n",
        "a=np.random.rand(2,3,4)\n",
        "t1=np.transpose(a,(0,2,1))\n",
        "print(a.shape)\n",
        "print(t1.shape)\n",
        "t1[0,1,2]=77\n",
        "print(a[0,2,1])\n",
        "print(t1[0,1,2])"
      ],
      "metadata": {
        "colab": {
          "base_uri": "https://localhost:8080/"
        },
        "id": "lntXC1lOoRu1",
        "outputId": "ce7b2f86-a427-4018-b719-f90a08fb5c29"
      },
      "execution_count": null,
      "outputs": [
        {
          "output_type": "stream",
          "name": "stdout",
          "text": [
            "(2, 3, 4)\n",
            "(2, 4, 3)\n",
            "77.0\n",
            "77.0\n"
          ]
        }
      ]
    },
    {
      "cell_type": "code",
      "source": [
        "import tensorflow as tf\n",
        "import numpy as np\n",
        "a_tf = tf.random.normal([2, 3, 4])\n",
        "t1_tf = tf.transpose(a_tf, perm=[0, 2, 1])\n",
        "print(a_tf.shape)\n",
        "print(t1_tf.shape)"
      ],
      "metadata": {
        "colab": {
          "base_uri": "https://localhost:8080/"
        },
        "id": "jj7TFHtapDQ4",
        "outputId": "26db2eff-d1a1-4964-9ee4-a60676e7ef26"
      },
      "execution_count": null,
      "outputs": [
        {
          "output_type": "stream",
          "name": "stdout",
          "text": [
            "(2, 3, 4)\n",
            "(2, 4, 3)\n"
          ]
        }
      ]
    },
    {
      "cell_type": "code",
      "source": [
        "a=np.ones((2,1,3))\n",
        "b=np.ones((3,1))*2\n",
        "c=a+b\n",
        "c.shape\n"
      ],
      "metadata": {
        "colab": {
          "base_uri": "https://localhost:8080/"
        },
        "id": "DOLXcktlqDOQ",
        "outputId": "b21892f9-7b19-4897-8822-a7fb7e24f6a7"
      },
      "execution_count": null,
      "outputs": [
        {
          "output_type": "execute_result",
          "data": {
            "text/plain": [
              "(2, 3, 3)"
            ]
          },
          "metadata": {},
          "execution_count": 43
        }
      ]
    },
    {
      "cell_type": "code",
      "source": [
        "np.transpose(a,(0,2,1))"
      ],
      "metadata": {
        "colab": {
          "base_uri": "https://localhost:8080/"
        },
        "id": "DOEchZkCqTzE",
        "outputId": "0db52491-052f-44a5-8d43-1b3b8785cdb4"
      },
      "execution_count": null,
      "outputs": [
        {
          "output_type": "execute_result",
          "data": {
            "text/plain": [
              "array([[[1.],\n",
              "        [1.],\n",
              "        [1.]],\n",
              "\n",
              "       [[1.],\n",
              "        [1.],\n",
              "        [1.]]])"
            ]
          },
          "metadata": {},
          "execution_count": 44
        }
      ]
    },
    {
      "cell_type": "code",
      "source": [
        "np.transpose(b,(1,0))"
      ],
      "metadata": {
        "colab": {
          "base_uri": "https://localhost:8080/"
        },
        "id": "dnNUGD4WqZO2",
        "outputId": "31a83dc0-97ba-4dc7-b720-862fecb47a73"
      },
      "execution_count": null,
      "outputs": [
        {
          "output_type": "execute_result",
          "data": {
            "text/plain": [
              "array([[2., 2., 2.]])"
            ]
          },
          "metadata": {},
          "execution_count": 45
        }
      ]
    },
    {
      "cell_type": "markdown",
      "source": [
        "# dvice GPU 확인 및 사용"
      ],
      "metadata": {
        "id": "1T-uX3uQyuPD"
      }
    },
    {
      "cell_type": "code",
      "source": [
        "!nvidia-smi"
      ],
      "metadata": {
        "colab": {
          "base_uri": "https://localhost:8080/"
        },
        "id": "AflSsPQ5rAb4",
        "outputId": "171600de-43a9-4f87-9573-8cf2be725e75"
      },
      "execution_count": null,
      "outputs": [
        {
          "output_type": "stream",
          "name": "stdout",
          "text": [
            "Wed Apr  3 09:49:07 2024       \n",
            "+---------------------------------------------------------------------------------------+\n",
            "| NVIDIA-SMI 535.104.05             Driver Version: 535.104.05   CUDA Version: 12.2     |\n",
            "|-----------------------------------------+----------------------+----------------------+\n",
            "| GPU  Name                 Persistence-M | Bus-Id        Disp.A | Volatile Uncorr. ECC |\n",
            "| Fan  Temp   Perf          Pwr:Usage/Cap |         Memory-Usage | GPU-Util  Compute M. |\n",
            "|                                         |                      |               MIG M. |\n",
            "|=========================================+======================+======================|\n",
            "|   0  Tesla T4                       Off | 00000000:00:04.0 Off |                    0 |\n",
            "| N/A   40C    P0              26W /  70W |    107MiB / 15360MiB |      0%      Default |\n",
            "|                                         |                      |                  N/A |\n",
            "+-----------------------------------------+----------------------+----------------------+\n",
            "                                                                                         \n",
            "+---------------------------------------------------------------------------------------+\n",
            "| Processes:                                                                            |\n",
            "|  GPU   GI   CI        PID   Type   Process name                            GPU Memory |\n",
            "|        ID   ID                                                             Usage      |\n",
            "|=======================================================================================|\n",
            "+---------------------------------------------------------------------------------------+\n"
          ]
        }
      ]
    },
    {
      "cell_type": "code",
      "source": [
        "import torch\n",
        "\n",
        "print(torch.cuda.is_available())\n",
        "print(torch.cuda.device_count())\n",
        "print(torch.cuda.device_count())\n",
        "print(torch.cuda.current_device())\n",
        "print(torch.cuda.get_device_name(0))"
      ],
      "metadata": {
        "colab": {
          "base_uri": "https://localhost:8080/"
        },
        "id": "am2ehanCsIAL",
        "outputId": "7aab2718-8b23-4a69-b6bb-a17d36d2c4a8"
      },
      "execution_count": null,
      "outputs": [
        {
          "output_type": "stream",
          "name": "stdout",
          "text": [
            "True\n",
            "1\n",
            "1\n",
            "0\n",
            "Tesla T4\n"
          ]
        }
      ]
    },
    {
      "cell_type": "code",
      "source": [
        "a = torch.tensor([1,2,3])\n",
        "print(a.device)"
      ],
      "metadata": {
        "colab": {
          "base_uri": "https://localhost:8080/"
        },
        "id": "KCPFBhLxv_qS",
        "outputId": "98f5ef1d-63e5-487e-f7b8-7af5c3ea435c"
      },
      "execution_count": null,
      "outputs": [
        {
          "output_type": "stream",
          "name": "stdout",
          "text": [
            "cpu\n"
          ]
        }
      ]
    },
    {
      "cell_type": "code",
      "source": [
        "b=a.cpu()\n",
        "print(b.is_cpu)"
      ],
      "metadata": {
        "colab": {
          "base_uri": "https://localhost:8080/"
        },
        "id": "eu8KCFnswGwH",
        "outputId": "bb9913f2-d9cc-4011-df99-1a40dd6f02db"
      },
      "execution_count": null,
      "outputs": [
        {
          "output_type": "stream",
          "name": "stdout",
          "text": [
            "True\n"
          ]
        }
      ]
    },
    {
      "cell_type": "code",
      "source": [
        "c=a.to(device='cuda:0')\n",
        "print(c.is_cuda)"
      ],
      "metadata": {
        "colab": {
          "base_uri": "https://localhost:8080/"
        },
        "id": "wNeNDvOXwPst",
        "outputId": "ad096974-ab79-4821-ea1f-8fc65cf45eb3"
      },
      "execution_count": null,
      "outputs": [
        {
          "output_type": "stream",
          "name": "stdout",
          "text": [
            "True\n"
          ]
        }
      ]
    },
    {
      "cell_type": "code",
      "source": [
        "for i in (a,b,c):\n",
        "  print(i.dtype,i)\n"
      ],
      "metadata": {
        "colab": {
          "base_uri": "https://localhost:8080/"
        },
        "id": "iHiPHGf0wdUq",
        "outputId": "ada1901b-efbf-4c44-dea3-b84b181571d3"
      },
      "execution_count": null,
      "outputs": [
        {
          "output_type": "stream",
          "name": "stdout",
          "text": [
            "torch.int64 tensor([1, 2, 3])\n",
            "torch.int64 tensor([1, 2, 3])\n",
            "torch.int64 tensor([1, 2, 3], device='cuda:0')\n"
          ]
        }
      ]
    },
    {
      "cell_type": "code",
      "source": [
        "b[1]=999\n",
        "print(a)\n",
        "print(b)\n",
        "print(c)"
      ],
      "metadata": {
        "colab": {
          "base_uri": "https://localhost:8080/"
        },
        "id": "_aUJXyXzwud8",
        "outputId": "a2085c4c-8339-48d2-cc43-4a642e718a06"
      },
      "execution_count": null,
      "outputs": [
        {
          "output_type": "stream",
          "name": "stdout",
          "text": [
            "tensor([  1, 999,   3])\n",
            "tensor([  1, 999,   3])\n",
            "tensor([1, 2, 3], device='cuda:0')\n"
          ]
        }
      ]
    },
    {
      "cell_type": "code",
      "source": [
        "print(a.untyped_storage().data_ptr())\n",
        "print(b.untyped_storage().data_ptr())\n",
        "print(c.untyped_storage().data_ptr())\n"
      ],
      "metadata": {
        "colab": {
          "base_uri": "https://localhost:8080/"
        },
        "id": "MaSeE1dLw2IT",
        "outputId": "6e8397c7-8e06-4d04-bb48-06586b200480"
      },
      "execution_count": null,
      "outputs": [
        {
          "output_type": "stream",
          "name": "stdout",
          "text": [
            "101309116807616\n",
            "101309116807616\n",
            "136741983879168\n"
          ]
        }
      ]
    },
    {
      "cell_type": "code",
      "source": [
        "d=a.cuda(0)\n",
        "print(d.is_cuda)"
      ],
      "metadata": {
        "colab": {
          "base_uri": "https://localhost:8080/"
        },
        "id": "3iop1FUHxiyL",
        "outputId": "dd5e0c7d-6766-44bc-f0bb-250b42f35e67"
      },
      "execution_count": null,
      "outputs": [
        {
          "output_type": "stream",
          "name": "stdout",
          "text": [
            "True\n"
          ]
        }
      ]
    },
    {
      "cell_type": "code",
      "source": [
        "print(a)\n",
        "print(b)\n",
        "print(c)\n",
        "print(d)\n",
        "d[1]=777"
      ],
      "metadata": {
        "colab": {
          "base_uri": "https://localhost:8080/"
        },
        "id": "YBTM_1q_xu6g",
        "outputId": "d48b0e97-e4c9-4708-f95f-ebf78177ebc3"
      },
      "execution_count": null,
      "outputs": [
        {
          "output_type": "stream",
          "name": "stdout",
          "text": [
            "tensor([  1, 999,   3])\n",
            "tensor([  1, 999,   3])\n",
            "tensor([1, 2, 3], device='cuda:0')\n",
            "tensor([  1, 999,   3], device='cuda:0')\n"
          ]
        }
      ]
    },
    {
      "cell_type": "code",
      "source": [
        "b=a.to(\"cpu\",torch.float)\n",
        "\n",
        "print(id(a),a)\n",
        "print(id(b),b)\n",
        "print(id(c),c)"
      ],
      "metadata": {
        "colab": {
          "base_uri": "https://localhost:8080/"
        },
        "id": "RhLhdVQhx98-",
        "outputId": "09d205fc-8561-40eb-8c59-a3616bf1dbdf"
      },
      "execution_count": null,
      "outputs": [
        {
          "output_type": "stream",
          "name": "stdout",
          "text": [
            "136744426186656 tensor([  1, 999,   3])\n",
            "136742765463168 tensor([  1., 999.,   3.])\n",
            "136748340631792 tensor([1, 2, 3], device='cuda:0')\n"
          ]
        }
      ]
    },
    {
      "cell_type": "code",
      "source": [
        "b[1]=4\n",
        "\n",
        "print(a)\n",
        "print(b)\n",
        "print(c)"
      ],
      "metadata": {
        "colab": {
          "base_uri": "https://localhost:8080/"
        },
        "id": "wxnN6e1uybfz",
        "outputId": "46836111-4a66-4e5a-aabd-731207a6a820"
      },
      "execution_count": null,
      "outputs": [
        {
          "output_type": "stream",
          "name": "stdout",
          "text": [
            "tensor([  1, 999,   3])\n",
            "tensor([1., 4., 3.])\n",
            "tensor([1, 2, 3], device='cuda:0')\n"
          ]
        }
      ]
    },
    {
      "cell_type": "markdown",
      "source": [
        "# Storage: PyTorch 텐서를 위한 메모리 관리"
      ],
      "metadata": {
        "id": "13PMDL8q0b8E"
      }
    },
    {
      "cell_type": "code",
      "source": [
        "import torch\n",
        "\n",
        "x = torch.randn(3,3)\n",
        "\n",
        "x_storage = x.storage()\n",
        "\n",
        "print(x.storage)"
      ],
      "metadata": {
        "colab": {
          "base_uri": "https://localhost:8080/"
        },
        "id": "ketqdCVNy2PY",
        "outputId": "e0e14c05-b227-4444-d298-bdba31c3cfb3"
      },
      "execution_count": null,
      "outputs": [
        {
          "output_type": "stream",
          "name": "stdout",
          "text": [
            "<bound method Tensor.storage of tensor([[ 0.2359, -1.8609,  0.2126],\n",
            "        [-0.8458,  0.5130,  1.5436],\n",
            "        [ 2.0205,  0.1375,  2.4337]])>\n"
          ]
        },
        {
          "output_type": "stream",
          "name": "stderr",
          "text": [
            "<ipython-input-58-a23b520c60b2>:5: UserWarning: TypedStorage is deprecated. It will be removed in the future and UntypedStorage will be the only storage class. This should only matter to you if you are using storages directly.  To access UntypedStorage directly, use tensor.untyped_storage() instead of tensor.storage()\n",
            "  x_storage = x.storage()\n"
          ]
        }
      ]
    },
    {
      "cell_type": "code",
      "source": [
        "import torch\n",
        "\n",
        "a = torch.tensor([range(i,i+3) for i in [0,3,6]])\n",
        "\n",
        "print(a)"
      ],
      "metadata": {
        "colab": {
          "base_uri": "https://localhost:8080/"
        },
        "id": "74aLPwAN0zFa",
        "outputId": "b339f1c5-6e77-4403-9008-01da37725fbb"
      },
      "execution_count": null,
      "outputs": [
        {
          "output_type": "stream",
          "name": "stdout",
          "text": [
            "tensor([[0, 1, 2],\n",
            "        [3, 4, 5],\n",
            "        [6, 7, 8]])\n"
          ]
        }
      ]
    },
    {
      "cell_type": "code",
      "source": [
        "a_sub = a[1:,0]\n",
        "print(a_sub)"
      ],
      "metadata": {
        "colab": {
          "base_uri": "https://localhost:8080/"
        },
        "id": "vrdorZke1CVa",
        "outputId": "4edd7ddc-9fef-4269-bedf-8bb465a0a9d2"
      },
      "execution_count": null,
      "outputs": [
        {
          "output_type": "stream",
          "name": "stdout",
          "text": [
            "tensor([3, 6])\n"
          ]
        }
      ]
    },
    {
      "cell_type": "code",
      "source": [
        "print(a.is_contiguous(), a_sub.is_contiguous())"
      ],
      "metadata": {
        "colab": {
          "base_uri": "https://localhost:8080/"
        },
        "id": "uc7QWkf11JbX",
        "outputId": "f7e75e1d-ca34-4cb1-dfa5-e2a423bbc82e"
      },
      "execution_count": null,
      "outputs": [
        {
          "output_type": "stream",
          "name": "stdout",
          "text": [
            "True False\n"
          ]
        }
      ]
    },
    {
      "cell_type": "code",
      "source": [
        "print(a.storage().data_ptr() == a_sub.storage().data_ptr())"
      ],
      "metadata": {
        "colab": {
          "base_uri": "https://localhost:8080/"
        },
        "id": "04KG1Lyn1OCU",
        "outputId": "fbc3bce3-fd27-410f-ab00-ca2bc6d90aaa"
      },
      "execution_count": null,
      "outputs": [
        {
          "output_type": "stream",
          "name": "stdout",
          "text": [
            "True\n"
          ]
        }
      ]
    },
    {
      "cell_type": "code",
      "source": [
        "print(id(a.storage()) == id(a_sub.storage()))"
      ],
      "metadata": {
        "colab": {
          "base_uri": "https://localhost:8080/"
        },
        "id": "dS7KS0hZ1POg",
        "outputId": "3ea61676-db38-47ce-fc2f-fe93611738ab"
      },
      "execution_count": null,
      "outputs": [
        {
          "output_type": "stream",
          "name": "stdout",
          "text": [
            "False\n"
          ]
        }
      ]
    },
    {
      "cell_type": "code",
      "source": [
        "print(f\"{a.shape=}, {a.size()=}, {a.stride()=}, {a.storage_offset()=}\")\n",
        "print(f\"{a_sub.shape=}, {a_sub.size()=}, {a_sub.stride()=}, {a_sub.storage_offset()=}\")"
      ],
      "metadata": {
        "colab": {
          "base_uri": "https://localhost:8080/"
        },
        "id": "mYhrRnxu1k4G",
        "outputId": "e9bcf031-c49f-4d2d-8ee8-6376a58bc9e9"
      },
      "execution_count": null,
      "outputs": [
        {
          "output_type": "stream",
          "name": "stdout",
          "text": [
            "a.shape=torch.Size([3, 3]), a.size()=torch.Size([3, 3]), a.stride()=(3, 1), a.storage_offset()=0\n",
            "a_sub.shape=torch.Size([2]), a_sub.size()=torch.Size([2]), a_sub.stride()=(3,), a_sub.storage_offset()=3\n"
          ]
        }
      ]
    },
    {
      "cell_type": "markdown",
      "source": [
        "# View 와 Reshape 에서의 underlying data 공유여부\n",
        "- PyTorch의 Tensor 인스턴스의 shape는 view 나 reshape  메서드를 통해 변경가능한데,\n",
        "\n",
        "  - view 의 경우, 해당 인스턴스가 contiguous한 경우에만 사용가능함."
      ],
      "metadata": {
        "id": "NCxtbjie2HsR"
      }
    },
    {
      "cell_type": "markdown",
      "source": [
        "- Transpose와 Permute 에서의 underlying data 공유여부\n",
        "  - Transpose와 Permute를 통해 얻어진 인스턴스에서는 contiguous는 깨지게 된다."
      ],
      "metadata": {
        "id": "b3bOetPN2XfM"
      }
    },
    {
      "cell_type": "markdown",
      "source": [
        "\n",
        "\n",
        "\n",
        "\n",
        "## PyTorch: Autograd (Basic)\n",
        "\n",
        "\n"
      ],
      "metadata": {
        "id": "GNaYAWc44ELH"
      }
    },
    {
      "cell_type": "markdown",
      "source": [
        "1. requires_grad\n",
        "2. backward()\n",
        "3. .grad\n",
        "4. .grad.zeros_()"
      ],
      "metadata": {
        "id": "hMPNMSUB5EyW"
      }
    },
    {
      "cell_type": "code",
      "source": [
        "!pip install --quiet torchviz"
      ],
      "metadata": {
        "id": "JsBPN0JC4IKt"
      },
      "execution_count": null,
      "outputs": []
    },
    {
      "cell_type": "code",
      "source": [
        "import numpy as np\n",
        "import torch\n",
        "\n",
        "\n",
        "from IPython.display import display\n",
        "from torchviz import make_dot\n",
        "\n",
        "for c in [np,torch]:\n",
        "  print(c.__name__,c.__version__)\n"
      ],
      "metadata": {
        "colab": {
          "base_uri": "https://localhost:8080/"
        },
        "id": "4bFPn5wk8bVn",
        "outputId": "73898560-8d87-4019-e750-2e244d227f40"
      },
      "execution_count": null,
      "outputs": [
        {
          "output_type": "stream",
          "name": "stdout",
          "text": [
            "numpy 1.25.2\n",
            "torch 2.2.1+cu121\n"
          ]
        }
      ]
    },
    {
      "cell_type": "code",
      "source": [
        "x_np=np.arange(-1,1,0.5)\n",
        "\n",
        "x=torch.tensor(x_np,dtype=torch.float32)\n",
        "x.requires_grad=True\n",
        "\n",
        "display(x)\n",
        "\n",
        "y = 3 * x + 10\n",
        "\n",
        "display(y)"
      ],
      "metadata": {
        "colab": {
          "base_uri": "https://localhost:8080/",
          "height": 53
        },
        "id": "U59IoKiL9hxV",
        "outputId": "6f17eb4c-1f98-4091-9fe3-f14919929939"
      },
      "execution_count": null,
      "outputs": [
        {
          "output_type": "display_data",
          "data": {
            "text/plain": [
              "tensor([-1.0000, -0.5000,  0.0000,  0.5000], requires_grad=True)"
            ]
          },
          "metadata": {}
        },
        {
          "output_type": "display_data",
          "data": {
            "text/plain": [
              "tensor([ 7.0000,  8.5000, 10.0000, 11.5000], grad_fn=<AddBackward0>)"
            ]
          },
          "metadata": {}
        }
      ]
    },
    {
      "cell_type": "markdown",
      "source": [
        "### 1. requires_grad 를 True로 설정."
      ],
      "metadata": {
        "id": "ml_QDLFf-klM"
      }
    },
    {
      "cell_type": "markdown",
      "source": [
        "- 편미분을 구할 Tensor 인스턴스에 대해 requires_grad=True 가 되도록하여,\n",
        "\n",
        "해당 Tensor 인스턴스에 대한 연산을 추적하고, 자동으로 gradient를 계산할 수 있도록 수행."
      ],
      "metadata": {
        "id": "g2PE-wXN-nD4"
      }
    },
    {
      "cell_type": "markdown",
      "source": [
        "- x.requires_grad :\n",
        "grad 를 구하기위해 forward propagation에서\n",
        "gradient를 구하기 위해 필요한 연산 및 중간값을 추적하여 기록할지 여부를 나타냄"
      ],
      "metadata": {
        "id": "4_GjFiKH-pqJ"
      }
    },
    {
      "cell_type": "markdown",
      "source": [
        "- x.is_leaf:\n",
        "계산 그래프에서 “leaf node\"인지 여부를 나타냄.\n",
        "leaf node는 다른 tensor를 기반으로하는 어떤 연산을 통해 생성되지 않은 tensor로서 직접적으로 생성한 것들임.\n",
        "만약 tensor 가 다른 tensor로부터 어떤 연산을 통해 생성되었다면, is_leaf 속성은 False임."
      ],
      "metadata": {
        "id": "4B55_W1e-uMI"
      }
    },
    {
      "cell_type": "markdown",
      "source": [
        "- x.grad_fn:\n",
        "텐서가 다른 텐서들의 연산을 통해 생성된 경우(=leaf node가 아닌 경우),\n",
        "grad_fn은 해당 연산을 나타내며,\n",
        "이 정보를 통해 back-propagation 에서 gradient를 계산할 때 어떤 연산을 통해 편미분을 계산하는지 알 수 있음.\n"
      ],
      "metadata": {
        "id": "70-6Egso-wE8"
      }
    },
    {
      "cell_type": "markdown",
      "source": [
        "- x.grad:\n",
        "tensor 인스턴스 x 에 대해 수행된 마지막 .backward() 연산으로부터 계산된 gradient가 저장됨.\n",
        "x의 requires_grad = True일 때,\n",
        "PyTorch는 x에 대한 모든 연산을 추적하며\n",
        ".backward()가 호출될 때 자동으로 gradient를 계산하여 x.grad에 저장"
      ],
      "metadata": {
        "id": "OnqoVEM3-ywe"
      }
    },
    {
      "cell_type": "markdown",
      "source": [
        "- 만약 x가 scalar가 아닌 경우, .backward() 호출 시 gradient의 shape를 지정하는 argument를 전달해야함\n",
        "(.backward()를 호출하는 tensor와 같은 shape 이며 각 요소로 scalar 1을 가지는 tensor 인스턴스가 주로 argument로 사용됨.)"
      ],
      "metadata": {
        "id": "ts71qoDE-093"
      }
    },
    {
      "cell_type": "code",
      "source": [
        "\n",
        "import matplotlib.pyplot as pit\n",
        "pit.plot(\n",
        "    x.detach().numpy(),\n",
        "    y.detach().numpy()\n",
        ")\n"
      ],
      "metadata": {
        "colab": {
          "base_uri": "https://localhost:8080/",
          "height": 448
        },
        "id": "n0DqD1Fd-4GK",
        "outputId": "7ac40266-d96a-4a07-b7eb-01b2d68ec0cc"
      },
      "execution_count": null,
      "outputs": [
        {
          "output_type": "execute_result",
          "data": {
            "text/plain": [
              "[<matplotlib.lines.Line2D at 0x78086cf6b400>]"
            ]
          },
          "metadata": {},
          "execution_count": 24
        },
        {
          "output_type": "display_data",
          "data": {
            "text/plain": [
              "<Figure size 640x480 with 1 Axes>"
            ],
            "image/png": "[encoded data removed]"
          },
          "metadata": {}
        }
      ]
    },
    {
      "cell_type": "code",
      "source": [
        "import numpy as np\n",
        "\n",
        "y.backward(torch.ones_like(y),retain_graph=True)\n",
        "display(x.grad)\n",
        "\n",
        "# 다시 backward를 하기 전 꼭 초기화할것.\n",
        "# 안하면 누적되기 때문임.\n",
        "# 우선 누적되는 여부를 보기 위해 주석처리가 되어 있음.\n",
        "#x.grad.zero_() #inplace op."
      ],
      "metadata": {
        "colab": {
          "base_uri": "https://localhost:8080/",
          "height": 35
        },
        "id": "zv2ctmBJ_5rQ",
        "outputId": "4ea1d727-5bf2-4bed-eff9-fdd9740e5784"
      },
      "execution_count": null,
      "outputs": [
        {
          "output_type": "display_data",
          "data": {
            "text/plain": [
              "tensor([5., 5., 5., 5.])"
            ]
          },
          "metadata": {}
        }
      ]
    },
    {
      "cell_type": "code",
      "source": [
        "cg=make_dot(y, params={\"input\":x, \"output\":y})\n",
        "\n",
        "cg.render(\"graph\",view=True)\n",
        "display(cg)"
      ],
      "metadata": {
        "colab": {
          "base_uri": "https://localhost:8080/",
          "height": 379
        },
        "id": "Ul8aloBtX_Dw",
        "outputId": "ac324ede-f099-41f8-f3e6-c189ee414a2f"
      },
      "execution_count": null,
      "outputs": [
        {
          "output_type": "display_data",
          "data": {
            "image/svg+xml": "<?xml version=\"1.0\" encoding=\"UTF-8\" standalone=\"no\"?>\n<!DOCTYPE svg PUBLIC \"-//W3C//DTD SVG 1.1//EN\"\n \"http://www.w3.org/Graphics/SVG/1.1/DTD/svg11.dtd\">\n<!-- Generated by graphviz version 2.43.0 (0)\n -->\n<!-- Title: %3 Pages: 1 -->\n<svg width=\"109pt\" height=\"269pt\"\n viewBox=\"0.00 0.00 109.00 269.00\" xmlns=\"http://www.w3.org/2000/svg\" xmlns:xlink=\"http://www.w3.org/1999/xlink\">\n<g id=\"graph0\" class=\"graph\" transform=\"scale(1 1) rotate(0) translate(4 265)\">\n<title>%3</title>\n<polygon fill=\"white\" stroke=\"transparent\" points=\"-4,4 -4,-265 105,-265 105,4 -4,4\"/>\n<!-- 131977638666272 -->\n<g id=\"node1\" class=\"node\">\n<title>131977638666272</title>\n<polygon fill=\"#caff70\" stroke=\"black\" points=\"77.5,-30 23.5,-30 23.5,0 77.5,0 77.5,-30\"/>\n<text text-anchor=\"middle\" x=\"50.5\" y=\"-18\" font-family=\"monospace\" font-size=\"10.00\">output</text>\n<text text-anchor=\"middle\" x=\"50.5\" y=\"-7\" font-family=\"monospace\" font-size=\"10.00\"> (4)</text>\n</g>\n<!-- 131977582954480 -->\n<g id=\"node2\" class=\"node\">\n<title>131977582954480</title>\n<polygon fill=\"lightgrey\" stroke=\"black\" points=\"95,-85 6,-85 6,-66 95,-66 95,-85\"/>\n<text text-anchor=\"middle\" x=\"50.5\" y=\"-73\" font-family=\"monospace\" font-size=\"10.00\">AddBackward0</text>\n</g>\n<!-- 131977582954480&#45;&gt;131977638666272 -->\n<g id=\"edge4\" class=\"edge\">\n<title>131977582954480&#45;&gt;131977638666272</title>\n<path fill=\"none\" stroke=\"black\" d=\"M50.5,-65.87C50.5,-59.11 50.5,-49.35 50.5,-40.26\"/>\n<polygon fill=\"black\" stroke=\"black\" points=\"54,-40.11 50.5,-30.11 47,-40.11 54,-40.11\"/>\n</g>\n<!-- 131977582958464 -->\n<g id=\"node3\" class=\"node\">\n<title>131977582958464</title>\n<polygon fill=\"lightgrey\" stroke=\"black\" points=\"95,-140 6,-140 6,-121 95,-121 95,-140\"/>\n<text text-anchor=\"middle\" x=\"50.5\" y=\"-128\" font-family=\"monospace\" font-size=\"10.00\">MulBackward0</text>\n</g>\n<!-- 131977582958464&#45;&gt;131977582954480 -->\n<g id=\"edge1\" class=\"edge\">\n<title>131977582958464&#45;&gt;131977582954480</title>\n<path fill=\"none\" stroke=\"black\" d=\"M50.5,-120.75C50.5,-113.8 50.5,-103.85 50.5,-95.13\"/>\n<polygon fill=\"black\" stroke=\"black\" points=\"54,-95.09 50.5,-85.09 47,-95.09 54,-95.09\"/>\n</g>\n<!-- 131977582962016 -->\n<g id=\"node4\" class=\"node\">\n<title>131977582962016</title>\n<polygon fill=\"lightgrey\" stroke=\"black\" points=\"101,-195 0,-195 0,-176 101,-176 101,-195\"/>\n<text text-anchor=\"middle\" x=\"50.5\" y=\"-183\" font-family=\"monospace\" font-size=\"10.00\">AccumulateGrad</text>\n</g>\n<!-- 131977582962016&#45;&gt;131977582958464 -->\n<g id=\"edge2\" class=\"edge\">\n<title>131977582962016&#45;&gt;131977582958464</title>\n<path fill=\"none\" stroke=\"black\" d=\"M50.5,-175.75C50.5,-168.8 50.5,-158.85 50.5,-150.13\"/>\n<polygon fill=\"black\" stroke=\"black\" points=\"54,-150.09 50.5,-140.09 47,-150.09 54,-150.09\"/>\n</g>\n<!-- 131977639887152 -->\n<g id=\"node5\" class=\"node\">\n<title>131977639887152</title>\n<polygon fill=\"lightblue\" stroke=\"black\" points=\"77.5,-261 23.5,-261 23.5,-231 77.5,-231 77.5,-261\"/>\n<text text-anchor=\"middle\" x=\"50.5\" y=\"-249\" font-family=\"monospace\" font-size=\"10.00\">input</text>\n<text text-anchor=\"middle\" x=\"50.5\" y=\"-238\" font-family=\"monospace\" font-size=\"10.00\"> (4)</text>\n</g>\n<!-- 131977639887152&#45;&gt;131977582962016 -->\n<g id=\"edge3\" class=\"edge\">\n<title>131977639887152&#45;&gt;131977582962016</title>\n<path fill=\"none\" stroke=\"black\" d=\"M50.5,-230.84C50.5,-223.21 50.5,-213.7 50.5,-205.45\"/>\n<polygon fill=\"black\" stroke=\"black\" points=\"54,-205.27 50.5,-195.27 47,-205.27 54,-205.27\"/>\n</g>\n</g>\n</svg>\n",
            "text/plain": [
              "<graphviz.graphs.Digraph at 0x780866b80d30>"
            ]
          },
          "metadata": {}
        }
      ]
    },
    {
      "cell_type": "code",
      "source": [
        "#grad를 초기화하지 않고 다른 loss에서의 grad 계산을 수행시\n",
        "y2=2*x\n",
        "y2.backward(torch.ones_like(y2))\n",
        "display(x.grad) #앞서의 3과 현재의 2가 더해져 5로 나옴."
      ],
      "metadata": {
        "colab": {
          "base_uri": "https://localhost:8080/",
          "height": 35
        },
        "id": "oWAL9YJF9yMv",
        "outputId": "bab57e08-af03-4957-f07f-4ef7bdd7fe41"
      },
      "execution_count": null,
      "outputs": [
        {
          "output_type": "display_data",
          "data": {
            "text/plain": [
              "tensor([7., 7., 7., 7.])"
            ]
          },
          "metadata": {}
        }
      ]
    },
    {
      "cell_type": "markdown",
      "source": [
        "- * 초기화를 꼭 해주어야 함\n"
      ],
      "metadata": {
        "id": "h6ytEBTBC3po"
      }
    },
    {
      "cell_type": "code",
      "source": [
        "cg=make_dot(y2)\n",
        "display(cg)"
      ],
      "metadata": {
        "colab": {
          "base_uri": "https://localhost:8080/",
          "height": 308
        },
        "id": "2QwUgCzndwRD",
        "outputId": "676ab5e2-3b77-4d92-cd22-b81889a584d2"
      },
      "execution_count": null,
      "outputs": [
        {
          "output_type": "display_data",
          "data": {
            "image/svg+xml": "<?xml version=\"1.0\" encoding=\"UTF-8\" standalone=\"no\"?>\n<!DOCTYPE svg PUBLIC \"-//W3C//DTD SVG 1.1//EN\"\n \"http://www.w3.org/Graphics/SVG/1.1/DTD/svg11.dtd\">\n<!-- Generated by graphviz version 2.43.0 (0)\n -->\n<!-- Title: %3 Pages: 1 -->\n<svg width=\"109pt\" height=\"216pt\"\n viewBox=\"0.00 0.00 109.00 216.00\" xmlns=\"http://www.w3.org/2000/svg\" xmlns:xlink=\"http://www.w3.org/1999/xlink\">\n<g id=\"graph0\" class=\"graph\" transform=\"scale(1 1) rotate(0) translate(4 212)\">\n<title>%3</title>\n<polygon fill=\"white\" stroke=\"transparent\" points=\"-4,4 -4,-212 105,-212 105,4 -4,4\"/>\n<!-- 131977653334112 -->\n<g id=\"node1\" class=\"node\">\n<title>131977653334112</title>\n<polygon fill=\"#caff70\" stroke=\"black\" points=\"77.5,-31 23.5,-31 23.5,0 77.5,0 77.5,-31\"/>\n<text text-anchor=\"middle\" x=\"50.5\" y=\"-7\" font-family=\"monospace\" font-size=\"10.00\"> (4)</text>\n</g>\n<!-- 131977582962352 -->\n<g id=\"node2\" class=\"node\">\n<title>131977582962352</title>\n<polygon fill=\"lightgrey\" stroke=\"black\" points=\"95,-86 6,-86 6,-67 95,-67 95,-86\"/>\n<text text-anchor=\"middle\" x=\"50.5\" y=\"-74\" font-family=\"monospace\" font-size=\"10.00\">MulBackward0</text>\n</g>\n<!-- 131977582962352&#45;&gt;131977653334112 -->\n<g id=\"edge3\" class=\"edge\">\n<title>131977582962352&#45;&gt;131977653334112</title>\n<path fill=\"none\" stroke=\"black\" d=\"M50.5,-66.79C50.5,-60.07 50.5,-50.4 50.5,-41.34\"/>\n<polygon fill=\"black\" stroke=\"black\" points=\"54,-41.19 50.5,-31.19 47,-41.19 54,-41.19\"/>\n</g>\n<!-- 131977582962304 -->\n<g id=\"node3\" class=\"node\">\n<title>131977582962304</title>\n<polygon fill=\"lightgrey\" stroke=\"black\" points=\"101,-141 0,-141 0,-122 101,-122 101,-141\"/>\n<text text-anchor=\"middle\" x=\"50.5\" y=\"-129\" font-family=\"monospace\" font-size=\"10.00\">AccumulateGrad</text>\n</g>\n<!-- 131977582962304&#45;&gt;131977582962352 -->\n<g id=\"edge1\" class=\"edge\">\n<title>131977582962304&#45;&gt;131977582962352</title>\n<path fill=\"none\" stroke=\"black\" d=\"M50.5,-121.75C50.5,-114.8 50.5,-104.85 50.5,-96.13\"/>\n<polygon fill=\"black\" stroke=\"black\" points=\"54,-96.09 50.5,-86.09 47,-96.09 54,-96.09\"/>\n</g>\n<!-- 131977639899872 -->\n<g id=\"node4\" class=\"node\">\n<title>131977639899872</title>\n<polygon fill=\"lightblue\" stroke=\"black\" points=\"77.5,-208 23.5,-208 23.5,-177 77.5,-177 77.5,-208\"/>\n<text text-anchor=\"middle\" x=\"50.5\" y=\"-184\" font-family=\"monospace\" font-size=\"10.00\"> (4)</text>\n</g>\n<!-- 131977639899872&#45;&gt;131977582962304 -->\n<g id=\"edge2\" class=\"edge\">\n<title>131977639899872&#45;&gt;131977582962304</title>\n<path fill=\"none\" stroke=\"black\" d=\"M50.5,-176.92C50.5,-169.22 50.5,-159.69 50.5,-151.43\"/>\n<polygon fill=\"black\" stroke=\"black\" points=\"54,-151.25 50.5,-141.25 47,-151.25 54,-151.25\"/>\n</g>\n</g>\n</svg>\n",
            "text/plain": [
              "<graphviz.graphs.Digraph at 0x78086cf34dc0>"
            ]
          },
          "metadata": {}
        }
      ]
    },
    {
      "cell_type": "markdown",
      "source": [
        "*아래 코딩을 가장 중요한 부분 다시 해보기"
      ],
      "metadata": {
        "id": "iVcaKmL_GtLh"
      }
    },
    {
      "cell_type": "code",
      "source": [
        "import torch\n",
        "\n",
        "\n",
        "\n"
      ],
      "metadata": {
        "id": "rUy9jN4jEQCc"
      },
      "execution_count": null,
      "outputs": []
    },
    {
      "cell_type": "code",
      "source": [
        "x = torch.tensor([2.0], requires_grad=True)"
      ],
      "metadata": {
        "id": "ez1SbkukmAPf"
      },
      "execution_count": null,
      "outputs": []
    },
    {
      "cell_type": "code",
      "source": [
        "x.requires_grad\n",
        "\n"
      ],
      "metadata": {
        "colab": {
          "base_uri": "https://localhost:8080/"
        },
        "id": "PZTdgeaiii8H",
        "outputId": "28ba9678-b735-4990-abc2-0a6717ea42a5"
      },
      "execution_count": null,
      "outputs": [
        {
          "output_type": "execute_result",
          "data": {
            "text/plain": [
              "True"
            ]
          },
          "metadata": {},
          "execution_count": 12
        }
      ]
    },
    {
      "cell_type": "code",
      "source": [
        "\n",
        "def print_ten(x):\n",
        "  print(f'{x.requires_grad=}\\n{x.is_leaf=}\\n{x.grad_fn=}\\n{x.grad=}')\n",
        "\n",
        "print_ten(x)"
      ],
      "metadata": {
        "colab": {
          "base_uri": "https://localhost:8080/"
        },
        "id": "dF_FAsEPivI3",
        "outputId": "c0437c43-ae36-4fe3-ce00-e5b174987d6b"
      },
      "execution_count": null,
      "outputs": [
        {
          "output_type": "stream",
          "name": "stdout",
          "text": [
            "x.requires_grad=True\n",
            "x.is_leaf=True\n",
            "x.grad_fn=None\n",
            "x.grad=None\n"
          ]
        }
      ]
    },
    {
      "cell_type": "markdown",
      "source": [],
      "metadata": {
        "id": "gltN1qBdHnA4"
      }
    },
    {
      "cell_type": "code",
      "source": [
        "a = 2*x +10\n",
        "a.retain_grad()\n",
        "\n",
        "b = 3*a\n",
        "b.retain_grad()\n",
        "\n",
        "c = 2*b\n",
        "c.retain_grad()\n",
        "\n",
        "l=torch.sum(c)\n",
        "display(x)\n",
        "display(l)\n"
      ],
      "metadata": {
        "id": "PUCVk5b6Eq_U",
        "colab": {
          "base_uri": "https://localhost:8080/",
          "height": 53
        },
        "outputId": "8ddc5d76-7686-4674-bf67-da4c27f062ca"
      },
      "execution_count": null,
      "outputs": [
        {
          "output_type": "display_data",
          "data": {
            "text/plain": [
              "tensor([2.], requires_grad=True)"
            ]
          },
          "metadata": {}
        },
        {
          "output_type": "display_data",
          "data": {
            "text/plain": [
              "tensor(84., grad_fn=<SumBackward0>)"
            ]
          },
          "metadata": {}
        }
      ]
    },
    {
      "cell_type": "code",
      "source": [
        "\n",
        "l.backward()\n",
        "\n",
        "for c in [x,a,b,c]:\n",
        "  print_ten(c)\n",
        "  print('-----------')\n",
        "  c.grad.zero_()\n"
      ],
      "metadata": {
        "colab": {
          "base_uri": "https://localhost:8080/"
        },
        "id": "7e1-ubWRf1Dd",
        "outputId": "83890c46-4ae0-4e5a-a49f-716e6535fd2a"
      },
      "execution_count": null,
      "outputs": [
        {
          "output_type": "stream",
          "name": "stdout",
          "text": [
            "x.requires_grad=True\n",
            "x.is_leaf=True\n",
            "x.grad_fn=None\n",
            "x.grad=tensor([12.])\n",
            "-----------\n",
            "x.requires_grad=True\n",
            "x.is_leaf=False\n",
            "x.grad_fn=<AddBackward0 object at 0x7ad92fdb2380>\n",
            "x.grad=tensor([6.])\n",
            "-----------\n",
            "x.requires_grad=True\n",
            "x.is_leaf=False\n",
            "x.grad_fn=<MulBackward0 object at 0x7ad85c209780>\n",
            "x.grad=tensor([2.])\n",
            "-----------\n",
            "x.requires_grad=True\n",
            "x.is_leaf=False\n",
            "x.grad_fn=<MulBackward0 object at 0x7ad85c209270>\n",
            "x.grad=tensor([1.])\n",
            "-----------\n"
          ]
        }
      ]
    },
    {
      "cell_type": "code",
      "source": [
        "\n",
        "c.backward( torch.ones(c.shape) )\n",
        "print(x.grad)\n",
        "?"
      ],
      "metadata": {
        "id": "bSPRSscXgKjp",
        "colab": {
          "base_uri": "https://localhost:8080/",
          "height": 442
        },
        "outputId": "9001baa1-0cc6-4876-a155-367c069b567d"
      },
      "execution_count": null,
      "outputs": [
        {
          "output_type": "error",
          "ename": "RuntimeError",
          "evalue": "Trying to backward through the graph a second time (or directly access saved tensors after they have already been freed). Saved intermediate values of the graph are freed when you call .backward() or autograd.grad(). Specify retain_graph=True if you need to backward through the graph a second time or if you need to access saved tensors after calling backward.",
          "traceback": [
            "\u001b[0;31m---------------------------------------------------------------------------\u001b[0m",
            "\u001b[0;31mRuntimeError\u001b[0m                              Traceback (most recent call last)",
            "\u001b[0;32m<ipython-input-16-ae641ca0d54b>\u001b[0m in \u001b[0;36m<cell line: 1>\u001b[0;34m()\u001b[0m\n\u001b[0;32m----> 1\u001b[0;31m \u001b[0mc\u001b[0m\u001b[0;34m.\u001b[0m\u001b[0mbackward\u001b[0m\u001b[0;34m(\u001b[0m \u001b[0mtorch\u001b[0m\u001b[0;34m.\u001b[0m\u001b[0mones\u001b[0m\u001b[0;34m(\u001b[0m\u001b[0mc\u001b[0m\u001b[0;34m.\u001b[0m\u001b[0mshape\u001b[0m\u001b[0;34m)\u001b[0m \u001b[0;34m)\u001b[0m\u001b[0;34m\u001b[0m\u001b[0;34m\u001b[0m\u001b[0m\n\u001b[0m\u001b[1;32m      2\u001b[0m \u001b[0mprint\u001b[0m\u001b[0;34m(\u001b[0m\u001b[0mx\u001b[0m\u001b[0;34m.\u001b[0m\u001b[0mgrad\u001b[0m\u001b[0;34m)\u001b[0m\u001b[0;34m\u001b[0m\u001b[0;34m\u001b[0m\u001b[0m\n\u001b[1;32m      3\u001b[0m \u001b[0mget_ipython\u001b[0m\u001b[0;34m(\u001b[0m\u001b[0;34m)\u001b[0m\u001b[0;34m.\u001b[0m\u001b[0mshow_usage\u001b[0m\u001b[0;34m(\u001b[0m\u001b[0;34m)\u001b[0m\u001b[0;34m\u001b[0m\u001b[0;34m\u001b[0m\u001b[0m\n",
            "\u001b[0;32m/usr/local/lib/python3.10/dist-packages/torch/_tensor.py\u001b[0m in \u001b[0;36mbackward\u001b[0;34m(self, gradient, retain_graph, create_graph, inputs)\u001b[0m\n\u001b[1;32m    520\u001b[0m                 \u001b[0minputs\u001b[0m\u001b[0;34m=\u001b[0m\u001b[0minputs\u001b[0m\u001b[0;34m,\u001b[0m\u001b[0;34m\u001b[0m\u001b[0;34m\u001b[0m\u001b[0m\n\u001b[1;32m    521\u001b[0m             )\n\u001b[0;32m--> 522\u001b[0;31m         torch.autograd.backward(\n\u001b[0m\u001b[1;32m    523\u001b[0m             \u001b[0mself\u001b[0m\u001b[0;34m,\u001b[0m \u001b[0mgradient\u001b[0m\u001b[0;34m,\u001b[0m \u001b[0mretain_graph\u001b[0m\u001b[0;34m,\u001b[0m \u001b[0mcreate_graph\u001b[0m\u001b[0;34m,\u001b[0m \u001b[0minputs\u001b[0m\u001b[0;34m=\u001b[0m\u001b[0minputs\u001b[0m\u001b[0;34m\u001b[0m\u001b[0;34m\u001b[0m\u001b[0m\n\u001b[1;32m    524\u001b[0m         )\n",
            "\u001b[0;32m/usr/local/lib/python3.10/dist-packages/torch/autograd/__init__.py\u001b[0m in \u001b[0;36mbackward\u001b[0;34m(tensors, grad_tensors, retain_graph, create_graph, grad_variables, inputs)\u001b[0m\n\u001b[1;32m    264\u001b[0m     \u001b[0;31m# some Python versions print out the first line of a multi-line function\u001b[0m\u001b[0;34m\u001b[0m\u001b[0;34m\u001b[0m\u001b[0m\n\u001b[1;32m    265\u001b[0m     \u001b[0;31m# calls in the traceback and some print out the last line\u001b[0m\u001b[0;34m\u001b[0m\u001b[0;34m\u001b[0m\u001b[0m\n\u001b[0;32m--> 266\u001b[0;31m     Variable._execution_engine.run_backward(  # Calls into the C++ engine to run the backward pass\n\u001b[0m\u001b[1;32m    267\u001b[0m         \u001b[0mtensors\u001b[0m\u001b[0;34m,\u001b[0m\u001b[0;34m\u001b[0m\u001b[0;34m\u001b[0m\u001b[0m\n\u001b[1;32m    268\u001b[0m         \u001b[0mgrad_tensors_\u001b[0m\u001b[0;34m,\u001b[0m\u001b[0;34m\u001b[0m\u001b[0;34m\u001b[0m\u001b[0m\n",
            "\u001b[0;31mRuntimeError\u001b[0m: Trying to backward through the graph a second time (or directly access saved tensors after they have already been freed). Saved intermediate values of the graph are freed when you call .backward() or autograd.grad(). Specify retain_graph=True if you need to backward through the graph a second time or if you need to access saved tensors after calling backward."
          ]
        }
      ]
    }
  ]
}