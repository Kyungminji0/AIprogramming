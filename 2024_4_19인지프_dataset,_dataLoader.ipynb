{
  "nbformat": 4,
  "nbformat_minor": 0,
  "metadata": {
    "colab": {
      "provenance": []
    },
    "kernelspec": {
      "name": "python3",
      "display_name": "Python 3"
    },
    "language_info": {
      "name": "python"
    }
  },
  "cells": [
    {
      "cell_type": "code",
      "execution_count": null,
      "metadata": {
        "id": "PYHOmiiUuwgI"
      },
      "outputs": [],
      "source": [
        "from collections.abc import Sized\n",
        "class sub_sized:\n",
        "  def __len__(self):\n",
        "      print('=====')\n",
        "      return 10"
      ]
    },
    {
      "cell_type": "code",
      "source": [
        "a= sub_sized()\n",
        "len(a)"
      ],
      "metadata": {
        "colab": {
          "base_uri": "https://localhost:8080/"
        },
        "id": "uNS4jx-du_gl",
        "outputId": "e071fc4f-9743-45ad-accb-3ce0fc1f0fd5"
      },
      "execution_count": null,
      "outputs": [
        {
          "output_type": "stream",
          "name": "stdout",
          "text": [
            "=====\n"
          ]
        },
        {
          "output_type": "execute_result",
          "data": {
            "text/plain": [
              "10"
            ]
          },
          "metadata": {},
          "execution_count": 6
        }
      ]
    },
    {
      "cell_type": "code",
      "source": [
        "import torch\n",
        "from torch.utils.data import Dataset\n",
        "\n",
        "class CustomDataset(Dataset):\n",
        "    def __init__(self, data, labels):\n",
        "        self.data = torch.tensor(data).float()\n",
        "        self.labels = torch.tensor(labels).float()\n",
        "\n",
        "    def __len__(self):\n",
        "        return len(self.data)\n",
        "\n",
        "    def __getitem__(self, idx):\n",
        "        sample = self.data[idx]\n",
        "        label = self.labels[idx]\n",
        "        return sample, label\n",
        "\n",
        "x = [0.5,  14.0, 15.0, 28.0, 11.0,  8.0,  3.0, -4.0,  6.0, 13.0, 21.0]\n",
        "y = [35.7, 55.9, 58.2, 81.9, 56.3, 48.9, 33.9, 21.8, 48.4, 60.4, 68.4]\n",
        "\n",
        "dataset = CustomDataset(x, y)"
      ],
      "metadata": {
        "id": "mGRgOcC8vcVF"
      },
      "execution_count": null,
      "outputs": []
    },
    {
      "cell_type": "code",
      "source": [
        "CustomDataset.mro()"
      ],
      "metadata": {
        "colab": {
          "base_uri": "https://localhost:8080/"
        },
        "id": "yYSsx-9czkV5",
        "outputId": "66ab8f22-ac12-41d7-b5f0-83ec2cc6eeab"
      },
      "execution_count": null,
      "outputs": [
        {
          "output_type": "execute_result",
          "data": {
            "text/plain": [
              "[__main__.CustomDataset,\n",
              " torch.utils.data.dataset.Dataset,\n",
              " typing.Generic,\n",
              " object]"
            ]
          },
          "metadata": {},
          "execution_count": 8
        }
      ]
    },
    {
      "cell_type": "code",
      "source": [
        "from collections.abc import Iterator,Iterable\n",
        "\n",
        "isinstance(dataset,Iterator)\n",
        "isinstance(dataset,Dataset)"
      ],
      "metadata": {
        "colab": {
          "base_uri": "https://localhost:8080/"
        },
        "id": "1FNaL1xCz3Y6",
        "outputId": "dec0381f-18e8-43bf-c4d5-b349d25e21ca"
      },
      "execution_count": null,
      "outputs": [
        {
          "output_type": "execute_result",
          "data": {
            "text/plain": [
              "True"
            ]
          },
          "metadata": {},
          "execution_count": 14
        }
      ]
    },
    {
      "cell_type": "code",
      "source": [
        "i = iter(dataset)\n",
        "print(next(i))"
      ],
      "metadata": {
        "colab": {
          "base_uri": "https://localhost:8080/"
        },
        "id": "dVR7Yht91xRj",
        "outputId": "e4719509-d5d7-4410-eba4-6f9a91d11dcb"
      },
      "execution_count": null,
      "outputs": [
        {
          "output_type": "stream",
          "name": "stdout",
          "text": [
            "(tensor(0.5000), tensor(35.7000))\n"
          ]
        }
      ]
    },
    {
      "cell_type": "code",
      "source": [
        "from torch.utils.data import DataLoader\n",
        "\n",
        "data_loader = DataLoader(\n",
        "    dataset,\n",
        "    batch_size = 4,\n",
        "    shuffle = False,\n",
        "    drop_last = False,\n",
        ")\n",
        "\n",
        "for batch_idx, (data, labels) in enumerate(data_loader):\n",
        "    print(f'{batch_idx=}')\n",
        "    print(f'{data.shape} | {data=}')\n",
        "    print(f'{labels.shape} | {labels=}')\n",
        "    print('-----------')\n",
        "\n",
        "    # training ..."
      ],
      "metadata": {
        "colab": {
          "base_uri": "https://localhost:8080/"
        },
        "id": "L7lVQn0M2Kym",
        "outputId": "7d4e6dbb-9535-4125-e24c-7814acf3ad34"
      },
      "execution_count": null,
      "outputs": [
        {
          "output_type": "stream",
          "name": "stdout",
          "text": [
            "batch_idx=0\n",
            "torch.Size([4]) | data=tensor([ 0.5000, 14.0000, 15.0000, 28.0000])\n",
            "torch.Size([4]) | labels=tensor([35.7000, 55.9000, 58.2000, 81.9000])\n",
            "-----------\n",
            "batch_idx=1\n",
            "torch.Size([4]) | data=tensor([11.,  8.,  3., -4.])\n",
            "torch.Size([4]) | labels=tensor([56.3000, 48.9000, 33.9000, 21.8000])\n",
            "-----------\n",
            "batch_idx=2\n",
            "torch.Size([3]) | data=tensor([ 6., 13., 21.])\n",
            "torch.Size([3]) | labels=tensor([48.4000, 60.4000, 68.4000])\n",
            "-----------\n"
          ]
        }
      ]
    },
    {
      "cell_type": "code",
      "source": [
        "x"
      ],
      "metadata": {
        "colab": {
          "base_uri": "https://localhost:8080/"
        },
        "id": "W7ZbgTIN6I4u",
        "outputId": "99e9686b-7194-4d63-8d21-85f03c86616e"
      },
      "execution_count": null,
      "outputs": [
        {
          "output_type": "execute_result",
          "data": {
            "text/plain": [
              "[0.5, 14.0, 15.0, 28.0, 11.0, 8.0, 3.0, -4.0, 6.0, 13.0, 21.0]"
            ]
          },
          "metadata": {},
          "execution_count": 17
        }
      ]
    }
  ]
}