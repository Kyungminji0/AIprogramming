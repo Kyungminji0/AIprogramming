{
  "nbformat": 4,
  "nbformat_minor": 0,
  "metadata": {
    "colab": {
      "provenance": []
    },
    "kernelspec": {
      "name": "python3",
      "display_name": "Python 3"
    },
    "language_info": {
      "name": "python"
    }
  },
  "cells": [
    {
      "cell_type": "code",
      "execution_count": null,
      "metadata": {
        "colab": {
          "base_uri": "https://localhost:8080/"
        },
        "id": "_TS074rki-xr",
        "outputId": "4b2cd381-886b-4999-8620-eebf30f56372"
      },
      "outputs": [
        {
          "output_type": "stream",
          "name": "stdout",
          "text": [
            "numpy 1.25.2\n",
            "torch 2.2.1+cu121\n",
            "tensorflow 2.15.0\n"
          ]
        }
      ],
      "source": [
        "import numpy as np\n",
        "import torch\n",
        "import tensorflow as tf\n",
        "\n",
        "for c in [np, torch, tf]:\n",
        "   print(c.__name__,c.__version__)\n",
        "\n"
      ]
    },
    {
      "cell_type": "code",
      "source": [
        "ori = [1,2,3,4]\n",
        "a_np=np.array(ori)\n",
        "a_torch=torch.tensor(ori)\n",
        "a_tf=tf.constant(ori)\n",
        "\n",
        "print(a_np)\n",
        "print(a_torch)\n",
        "print(a_tf)"
      ],
      "metadata": {
        "colab": {
          "base_uri": "https://localhost:8080/"
        },
        "id": "Eanx3V5KjxC3",
        "outputId": "5fe6a864-ba19-4e77-e8ed-404272749555"
      },
      "execution_count": null,
      "outputs": [
        {
          "output_type": "stream",
          "name": "stdout",
          "text": [
            "[1 2 3 4]\n",
            "tensor([1, 2, 3, 4])\n",
            "tf.Tensor([1 2 3 4], shape=(4,), dtype=int32)\n"
          ]
        }
      ]
    },
    {
      "cell_type": "code",
      "source": [
        "b_np=a_torch.numpy()\n",
        "b_np"
      ],
      "metadata": {
        "colab": {
          "base_uri": "https://localhost:8080/"
        },
        "id": "wGn5jv6amPx6",
        "outputId": "64e2ce17-a7de-4c78-9b4b-b548d044a36c"
      },
      "execution_count": null,
      "outputs": [
        {
          "output_type": "execute_result",
          "data": {
            "text/plain": [
              "array([1, 2, 3, 4])"
            ]
          },
          "metadata": {},
          "execution_count": 3
        }
      ]
    },
    {
      "cell_type": "code",
      "source": [
        "b_np[2]=777\n",
        "b_np"
      ],
      "metadata": {
        "colab": {
          "base_uri": "https://localhost:8080/"
        },
        "id": "KdvgNRd8k6Cv",
        "outputId": "2cd5b01f-88f0-47c8-de95-26e0a04bec22"
      },
      "execution_count": null,
      "outputs": [
        {
          "output_type": "execute_result",
          "data": {
            "text/plain": [
              "array([  1,   2, 777,   4])"
            ]
          },
          "metadata": {},
          "execution_count": 4
        }
      ]
    },
    {
      "cell_type": "code",
      "source": [
        "a_torch"
      ],
      "metadata": {
        "colab": {
          "base_uri": "https://localhost:8080/"
        },
        "id": "qvyFSQD3mAi1",
        "outputId": "702f76b6-47d7-4e1f-df58-fb1558bad259"
      },
      "execution_count": null,
      "outputs": [
        {
          "output_type": "execute_result",
          "data": {
            "text/plain": [
              "tensor([  1,   2, 777,   4])"
            ]
          },
          "metadata": {},
          "execution_count": 5
        }
      ]
    },
    {
      "cell_type": "code",
      "source": [
        "t = [1,2,3,4]\n",
        "\n",
        "a_np=np.array(t)\n",
        "\n",
        "a_torch=torch.tensor(a_np)\n",
        "a_tf=tf.constant(a_np)\n",
        "\n",
        "\n",
        "print(a_np)\n",
        "print(a_torch)\n",
        "print(a_tf)"
      ],
      "metadata": {
        "colab": {
          "base_uri": "https://localhost:8080/"
        },
        "id": "1h6KbD6FmlVc",
        "outputId": "c4f96439-b63c-4853-88d2-5263e63adb67"
      },
      "execution_count": null,
      "outputs": [
        {
          "output_type": "stream",
          "name": "stdout",
          "text": [
            "[1 2 3 4]\n",
            "tensor([1, 2, 3, 4])\n",
            "tf.Tensor([1 2 3 4], shape=(4,), dtype=int64)\n"
          ]
        }
      ]
    },
    {
      "cell_type": "code",
      "source": [
        "a_torch[3]=888\n",
        "b_np[3]"
      ],
      "metadata": {
        "colab": {
          "base_uri": "https://localhost:8080/"
        },
        "id": "YUPv5oWTnIme",
        "outputId": "bf23c303-8d3e-46bd-a99d-aa0a320971c6"
      },
      "execution_count": null,
      "outputs": [
        {
          "output_type": "execute_result",
          "data": {
            "text/plain": [
              "4"
            ]
          },
          "metadata": {},
          "execution_count": 7
        }
      ]
    },
    {
      "cell_type": "code",
      "source": [
        "b_np=a_tf.numpy()\n",
        "b_np\n"
      ],
      "metadata": {
        "colab": {
          "base_uri": "https://localhost:8080/"
        },
        "id": "1qFdSN2DnOOB",
        "outputId": "9d665642-f5ea-4987-ff11-9e8c4cdea7bb"
      },
      "execution_count": null,
      "outputs": [
        {
          "output_type": "execute_result",
          "data": {
            "text/plain": [
              "array([1, 2, 3, 4])"
            ]
          },
          "metadata": {},
          "execution_count": 8
        }
      ]
    },
    {
      "cell_type": "code",
      "source": [
        "a_tf"
      ],
      "metadata": {
        "colab": {
          "base_uri": "https://localhost:8080/"
        },
        "id": "mxChb5meplmi",
        "outputId": "2a7e9bbd-b8fd-4fb3-828d-d636776a3eb2"
      },
      "execution_count": null,
      "outputs": [
        {
          "output_type": "execute_result",
          "data": {
            "text/plain": [
              "<tf.Tensor: shape=(4,), dtype=int64, numpy=array([1, 2, 3, 4])>"
            ]
          },
          "metadata": {},
          "execution_count": 9
        }
      ]
    },
    {
      "cell_type": "code",
      "source": [
        "t=[1,2,3,4]\n",
        "\n",
        "a_np=np.array(t)\n",
        "a_torch=torch.tensor(a_np)\n",
        "a_tf=tf.constant(a_np)\n",
        "\n",
        "print(a_np)\n",
        "print(a_torch)\n",
        "print(a_tf)\n",
        "\n",
        "a_torch[2] = 777\n",
        "a_np\n",
        "\n",
        "b_torch =torch.from_numpy(a_np)\n",
        "b_torch = 888\n",
        "a_np"
      ],
      "metadata": {
        "colab": {
          "base_uri": "https://localhost:8080/"
        },
        "id": "ENbyFfc2qK9c",
        "outputId": "7e6a6ea8-f57f-4969-faa9-ac10b09ac975"
      },
      "execution_count": null,
      "outputs": [
        {
          "output_type": "stream",
          "name": "stdout",
          "text": [
            "[1 2 3 4]\n",
            "tensor([1, 2, 3, 4])\n",
            "tf.Tensor([1 2 3 4], shape=(4,), dtype=int64)\n"
          ]
        },
        {
          "output_type": "execute_result",
          "data": {
            "text/plain": [
              "array([1, 2, 3, 4])"
            ]
          },
          "metadata": {},
          "execution_count": 11
        }
      ]
    },
    {
      "cell_type": "code",
      "source": [
        "a_torch.dtype"
      ],
      "metadata": {
        "colab": {
          "base_uri": "https://localhost:8080/"
        },
        "id": "OZxkkFBfrcFi",
        "outputId": "9112a188-e57f-4a4f-9611-aba9e689c42e"
      },
      "execution_count": null,
      "outputs": [
        {
          "output_type": "execute_result",
          "data": {
            "text/plain": [
              "torch.int64"
            ]
          },
          "metadata": {},
          "execution_count": 12
        }
      ]
    },
    {
      "cell_type": "code",
      "source": [
        "a_torch.to(dtype = torch.float32)"
      ],
      "metadata": {
        "colab": {
          "base_uri": "https://localhost:8080/"
        },
        "id": "T0bcdfSBrtD8",
        "outputId": "519d56f6-f24e-433e-8119-0d09f9163fb9"
      },
      "execution_count": null,
      "outputs": [
        {
          "output_type": "execute_result",
          "data": {
            "text/plain": [
              "tensor([  1.,   2., 777.,   4.])"
            ]
          },
          "metadata": {},
          "execution_count": 13
        }
      ]
    },
    {
      "cell_type": "code",
      "source": [
        "a_torch.dtype"
      ],
      "metadata": {
        "colab": {
          "base_uri": "https://localhost:8080/"
        },
        "id": "d9D7WY41r5Sb",
        "outputId": "1d05be14-8d69-4fc8-afa3-f97269ca436a"
      },
      "execution_count": null,
      "outputs": [
        {
          "output_type": "execute_result",
          "data": {
            "text/plain": [
              "torch.int64"
            ]
          },
          "metadata": {},
          "execution_count": 14
        }
      ]
    },
    {
      "cell_type": "code",
      "source": [
        "ori"
      ],
      "metadata": {
        "colab": {
          "base_uri": "https://localhost:8080/"
        },
        "id": "QLDvSnTCsBcb",
        "outputId": "6a55e30f-892a-4f93-f0b4-c519e392eb37"
      },
      "execution_count": null,
      "outputs": [
        {
          "output_type": "execute_result",
          "data": {
            "text/plain": [
              "[1, 2, 3, 4]"
            ]
          },
          "metadata": {},
          "execution_count": 15
        }
      ]
    },
    {
      "cell_type": "code",
      "source": [
        "sorted(ori)"
      ],
      "metadata": {
        "colab": {
          "base_uri": "https://localhost:8080/"
        },
        "id": "ThNSwPqEsECK",
        "outputId": "8141e58f-3124-4a26-d717-fce01594b0ad"
      },
      "execution_count": null,
      "outputs": [
        {
          "output_type": "execute_result",
          "data": {
            "text/plain": [
              "[1, 2, 3, 4]"
            ]
          },
          "metadata": {},
          "execution_count": 16
        }
      ]
    },
    {
      "cell_type": "code",
      "source": [
        "ori.sort()"
      ],
      "metadata": {
        "id": "BD-ETCLIsIBn"
      },
      "execution_count": null,
      "outputs": []
    },
    {
      "cell_type": "code",
      "source": [
        "ori=[3,2,1,4]\n",
        "ori.sort()\n",
        "ori"
      ],
      "metadata": {
        "colab": {
          "base_uri": "https://localhost:8080/"
        },
        "id": "uMSVo4KfsZVo",
        "outputId": "e6a685a9-522b-46ec-e94b-e8aef10cb632"
      },
      "execution_count": null,
      "outputs": [
        {
          "output_type": "execute_result",
          "data": {
            "text/plain": [
              "[1, 2, 3, 4]"
            ]
          },
          "metadata": {},
          "execution_count": 19
        }
      ]
    },
    {
      "cell_type": "code",
      "source": [
        "a=np.arange(0,10,1)\n",
        "b=a.reshape((2,5))\n",
        "print(a.shape,id(a))\n",
        "print(b.shape,id(b))\n",
        "c=np.reshape(a,(5,2))\n",
        "print(c.shape,id(c))\n",
        "c[0,0]=1000\n",
        "print(a)\n",
        "print(b)\n",
        "print(c)"
      ],
      "metadata": {
        "colab": {
          "base_uri": "https://localhost:8080/"
        },
        "id": "wieH-OhexNjE",
        "outputId": "274ba1d7-6174-4eb2-db2b-22bcc308a9c2"
      },
      "execution_count": null,
      "outputs": [
        {
          "output_type": "stream",
          "name": "stdout",
          "text": [
            "(10,) 138068067005904\n",
            "(2, 5) 138068064971120\n",
            "(5, 2) 138068064975536\n",
            "[1000    1    2    3    4    5    6    7    8    9]\n",
            "[[1000    1    2    3    4]\n",
            " [   5    6    7    8    9]]\n",
            "[[1000    1]\n",
            " [   2    3]\n",
            " [   4    5]\n",
            " [   6    7]\n",
            " [   8    9]]\n"
          ]
        }
      ]
    },
    {
      "cell_type": "code",
      "source": [
        "a_tensor = tf.range(0,10,1)\n",
        "b_tensor = tf.reshape(a_tensor,(2,5))\n",
        "# b_tensor = a_tensor.reshape((2,5)) # not working\n",
        "print(a_tensor.shape,id(a_tensor))\n",
        "print(b_tensor.shape,id(b_tensor))\n",
        "\n",
        "c_tensor = tf.reshape(a_tensor,(5,2))\n",
        "print(c_tensor.shape,id(c_tensor))\n",
        "\n",
        "# 변경하고 싶은 위치와 값을 정의\n",
        "indices = tf.constant([[0, 0]]) # (2, 2) 위치를 변경하고자 함\n",
        "updates = tf.constant([999]) # 해당 위치에 넣고 싶은 값\n",
        "\n",
        "# 업데이트 적용\n",
        "c_tensor = tf.tensor_scatter_nd_update(c_tensor, indices, updates)\n",
        "\n",
        "print(a_tensor)\n",
        "print(b_tensor)\n",
        "print(c_tensor)\n"
      ],
      "metadata": {
        "colab": {
          "base_uri": "https://localhost:8080/"
        },
        "id": "S3SzFX1rzmYA",
        "outputId": "5e36a318-b0d6-46c4-dbf4-46453b9166f4"
      },
      "execution_count": null,
      "outputs": [
        {
          "output_type": "stream",
          "name": "stdout",
          "text": [
            "(10,) 138068371110928\n",
            "(2, 5) 138068371105296\n",
            "(5, 2) 138068371107408\n",
            "tf.Tensor([0 1 2 3 4 5 6 7 8 9], shape=(10,), dtype=int32)\n",
            "tf.Tensor(\n",
            "[[0 1 2 3 4]\n",
            " [5 6 7 8 9]], shape=(2, 5), dtype=int32)\n",
            "tf.Tensor(\n",
            "[[999   1]\n",
            " [  2   3]\n",
            " [  4   5]\n",
            " [  6   7]\n",
            " [  8   9]], shape=(5, 2), dtype=int32)\n"
          ]
        }
      ]
    },
    {
      "cell_type": "code",
      "source": [
        "a=np.arange(0,12).reshape(3,4)\n",
        "\n",
        "print(a)\n",
        "print('===============')\n",
        "print(f'a[0]  is \"{a[0]}\"')\n",
        "print(f'a[0,2]  is \"{a[0,2]}\"')\n",
        "print(f'a[0][2]  is \"{a[0,2]}\"')\n",
        "print('===============')\n",
        "print(f'a[1,2:]  is \"{a[1,2:]}\"')\n",
        "print(f'a[1,::2]  is \"{a[1,::2]}\"')\n",
        "print(f'a[1,::-2]  is \"{a[1,::-2]}\"')\n",
        "print(f'a[1,::-1]  is \"{a[1,::-1]}\"')\n",
        "\n",
        "print(f'a[1,3:0:-1]  is \"{a[1,3:0:-1]}\"')\n",
        "\n",
        "\n"
      ],
      "metadata": {
        "colab": {
          "base_uri": "https://localhost:8080/"
        },
        "id": "c6ennO3Q0bSF",
        "outputId": "57f9a07c-2931-4919-87ba-467412533266"
      },
      "execution_count": null,
      "outputs": [
        {
          "output_type": "stream",
          "name": "stdout",
          "text": [
            "[[ 0  1  2  3]\n",
            " [ 4  5  6  7]\n",
            " [ 8  9 10 11]]\n",
            "===============\n",
            "a[0]  is \"[0 1 2 3]\"\n",
            "a[0,2]  is \"2\"\n",
            "a[0][2]  is \"2\"\n",
            "===============\n",
            "a[1,2:]  is \"[6 7]\"\n",
            "a[1,::2]  is \"[4 6]\"\n",
            "a[1,::-2]  is \"[7 5]\"\n",
            "a[1,::-1]  is \"[7 6 5 4]\"\n",
            "a[1,3:0:-1]  is \"[7 6 5]\"\n"
          ]
        }
      ]
    },
    {
      "cell_type": "code",
      "source": [
        "x = np.arange(3*3*3).reshape(3,3,3) * 10\n",
        "\n",
        "print('original:')\n",
        "print(x)\n",
        "print('----------')\n",
        "print('boolean mask:')\n",
        "b = x <= 270/2\n",
        "print(b.shape)\n",
        "print(b)\n",
        "print('----------')\n",
        "print('x <= 135')\n",
        "print(x[b])\n",
        "print('----------')\n",
        "print(x[x<=270/2])\n",
        "print('----------')\n",
        "print('----------')\n",
        "print('x <= 135 | x>= 200')\n",
        "b1 = b | (x >= 200)\n",
        "print('----------')\n",
        "print('boolean mask')\n",
        "print(b1)\n",
        "print('----------')\n",
        "print(x[b1])\n",
        "print('----------')\n",
        "print(x[ (x<=270/2) | (x>=200)])"
      ],
      "metadata": {
        "colab": {
          "base_uri": "https://localhost:8080/"
        },
        "id": "Kzhhgxys6Qhe",
        "outputId": "0ac92d0b-ed8f-4419-cf13-657289fb7053"
      },
      "execution_count": null,
      "outputs": [
        {
          "output_type": "stream",
          "name": "stdout",
          "text": [
            "original:\n",
            "[[[  0  10  20]\n",
            "  [ 30  40  50]\n",
            "  [ 60  70  80]]\n",
            "\n",
            " [[ 90 100 110]\n",
            "  [120 130 140]\n",
            "  [150 160 170]]\n",
            "\n",
            " [[180 190 200]\n",
            "  [210 220 230]\n",
            "  [240 250 260]]]\n",
            "----------\n",
            "boolean mask:\n",
            "(3, 3, 3)\n",
            "[[[ True  True  True]\n",
            "  [ True  True  True]\n",
            "  [ True  True  True]]\n",
            "\n",
            " [[ True  True  True]\n",
            "  [ True  True False]\n",
            "  [False False False]]\n",
            "\n",
            " [[False False False]\n",
            "  [False False False]\n",
            "  [False False False]]]\n",
            "----------\n",
            "x <= 135\n",
            "[  0  10  20  30  40  50  60  70  80  90 100 110 120 130]\n",
            "----------\n",
            "[  0  10  20  30  40  50  60  70  80  90 100 110 120 130]\n",
            "----------\n",
            "----------\n",
            "x <= 135 | x>= 200\n",
            "----------\n",
            "boolean mask\n",
            "[[[ True  True  True]\n",
            "  [ True  True  True]\n",
            "  [ True  True  True]]\n",
            "\n",
            " [[ True  True  True]\n",
            "  [ True  True False]\n",
            "  [False False False]]\n",
            "\n",
            " [[False False  True]\n",
            "  [ True  True  True]\n",
            "  [ True  True  True]]]\n",
            "----------\n",
            "[  0  10  20  30  40  50  60  70  80  90 100 110 120 130 200 210 220 230\n",
            " 240 250 260]\n",
            "----------\n",
            "[  0  10  20  30  40  50  60  70  80  90 100 110 120 130 200 210 220 230\n",
            " 240 250 260]\n"
          ]
        }
      ]
    },
    {
      "cell_type": "code",
      "source": [
        "a=np.arange(0,6).reshape(2,3)\n",
        "\n",
        "print(a)"
      ],
      "metadata": {
        "colab": {
          "base_uri": "https://localhost:8080/"
        },
        "id": "_GYOrNZo7iXN",
        "outputId": "d9e58d84-3ce1-483e-d29a-544c75cacf13"
      },
      "execution_count": null,
      "outputs": [
        {
          "output_type": "stream",
          "name": "stdout",
          "text": [
            "[[0 1 2]\n",
            " [3 4 5]]\n"
          ]
        }
      ]
    },
    {
      "cell_type": "code",
      "source": [
        "b=a<3\n",
        "b"
      ],
      "metadata": {
        "colab": {
          "base_uri": "https://localhost:8080/"
        },
        "id": "fP8W0gFz7quk",
        "outputId": "31aaae01-7fd9-4997-b7a0-e828377ecb90"
      },
      "execution_count": null,
      "outputs": [
        {
          "output_type": "execute_result",
          "data": {
            "text/plain": [
              "array([[ True,  True,  True],\n",
              "       [False, False, False]])"
            ]
          },
          "metadata": {},
          "execution_count": 27
        }
      ]
    },
    {
      "cell_type": "code",
      "source": [
        "c=a[a<3]\n",
        "c"
      ],
      "metadata": {
        "colab": {
          "base_uri": "https://localhost:8080/"
        },
        "id": "Ss_Nbbrn7vPV",
        "outputId": "a006163c-0831-4b97-bd0c-dbe2ae2cf30f"
      },
      "execution_count": null,
      "outputs": [
        {
          "output_type": "execute_result",
          "data": {
            "text/plain": [
              "array([0, 1, 2])"
            ]
          },
          "metadata": {},
          "execution_count": 28
        }
      ]
    },
    {
      "cell_type": "code",
      "source": [
        "i=np.where(a<3)\n",
        "i"
      ],
      "metadata": {
        "colab": {
          "base_uri": "https://localhost:8080/"
        },
        "id": "I0QarhoF7yWF",
        "outputId": "c97e77b3-22c8-45d8-ee47-6494c4db6318"
      },
      "execution_count": null,
      "outputs": [
        {
          "output_type": "execute_result",
          "data": {
            "text/plain": [
              "(array([0, 0, 0]), array([0, 1, 2]))"
            ]
          },
          "metadata": {},
          "execution_count": 29
        }
      ]
    }
  ]
}